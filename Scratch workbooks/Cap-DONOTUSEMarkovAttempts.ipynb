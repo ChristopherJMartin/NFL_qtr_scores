{
 "cells": [
  {
   "cell_type": "code",
   "execution_count": 1,
   "metadata": {},
   "outputs": [],
   "source": [
    "import numpy as np\n",
    "import pandas as pd"
   ]
  },
  {
   "cell_type": "code",
   "execution_count": 2,
   "metadata": {},
   "outputs": [],
   "source": [
    "#Set viewing options\n",
    "pd.set_option('display.max_columns', None)  \n",
    "pd.set_option('display.expand_frame_repr', False)"
   ]
  },
  {
   "cell_type": "code",
   "execution_count": 3,
   "metadata": {},
   "outputs": [],
   "source": [
    "games = pd.read_csv('data/NoDatesMasterGames_2000to2019.csv')"
   ]
  },
  {
   "cell_type": "code",
   "execution_count": 4,
   "metadata": {},
   "outputs": [
    {
     "name": "stdout",
     "output_type": "stream",
     "text": [
      "<class 'pandas.core.frame.DataFrame'>\n",
      "RangeIndex: 5324 entries, 0 to 5323\n",
      "Data columns (total 13 columns):\n",
      " #   Column  Non-Null Count  Dtype \n",
      "---  ------  --------------  ----- \n",
      " 0   GameID  5324 non-null   object\n",
      " 1   Week    5324 non-null   int64 \n",
      " 2   Vteam   5324 non-null   object\n",
      " 3   VQ1     5324 non-null   int64 \n",
      " 4   VQ2     5324 non-null   int64 \n",
      " 5   VQ3     5324 non-null   int64 \n",
      " 6   VQ4     5324 non-null   int64 \n",
      " 7   Year    5324 non-null   int64 \n",
      " 8   Hteam   5324 non-null   object\n",
      " 9   HQ1     5324 non-null   int64 \n",
      " 10  HQ2     5324 non-null   int64 \n",
      " 11  HQ3     5324 non-null   int64 \n",
      " 12  HQ4     5324 non-null   int64 \n",
      "dtypes: int64(10), object(3)\n",
      "memory usage: 540.8+ KB\n"
     ]
    }
   ],
   "source": [
    "games.info()"
   ]
  },
  {
   "cell_type": "code",
   "execution_count": 7,
   "metadata": {},
   "outputs": [
    {
     "data": {
      "text/html": [
       "<div>\n",
       "<style scoped>\n",
       "    .dataframe tbody tr th:only-of-type {\n",
       "        vertical-align: middle;\n",
       "    }\n",
       "\n",
       "    .dataframe tbody tr th {\n",
       "        vertical-align: top;\n",
       "    }\n",
       "\n",
       "    .dataframe thead th {\n",
       "        text-align: right;\n",
       "    }\n",
       "</style>\n",
       "<table border=\"1\" class=\"dataframe\">\n",
       "  <thead>\n",
       "    <tr style=\"text-align: right;\">\n",
       "      <th></th>\n",
       "      <th>GameID</th>\n",
       "      <th>Week</th>\n",
       "      <th>Vteam</th>\n",
       "      <th>VQ1</th>\n",
       "      <th>VQ2</th>\n",
       "      <th>VQ3</th>\n",
       "      <th>VQ4</th>\n",
       "      <th>Year</th>\n",
       "      <th>Hteam</th>\n",
       "      <th>HQ1</th>\n",
       "      <th>HQ2</th>\n",
       "      <th>HQ3</th>\n",
       "      <th>HQ4</th>\n",
       "    </tr>\n",
       "  </thead>\n",
       "  <tbody>\n",
       "    <tr>\n",
       "      <th>5319</th>\n",
       "      <td>2019-DV-Vikings49ers</td>\n",
       "      <td>200</td>\n",
       "      <td>Vikings</td>\n",
       "      <td>7</td>\n",
       "      <td>3</td>\n",
       "      <td>0</td>\n",
       "      <td>0</td>\n",
       "      <td>2019</td>\n",
       "      <td>49ers</td>\n",
       "      <td>7</td>\n",
       "      <td>7</td>\n",
       "      <td>10</td>\n",
       "      <td>3</td>\n",
       "    </tr>\n",
       "    <tr>\n",
       "      <th>5320</th>\n",
       "      <td>2019-DV-TitansRavens</td>\n",
       "      <td>200</td>\n",
       "      <td>Titans</td>\n",
       "      <td>7</td>\n",
       "      <td>7</td>\n",
       "      <td>14</td>\n",
       "      <td>0</td>\n",
       "      <td>2019</td>\n",
       "      <td>Ravens</td>\n",
       "      <td>0</td>\n",
       "      <td>6</td>\n",
       "      <td>0</td>\n",
       "      <td>6</td>\n",
       "    </tr>\n",
       "    <tr>\n",
       "      <th>5321</th>\n",
       "      <td>2019-CC-TitansChiefs</td>\n",
       "      <td>300</td>\n",
       "      <td>Titans</td>\n",
       "      <td>10</td>\n",
       "      <td>7</td>\n",
       "      <td>0</td>\n",
       "      <td>7</td>\n",
       "      <td>2019</td>\n",
       "      <td>Chiefs</td>\n",
       "      <td>7</td>\n",
       "      <td>14</td>\n",
       "      <td>0</td>\n",
       "      <td>14</td>\n",
       "    </tr>\n",
       "    <tr>\n",
       "      <th>5322</th>\n",
       "      <td>2019-CC-Packers49ers</td>\n",
       "      <td>300</td>\n",
       "      <td>Packers</td>\n",
       "      <td>0</td>\n",
       "      <td>0</td>\n",
       "      <td>7</td>\n",
       "      <td>13</td>\n",
       "      <td>2019</td>\n",
       "      <td>49ers</td>\n",
       "      <td>7</td>\n",
       "      <td>20</td>\n",
       "      <td>7</td>\n",
       "      <td>3</td>\n",
       "    </tr>\n",
       "    <tr>\n",
       "      <th>5323</th>\n",
       "      <td>2019-SB-49ersChiefs</td>\n",
       "      <td>400</td>\n",
       "      <td>49ers</td>\n",
       "      <td>3</td>\n",
       "      <td>7</td>\n",
       "      <td>10</td>\n",
       "      <td>0</td>\n",
       "      <td>2019</td>\n",
       "      <td>Chiefs</td>\n",
       "      <td>7</td>\n",
       "      <td>3</td>\n",
       "      <td>0</td>\n",
       "      <td>21</td>\n",
       "    </tr>\n",
       "  </tbody>\n",
       "</table>\n",
       "</div>"
      ],
      "text/plain": [
       "                    GameID  Week    Vteam  VQ1  VQ2  VQ3  VQ4  Year   Hteam  HQ1  HQ2  HQ3  HQ4\n",
       "5319  2019-DV-Vikings49ers   200  Vikings    7    3    0    0  2019   49ers    7    7   10    3\n",
       "5320  2019-DV-TitansRavens   200   Titans    7    7   14    0  2019  Ravens    0    6    0    6\n",
       "5321  2019-CC-TitansChiefs   300   Titans   10    7    0    7  2019  Chiefs    7   14    0   14\n",
       "5322  2019-CC-Packers49ers   300  Packers    0    0    7   13  2019   49ers    7   20    7    3\n",
       "5323   2019-SB-49ersChiefs   400    49ers    3    7   10    0  2019  Chiefs    7    3    0   21"
      ]
     },
     "execution_count": 7,
     "metadata": {},
     "output_type": "execute_result"
    }
   ],
   "source": [
    "games.tail()"
   ]
  },
  {
   "cell_type": "code",
   "execution_count": 9,
   "metadata": {},
   "outputs": [],
   "source": [
    "games_Bears = games[(games.Vteam=='Bears')|(games.Hteam=='Bears')]"
   ]
  },
  {
   "cell_type": "code",
   "execution_count": 12,
   "metadata": {},
   "outputs": [
    {
     "data": {
      "text/html": [
       "<div>\n",
       "<style scoped>\n",
       "    .dataframe tbody tr th:only-of-type {\n",
       "        vertical-align: middle;\n",
       "    }\n",
       "\n",
       "    .dataframe tbody tr th {\n",
       "        vertical-align: top;\n",
       "    }\n",
       "\n",
       "    .dataframe thead th {\n",
       "        text-align: right;\n",
       "    }\n",
       "</style>\n",
       "<table border=\"1\" class=\"dataframe\">\n",
       "  <thead>\n",
       "    <tr style=\"text-align: right;\">\n",
       "      <th></th>\n",
       "      <th>GameID</th>\n",
       "      <th>Week</th>\n",
       "      <th>Vteam</th>\n",
       "      <th>VQ1</th>\n",
       "      <th>VQ2</th>\n",
       "      <th>VQ3</th>\n",
       "      <th>VQ4</th>\n",
       "      <th>Year</th>\n",
       "      <th>Hteam</th>\n",
       "      <th>HQ1</th>\n",
       "      <th>HQ2</th>\n",
       "      <th>HQ3</th>\n",
       "      <th>HQ4</th>\n",
       "    </tr>\n",
       "  </thead>\n",
       "  <tbody>\n",
       "    <tr>\n",
       "      <th>0</th>\n",
       "      <td>200009030min</td>\n",
       "      <td>1</td>\n",
       "      <td>Bears</td>\n",
       "      <td>7</td>\n",
       "      <td>6</td>\n",
       "      <td>7</td>\n",
       "      <td>7</td>\n",
       "      <td>2000</td>\n",
       "      <td>Vikings</td>\n",
       "      <td>6</td>\n",
       "      <td>3</td>\n",
       "      <td>7</td>\n",
       "      <td>14</td>\n",
       "    </tr>\n",
       "    <tr>\n",
       "      <th>18</th>\n",
       "      <td>200009100tam</td>\n",
       "      <td>2</td>\n",
       "      <td>Bears</td>\n",
       "      <td>0</td>\n",
       "      <td>0</td>\n",
       "      <td>0</td>\n",
       "      <td>0</td>\n",
       "      <td>2000</td>\n",
       "      <td>Buccaneers</td>\n",
       "      <td>0</td>\n",
       "      <td>20</td>\n",
       "      <td>14</td>\n",
       "      <td>7</td>\n",
       "    </tr>\n",
       "    <tr>\n",
       "      <th>37</th>\n",
       "      <td>200009170chi</td>\n",
       "      <td>3</td>\n",
       "      <td>Giants</td>\n",
       "      <td>7</td>\n",
       "      <td>0</td>\n",
       "      <td>7</td>\n",
       "      <td>0</td>\n",
       "      <td>2000</td>\n",
       "      <td>Bears</td>\n",
       "      <td>0</td>\n",
       "      <td>7</td>\n",
       "      <td>0</td>\n",
       "      <td>0</td>\n",
       "    </tr>\n",
       "    <tr>\n",
       "      <th>46</th>\n",
       "      <td>200009240chi</td>\n",
       "      <td>4</td>\n",
       "      <td>Lions</td>\n",
       "      <td>7</td>\n",
       "      <td>7</td>\n",
       "      <td>0</td>\n",
       "      <td>7</td>\n",
       "      <td>2000</td>\n",
       "      <td>Bears</td>\n",
       "      <td>0</td>\n",
       "      <td>0</td>\n",
       "      <td>14</td>\n",
       "      <td>0</td>\n",
       "    </tr>\n",
       "    <tr>\n",
       "      <th>68</th>\n",
       "      <td>200010010gnb</td>\n",
       "      <td>5</td>\n",
       "      <td>Bears</td>\n",
       "      <td>10</td>\n",
       "      <td>7</td>\n",
       "      <td>7</td>\n",
       "      <td>3</td>\n",
       "      <td>2000</td>\n",
       "      <td>Packers</td>\n",
       "      <td>0</td>\n",
       "      <td>3</td>\n",
       "      <td>7</td>\n",
       "      <td>14</td>\n",
       "    </tr>\n",
       "    <tr>\n",
       "      <th>78</th>\n",
       "      <td>200010080chi</td>\n",
       "      <td>6</td>\n",
       "      <td>Saints</td>\n",
       "      <td>0</td>\n",
       "      <td>17</td>\n",
       "      <td>7</td>\n",
       "      <td>7</td>\n",
       "      <td>2000</td>\n",
       "      <td>Bears</td>\n",
       "      <td>7</td>\n",
       "      <td>0</td>\n",
       "      <td>0</td>\n",
       "      <td>3</td>\n",
       "    </tr>\n",
       "    <tr>\n",
       "      <th>98</th>\n",
       "      <td>200010150chi</td>\n",
       "      <td>7</td>\n",
       "      <td>Vikings</td>\n",
       "      <td>0</td>\n",
       "      <td>14</td>\n",
       "      <td>7</td>\n",
       "      <td>7</td>\n",
       "      <td>2000</td>\n",
       "      <td>Bears</td>\n",
       "      <td>6</td>\n",
       "      <td>3</td>\n",
       "      <td>0</td>\n",
       "      <td>7</td>\n",
       "    </tr>\n",
       "    <tr>\n",
       "      <th>108</th>\n",
       "      <td>200010220phi</td>\n",
       "      <td>8</td>\n",
       "      <td>Bears</td>\n",
       "      <td>0</td>\n",
       "      <td>0</td>\n",
       "      <td>0</td>\n",
       "      <td>9</td>\n",
       "      <td>2000</td>\n",
       "      <td>Eagles</td>\n",
       "      <td>3</td>\n",
       "      <td>7</td>\n",
       "      <td>3</td>\n",
       "      <td>0</td>\n",
       "    </tr>\n",
       "    <tr>\n",
       "      <th>130</th>\n",
       "      <td>200011050chi</td>\n",
       "      <td>10</td>\n",
       "      <td>Colts</td>\n",
       "      <td>0</td>\n",
       "      <td>0</td>\n",
       "      <td>8</td>\n",
       "      <td>16</td>\n",
       "      <td>2000</td>\n",
       "      <td>Bears</td>\n",
       "      <td>10</td>\n",
       "      <td>10</td>\n",
       "      <td>7</td>\n",
       "      <td>0</td>\n",
       "    </tr>\n",
       "    <tr>\n",
       "      <th>148</th>\n",
       "      <td>200011120buf</td>\n",
       "      <td>11</td>\n",
       "      <td>Bears</td>\n",
       "      <td>0</td>\n",
       "      <td>3</td>\n",
       "      <td>0</td>\n",
       "      <td>0</td>\n",
       "      <td>2000</td>\n",
       "      <td>Bills</td>\n",
       "      <td>0</td>\n",
       "      <td>6</td>\n",
       "      <td>7</td>\n",
       "      <td>7</td>\n",
       "    </tr>\n",
       "    <tr>\n",
       "      <th>166</th>\n",
       "      <td>200011190chi</td>\n",
       "      <td>12</td>\n",
       "      <td>Buccaneers</td>\n",
       "      <td>0</td>\n",
       "      <td>3</td>\n",
       "      <td>7</td>\n",
       "      <td>0</td>\n",
       "      <td>2000</td>\n",
       "      <td>Bears</td>\n",
       "      <td>3</td>\n",
       "      <td>7</td>\n",
       "      <td>0</td>\n",
       "      <td>3</td>\n",
       "    </tr>\n",
       "    <tr>\n",
       "      <th>180</th>\n",
       "      <td>200011260nyj</td>\n",
       "      <td>13</td>\n",
       "      <td>Bears</td>\n",
       "      <td>0</td>\n",
       "      <td>0</td>\n",
       "      <td>3</td>\n",
       "      <td>7</td>\n",
       "      <td>2000</td>\n",
       "      <td>Jets</td>\n",
       "      <td>7</td>\n",
       "      <td>10</td>\n",
       "      <td>0</td>\n",
       "      <td>0</td>\n",
       "    </tr>\n",
       "    <tr>\n",
       "      <th>201</th>\n",
       "      <td>200012030chi</td>\n",
       "      <td>14</td>\n",
       "      <td>Packers</td>\n",
       "      <td>0</td>\n",
       "      <td>14</td>\n",
       "      <td>7</td>\n",
       "      <td>7</td>\n",
       "      <td>2000</td>\n",
       "      <td>Bears</td>\n",
       "      <td>0</td>\n",
       "      <td>3</td>\n",
       "      <td>0</td>\n",
       "      <td>3</td>\n",
       "    </tr>\n",
       "    <tr>\n",
       "      <th>204</th>\n",
       "      <td>200012100chi</td>\n",
       "      <td>15</td>\n",
       "      <td>Patriots</td>\n",
       "      <td>0</td>\n",
       "      <td>10</td>\n",
       "      <td>0</td>\n",
       "      <td>7</td>\n",
       "      <td>2000</td>\n",
       "      <td>Bears</td>\n",
       "      <td>3</td>\n",
       "      <td>7</td>\n",
       "      <td>7</td>\n",
       "      <td>7</td>\n",
       "    </tr>\n",
       "    <tr>\n",
       "      <th>228</th>\n",
       "      <td>200012170sfo</td>\n",
       "      <td>16</td>\n",
       "      <td>Bears</td>\n",
       "      <td>0</td>\n",
       "      <td>0</td>\n",
       "      <td>0</td>\n",
       "      <td>0</td>\n",
       "      <td>2000</td>\n",
       "      <td>49ers</td>\n",
       "      <td>7</td>\n",
       "      <td>3</td>\n",
       "      <td>7</td>\n",
       "      <td>0</td>\n",
       "    </tr>\n",
       "    <tr>\n",
       "      <th>237</th>\n",
       "      <td>200012240det</td>\n",
       "      <td>17</td>\n",
       "      <td>Bears</td>\n",
       "      <td>0</td>\n",
       "      <td>6</td>\n",
       "      <td>7</td>\n",
       "      <td>10</td>\n",
       "      <td>2000</td>\n",
       "      <td>Lions</td>\n",
       "      <td>10</td>\n",
       "      <td>0</td>\n",
       "      <td>0</td>\n",
       "      <td>10</td>\n",
       "    </tr>\n",
       "    <tr>\n",
       "      <th>264</th>\n",
       "      <td>200109090rav</td>\n",
       "      <td>1</td>\n",
       "      <td>Bears</td>\n",
       "      <td>3</td>\n",
       "      <td>0</td>\n",
       "      <td>3</td>\n",
       "      <td>0</td>\n",
       "      <td>2001</td>\n",
       "      <td>Ravens</td>\n",
       "      <td>0</td>\n",
       "      <td>3</td>\n",
       "      <td>7</td>\n",
       "      <td>7</td>\n",
       "    </tr>\n",
       "    <tr>\n",
       "      <th>275</th>\n",
       "      <td>200109230chi</td>\n",
       "      <td>2</td>\n",
       "      <td>Vikings</td>\n",
       "      <td>3</td>\n",
       "      <td>0</td>\n",
       "      <td>7</td>\n",
       "      <td>0</td>\n",
       "      <td>2001</td>\n",
       "      <td>Bears</td>\n",
       "      <td>0</td>\n",
       "      <td>0</td>\n",
       "      <td>3</td>\n",
       "      <td>14</td>\n",
       "    </tr>\n",
       "    <tr>\n",
       "      <th>308</th>\n",
       "      <td>200110070atl</td>\n",
       "      <td>4</td>\n",
       "      <td>Bears</td>\n",
       "      <td>0</td>\n",
       "      <td>10</td>\n",
       "      <td>0</td>\n",
       "      <td>21</td>\n",
       "      <td>2001</td>\n",
       "      <td>Falcons</td>\n",
       "      <td>0</td>\n",
       "      <td>0</td>\n",
       "      <td>0</td>\n",
       "      <td>3</td>\n",
       "    </tr>\n",
       "    <tr>\n",
       "      <th>319</th>\n",
       "      <td>200110140chi</td>\n",
       "      <td>5</td>\n",
       "      <td>Cardinals</td>\n",
       "      <td>0</td>\n",
       "      <td>6</td>\n",
       "      <td>0</td>\n",
       "      <td>7</td>\n",
       "      <td>2001</td>\n",
       "      <td>Bears</td>\n",
       "      <td>3</td>\n",
       "      <td>10</td>\n",
       "      <td>7</td>\n",
       "      <td>0</td>\n",
       "    </tr>\n",
       "  </tbody>\n",
       "</table>\n",
       "</div>"
      ],
      "text/plain": [
       "           GameID  Week       Vteam  VQ1  VQ2  VQ3  VQ4  Year       Hteam  HQ1  HQ2  HQ3  HQ4\n",
       "0    200009030min     1       Bears    7    6    7    7  2000     Vikings    6    3    7   14\n",
       "18   200009100tam     2       Bears    0    0    0    0  2000  Buccaneers    0   20   14    7\n",
       "37   200009170chi     3      Giants    7    0    7    0  2000       Bears    0    7    0    0\n",
       "46   200009240chi     4       Lions    7    7    0    7  2000       Bears    0    0   14    0\n",
       "68   200010010gnb     5       Bears   10    7    7    3  2000     Packers    0    3    7   14\n",
       "78   200010080chi     6      Saints    0   17    7    7  2000       Bears    7    0    0    3\n",
       "98   200010150chi     7     Vikings    0   14    7    7  2000       Bears    6    3    0    7\n",
       "108  200010220phi     8       Bears    0    0    0    9  2000      Eagles    3    7    3    0\n",
       "130  200011050chi    10       Colts    0    0    8   16  2000       Bears   10   10    7    0\n",
       "148  200011120buf    11       Bears    0    3    0    0  2000       Bills    0    6    7    7\n",
       "166  200011190chi    12  Buccaneers    0    3    7    0  2000       Bears    3    7    0    3\n",
       "180  200011260nyj    13       Bears    0    0    3    7  2000        Jets    7   10    0    0\n",
       "201  200012030chi    14     Packers    0   14    7    7  2000       Bears    0    3    0    3\n",
       "204  200012100chi    15    Patriots    0   10    0    7  2000       Bears    3    7    7    7\n",
       "228  200012170sfo    16       Bears    0    0    0    0  2000       49ers    7    3    7    0\n",
       "237  200012240det    17       Bears    0    6    7   10  2000       Lions   10    0    0   10\n",
       "264  200109090rav     1       Bears    3    0    3    0  2001      Ravens    0    3    7    7\n",
       "275  200109230chi     2     Vikings    3    0    7    0  2001       Bears    0    0    3   14\n",
       "308  200110070atl     4       Bears    0   10    0   21  2001     Falcons    0    0    0    3\n",
       "319  200110140chi     5   Cardinals    0    6    0    7  2001       Bears    3   10    7    0"
      ]
     },
     "execution_count": 12,
     "metadata": {},
     "output_type": "execute_result"
    }
   ],
   "source": [
    "games_Bears.iloc[:20,:]"
   ]
  },
  {
   "cell_type": "code",
   "execution_count": 11,
   "metadata": {},
   "outputs": [
    {
     "data": {
      "text/html": [
       "<div>\n",
       "<style scoped>\n",
       "    .dataframe tbody tr th:only-of-type {\n",
       "        vertical-align: middle;\n",
       "    }\n",
       "\n",
       "    .dataframe tbody tr th {\n",
       "        vertical-align: top;\n",
       "    }\n",
       "\n",
       "    .dataframe thead th {\n",
       "        text-align: right;\n",
       "    }\n",
       "</style>\n",
       "<table border=\"1\" class=\"dataframe\">\n",
       "  <thead>\n",
       "    <tr style=\"text-align: right;\">\n",
       "      <th></th>\n",
       "      <th>GameID</th>\n",
       "      <th>Week</th>\n",
       "      <th>Vteam</th>\n",
       "      <th>VQ1</th>\n",
       "      <th>VQ2</th>\n",
       "      <th>VQ3</th>\n",
       "      <th>VQ4</th>\n",
       "      <th>Year</th>\n",
       "      <th>Hteam</th>\n",
       "      <th>HQ1</th>\n",
       "      <th>HQ2</th>\n",
       "      <th>HQ3</th>\n",
       "      <th>HQ4</th>\n",
       "    </tr>\n",
       "  </thead>\n",
       "  <tbody>\n",
       "    <tr>\n",
       "      <th>0</th>\n",
       "      <td>200009030min</td>\n",
       "      <td>1</td>\n",
       "      <td>Bears</td>\n",
       "      <td>7</td>\n",
       "      <td>6</td>\n",
       "      <td>7</td>\n",
       "      <td>7</td>\n",
       "      <td>2000</td>\n",
       "      <td>Vikings</td>\n",
       "      <td>6</td>\n",
       "      <td>3</td>\n",
       "      <td>7</td>\n",
       "      <td>14</td>\n",
       "    </tr>\n",
       "    <tr>\n",
       "      <th>264</th>\n",
       "      <td>200109090rav</td>\n",
       "      <td>1</td>\n",
       "      <td>Bears</td>\n",
       "      <td>3</td>\n",
       "      <td>0</td>\n",
       "      <td>3</td>\n",
       "      <td>0</td>\n",
       "      <td>2001</td>\n",
       "      <td>Ravens</td>\n",
       "      <td>0</td>\n",
       "      <td>3</td>\n",
       "      <td>7</td>\n",
       "      <td>7</td>\n",
       "    </tr>\n",
       "    <tr>\n",
       "      <th>524</th>\n",
       "      <td>200209080chi</td>\n",
       "      <td>1</td>\n",
       "      <td>Vikings</td>\n",
       "      <td>3</td>\n",
       "      <td>17</td>\n",
       "      <td>0</td>\n",
       "      <td>3</td>\n",
       "      <td>2002</td>\n",
       "      <td>Bears</td>\n",
       "      <td>7</td>\n",
       "      <td>3</td>\n",
       "      <td>3</td>\n",
       "      <td>14</td>\n",
       "    </tr>\n",
       "    <tr>\n",
       "      <th>798</th>\n",
       "      <td>200309070sfo</td>\n",
       "      <td>1</td>\n",
       "      <td>Bears</td>\n",
       "      <td>0</td>\n",
       "      <td>7</td>\n",
       "      <td>0</td>\n",
       "      <td>0</td>\n",
       "      <td>2003</td>\n",
       "      <td>49ers</td>\n",
       "      <td>10</td>\n",
       "      <td>23</td>\n",
       "      <td>6</td>\n",
       "      <td>10</td>\n",
       "    </tr>\n",
       "    <tr>\n",
       "      <th>1058</th>\n",
       "      <td>200409120chi</td>\n",
       "      <td>1</td>\n",
       "      <td>Lions</td>\n",
       "      <td>0</td>\n",
       "      <td>3</td>\n",
       "      <td>10</td>\n",
       "      <td>7</td>\n",
       "      <td>2004</td>\n",
       "      <td>Bears</td>\n",
       "      <td>7</td>\n",
       "      <td>0</td>\n",
       "      <td>0</td>\n",
       "      <td>9</td>\n",
       "    </tr>\n",
       "    <tr>\n",
       "      <th>1324</th>\n",
       "      <td>200509110was</td>\n",
       "      <td>1</td>\n",
       "      <td>Bears</td>\n",
       "      <td>0</td>\n",
       "      <td>0</td>\n",
       "      <td>7</td>\n",
       "      <td>0</td>\n",
       "      <td>2005</td>\n",
       "      <td>Redskins</td>\n",
       "      <td>0</td>\n",
       "      <td>6</td>\n",
       "      <td>3</td>\n",
       "      <td>0</td>\n",
       "    </tr>\n",
       "    <tr>\n",
       "      <th>1596</th>\n",
       "      <td>200609100gnb</td>\n",
       "      <td>1</td>\n",
       "      <td>Bears</td>\n",
       "      <td>7</td>\n",
       "      <td>9</td>\n",
       "      <td>3</td>\n",
       "      <td>7</td>\n",
       "      <td>2006</td>\n",
       "      <td>Packers</td>\n",
       "      <td>0</td>\n",
       "      <td>0</td>\n",
       "      <td>0</td>\n",
       "      <td>0</td>\n",
       "    </tr>\n",
       "    <tr>\n",
       "      <th>1863</th>\n",
       "      <td>200709090sdg</td>\n",
       "      <td>1</td>\n",
       "      <td>Bears</td>\n",
       "      <td>0</td>\n",
       "      <td>3</td>\n",
       "      <td>0</td>\n",
       "      <td>0</td>\n",
       "      <td>2007</td>\n",
       "      <td>Chargers</td>\n",
       "      <td>0</td>\n",
       "      <td>0</td>\n",
       "      <td>7</td>\n",
       "      <td>7</td>\n",
       "    </tr>\n",
       "    <tr>\n",
       "      <th>2133</th>\n",
       "      <td>200809070clt</td>\n",
       "      <td>1</td>\n",
       "      <td>Bears</td>\n",
       "      <td>7</td>\n",
       "      <td>8</td>\n",
       "      <td>7</td>\n",
       "      <td>7</td>\n",
       "      <td>2008</td>\n",
       "      <td>Colts</td>\n",
       "      <td>3</td>\n",
       "      <td>3</td>\n",
       "      <td>7</td>\n",
       "      <td>0</td>\n",
       "    </tr>\n",
       "    <tr>\n",
       "      <th>2400</th>\n",
       "      <td>200909130gnb</td>\n",
       "      <td>1</td>\n",
       "      <td>Bears</td>\n",
       "      <td>0</td>\n",
       "      <td>2</td>\n",
       "      <td>10</td>\n",
       "      <td>3</td>\n",
       "      <td>2009</td>\n",
       "      <td>Packers</td>\n",
       "      <td>0</td>\n",
       "      <td>10</td>\n",
       "      <td>0</td>\n",
       "      <td>11</td>\n",
       "    </tr>\n",
       "    <tr>\n",
       "      <th>2656</th>\n",
       "      <td>201009120chi</td>\n",
       "      <td>1</td>\n",
       "      <td>Lions</td>\n",
       "      <td>7</td>\n",
       "      <td>7</td>\n",
       "      <td>0</td>\n",
       "      <td>0</td>\n",
       "      <td>2010</td>\n",
       "      <td>Bears</td>\n",
       "      <td>3</td>\n",
       "      <td>10</td>\n",
       "      <td>0</td>\n",
       "      <td>6</td>\n",
       "    </tr>\n",
       "    <tr>\n",
       "      <th>2926</th>\n",
       "      <td>201109110chi</td>\n",
       "      <td>1</td>\n",
       "      <td>Falcons</td>\n",
       "      <td>3</td>\n",
       "      <td>0</td>\n",
       "      <td>3</td>\n",
       "      <td>6</td>\n",
       "      <td>2011</td>\n",
       "      <td>Bears</td>\n",
       "      <td>10</td>\n",
       "      <td>6</td>\n",
       "      <td>14</td>\n",
       "      <td>0</td>\n",
       "    </tr>\n",
       "    <tr>\n",
       "      <th>3189</th>\n",
       "      <td>201209090chi</td>\n",
       "      <td>1</td>\n",
       "      <td>Colts</td>\n",
       "      <td>7</td>\n",
       "      <td>7</td>\n",
       "      <td>0</td>\n",
       "      <td>7</td>\n",
       "      <td>2012</td>\n",
       "      <td>Bears</td>\n",
       "      <td>7</td>\n",
       "      <td>17</td>\n",
       "      <td>10</td>\n",
       "      <td>7</td>\n",
       "    </tr>\n",
       "    <tr>\n",
       "      <th>3460</th>\n",
       "      <td>201309080chi</td>\n",
       "      <td>1</td>\n",
       "      <td>Bengals</td>\n",
       "      <td>7</td>\n",
       "      <td>7</td>\n",
       "      <td>7</td>\n",
       "      <td>0</td>\n",
       "      <td>2013</td>\n",
       "      <td>Bears</td>\n",
       "      <td>7</td>\n",
       "      <td>3</td>\n",
       "      <td>7</td>\n",
       "      <td>7</td>\n",
       "    </tr>\n",
       "    <tr>\n",
       "      <th>3724</th>\n",
       "      <td>201409070chi</td>\n",
       "      <td>1</td>\n",
       "      <td>Bills</td>\n",
       "      <td>7</td>\n",
       "      <td>10</td>\n",
       "      <td>0</td>\n",
       "      <td>3</td>\n",
       "      <td>2014</td>\n",
       "      <td>Bears</td>\n",
       "      <td>7</td>\n",
       "      <td>0</td>\n",
       "      <td>10</td>\n",
       "      <td>3</td>\n",
       "    </tr>\n",
       "    <tr>\n",
       "      <th>3995</th>\n",
       "      <td>2015-1-PackersBears</td>\n",
       "      <td>1</td>\n",
       "      <td>Packers</td>\n",
       "      <td>0</td>\n",
       "      <td>3</td>\n",
       "      <td>3</td>\n",
       "      <td>6</td>\n",
       "      <td>2015</td>\n",
       "      <td>Bears</td>\n",
       "      <td>7</td>\n",
       "      <td>7</td>\n",
       "      <td>7</td>\n",
       "      <td>3</td>\n",
       "    </tr>\n",
       "    <tr>\n",
       "      <th>4253</th>\n",
       "      <td>2016-1-BearsTexans</td>\n",
       "      <td>1</td>\n",
       "      <td>Bears</td>\n",
       "      <td>7</td>\n",
       "      <td>7</td>\n",
       "      <td>0</td>\n",
       "      <td>0</td>\n",
       "      <td>2016</td>\n",
       "      <td>Texans</td>\n",
       "      <td>0</td>\n",
       "      <td>10</td>\n",
       "      <td>3</td>\n",
       "      <td>10</td>\n",
       "    </tr>\n",
       "    <tr>\n",
       "      <th>4508</th>\n",
       "      <td>2017-1-FalconsBears</td>\n",
       "      <td>1</td>\n",
       "      <td>Falcons</td>\n",
       "      <td>3</td>\n",
       "      <td>7</td>\n",
       "      <td>3</td>\n",
       "      <td>10</td>\n",
       "      <td>2017</td>\n",
       "      <td>Bears</td>\n",
       "      <td>0</td>\n",
       "      <td>10</td>\n",
       "      <td>0</td>\n",
       "      <td>7</td>\n",
       "    </tr>\n",
       "    <tr>\n",
       "      <th>4771</th>\n",
       "      <td>2018-1-BearsPackers</td>\n",
       "      <td>1</td>\n",
       "      <td>Bears</td>\n",
       "      <td>7</td>\n",
       "      <td>10</td>\n",
       "      <td>3</td>\n",
       "      <td>3</td>\n",
       "      <td>2018</td>\n",
       "      <td>Packers</td>\n",
       "      <td>0</td>\n",
       "      <td>0</td>\n",
       "      <td>3</td>\n",
       "      <td>21</td>\n",
       "    </tr>\n",
       "    <tr>\n",
       "      <th>5072</th>\n",
       "      <td>2019-1-PackersBears</td>\n",
       "      <td>1</td>\n",
       "      <td>Packers</td>\n",
       "      <td>0</td>\n",
       "      <td>7</td>\n",
       "      <td>0</td>\n",
       "      <td>3</td>\n",
       "      <td>2019</td>\n",
       "      <td>Bears</td>\n",
       "      <td>3</td>\n",
       "      <td>0</td>\n",
       "      <td>0</td>\n",
       "      <td>0</td>\n",
       "    </tr>\n",
       "  </tbody>\n",
       "</table>\n",
       "</div>"
      ],
      "text/plain": [
       "                   GameID  Week    Vteam  VQ1  VQ2  VQ3  VQ4  Year     Hteam  HQ1  HQ2  HQ3  HQ4\n",
       "0            200009030min     1    Bears    7    6    7    7  2000   Vikings    6    3    7   14\n",
       "264          200109090rav     1    Bears    3    0    3    0  2001    Ravens    0    3    7    7\n",
       "524          200209080chi     1  Vikings    3   17    0    3  2002     Bears    7    3    3   14\n",
       "798          200309070sfo     1    Bears    0    7    0    0  2003     49ers   10   23    6   10\n",
       "1058         200409120chi     1    Lions    0    3   10    7  2004     Bears    7    0    0    9\n",
       "1324         200509110was     1    Bears    0    0    7    0  2005  Redskins    0    6    3    0\n",
       "1596         200609100gnb     1    Bears    7    9    3    7  2006   Packers    0    0    0    0\n",
       "1863         200709090sdg     1    Bears    0    3    0    0  2007  Chargers    0    0    7    7\n",
       "2133         200809070clt     1    Bears    7    8    7    7  2008     Colts    3    3    7    0\n",
       "2400         200909130gnb     1    Bears    0    2   10    3  2009   Packers    0   10    0   11\n",
       "2656         201009120chi     1    Lions    7    7    0    0  2010     Bears    3   10    0    6\n",
       "2926         201109110chi     1  Falcons    3    0    3    6  2011     Bears   10    6   14    0\n",
       "3189         201209090chi     1    Colts    7    7    0    7  2012     Bears    7   17   10    7\n",
       "3460         201309080chi     1  Bengals    7    7    7    0  2013     Bears    7    3    7    7\n",
       "3724         201409070chi     1    Bills    7   10    0    3  2014     Bears    7    0   10    3\n",
       "3995  2015-1-PackersBears     1  Packers    0    3    3    6  2015     Bears    7    7    7    3\n",
       "4253   2016-1-BearsTexans     1    Bears    7    7    0    0  2016    Texans    0   10    3   10\n",
       "4508  2017-1-FalconsBears     1  Falcons    3    7    3   10  2017     Bears    0   10    0    7\n",
       "4771  2018-1-BearsPackers     1    Bears    7   10    3    3  2018   Packers    0    0    3   21\n",
       "5072  2019-1-PackersBears     1  Packers    0    7    0    3  2019     Bears    3    0    0    0"
      ]
     },
     "execution_count": 11,
     "metadata": {},
     "output_type": "execute_result"
    }
   ],
   "source": [
    "games_Bears_Wk1 = games_Bears[(games_Bears.Week==1)]\n",
    "games_Bears_Wk1"
   ]
  },
  {
   "cell_type": "code",
   "execution_count": 13,
   "metadata": {},
   "outputs": [
    {
     "data": {
      "text/html": [
       "<div>\n",
       "<style scoped>\n",
       "    .dataframe tbody tr th:only-of-type {\n",
       "        vertical-align: middle;\n",
       "    }\n",
       "\n",
       "    .dataframe tbody tr th {\n",
       "        vertical-align: top;\n",
       "    }\n",
       "\n",
       "    .dataframe thead th {\n",
       "        text-align: right;\n",
       "    }\n",
       "</style>\n",
       "<table border=\"1\" class=\"dataframe\">\n",
       "  <thead>\n",
       "    <tr style=\"text-align: right;\">\n",
       "      <th></th>\n",
       "      <th>0</th>\n",
       "      <th>264</th>\n",
       "      <th>524</th>\n",
       "      <th>798</th>\n",
       "      <th>1058</th>\n",
       "      <th>1324</th>\n",
       "      <th>1596</th>\n",
       "      <th>1863</th>\n",
       "      <th>2133</th>\n",
       "      <th>2400</th>\n",
       "      <th>2656</th>\n",
       "      <th>2926</th>\n",
       "      <th>3189</th>\n",
       "      <th>3460</th>\n",
       "      <th>3724</th>\n",
       "      <th>3995</th>\n",
       "      <th>4253</th>\n",
       "      <th>4508</th>\n",
       "      <th>4771</th>\n",
       "      <th>5072</th>\n",
       "    </tr>\n",
       "  </thead>\n",
       "  <tbody>\n",
       "    <tr>\n",
       "      <th>GameID</th>\n",
       "      <td>200009030min</td>\n",
       "      <td>200109090rav</td>\n",
       "      <td>200209080chi</td>\n",
       "      <td>200309070sfo</td>\n",
       "      <td>200409120chi</td>\n",
       "      <td>200509110was</td>\n",
       "      <td>200609100gnb</td>\n",
       "      <td>200709090sdg</td>\n",
       "      <td>200809070clt</td>\n",
       "      <td>200909130gnb</td>\n",
       "      <td>201009120chi</td>\n",
       "      <td>201109110chi</td>\n",
       "      <td>201209090chi</td>\n",
       "      <td>201309080chi</td>\n",
       "      <td>201409070chi</td>\n",
       "      <td>2015-1-PackersBears</td>\n",
       "      <td>2016-1-BearsTexans</td>\n",
       "      <td>2017-1-FalconsBears</td>\n",
       "      <td>2018-1-BearsPackers</td>\n",
       "      <td>2019-1-PackersBears</td>\n",
       "    </tr>\n",
       "    <tr>\n",
       "      <th>Week</th>\n",
       "      <td>1</td>\n",
       "      <td>1</td>\n",
       "      <td>1</td>\n",
       "      <td>1</td>\n",
       "      <td>1</td>\n",
       "      <td>1</td>\n",
       "      <td>1</td>\n",
       "      <td>1</td>\n",
       "      <td>1</td>\n",
       "      <td>1</td>\n",
       "      <td>1</td>\n",
       "      <td>1</td>\n",
       "      <td>1</td>\n",
       "      <td>1</td>\n",
       "      <td>1</td>\n",
       "      <td>1</td>\n",
       "      <td>1</td>\n",
       "      <td>1</td>\n",
       "      <td>1</td>\n",
       "      <td>1</td>\n",
       "    </tr>\n",
       "    <tr>\n",
       "      <th>Vteam</th>\n",
       "      <td>Bears</td>\n",
       "      <td>Bears</td>\n",
       "      <td>Vikings</td>\n",
       "      <td>Bears</td>\n",
       "      <td>Lions</td>\n",
       "      <td>Bears</td>\n",
       "      <td>Bears</td>\n",
       "      <td>Bears</td>\n",
       "      <td>Bears</td>\n",
       "      <td>Bears</td>\n",
       "      <td>Lions</td>\n",
       "      <td>Falcons</td>\n",
       "      <td>Colts</td>\n",
       "      <td>Bengals</td>\n",
       "      <td>Bills</td>\n",
       "      <td>Packers</td>\n",
       "      <td>Bears</td>\n",
       "      <td>Falcons</td>\n",
       "      <td>Bears</td>\n",
       "      <td>Packers</td>\n",
       "    </tr>\n",
       "    <tr>\n",
       "      <th>VQ1</th>\n",
       "      <td>7</td>\n",
       "      <td>3</td>\n",
       "      <td>3</td>\n",
       "      <td>0</td>\n",
       "      <td>0</td>\n",
       "      <td>0</td>\n",
       "      <td>7</td>\n",
       "      <td>0</td>\n",
       "      <td>7</td>\n",
       "      <td>0</td>\n",
       "      <td>7</td>\n",
       "      <td>3</td>\n",
       "      <td>7</td>\n",
       "      <td>7</td>\n",
       "      <td>7</td>\n",
       "      <td>0</td>\n",
       "      <td>7</td>\n",
       "      <td>3</td>\n",
       "      <td>7</td>\n",
       "      <td>0</td>\n",
       "    </tr>\n",
       "    <tr>\n",
       "      <th>VQ2</th>\n",
       "      <td>6</td>\n",
       "      <td>0</td>\n",
       "      <td>17</td>\n",
       "      <td>7</td>\n",
       "      <td>3</td>\n",
       "      <td>0</td>\n",
       "      <td>9</td>\n",
       "      <td>3</td>\n",
       "      <td>8</td>\n",
       "      <td>2</td>\n",
       "      <td>7</td>\n",
       "      <td>0</td>\n",
       "      <td>7</td>\n",
       "      <td>7</td>\n",
       "      <td>10</td>\n",
       "      <td>3</td>\n",
       "      <td>7</td>\n",
       "      <td>7</td>\n",
       "      <td>10</td>\n",
       "      <td>7</td>\n",
       "    </tr>\n",
       "    <tr>\n",
       "      <th>VQ3</th>\n",
       "      <td>7</td>\n",
       "      <td>3</td>\n",
       "      <td>0</td>\n",
       "      <td>0</td>\n",
       "      <td>10</td>\n",
       "      <td>7</td>\n",
       "      <td>3</td>\n",
       "      <td>0</td>\n",
       "      <td>7</td>\n",
       "      <td>10</td>\n",
       "      <td>0</td>\n",
       "      <td>3</td>\n",
       "      <td>0</td>\n",
       "      <td>7</td>\n",
       "      <td>0</td>\n",
       "      <td>3</td>\n",
       "      <td>0</td>\n",
       "      <td>3</td>\n",
       "      <td>3</td>\n",
       "      <td>0</td>\n",
       "    </tr>\n",
       "    <tr>\n",
       "      <th>VQ4</th>\n",
       "      <td>7</td>\n",
       "      <td>0</td>\n",
       "      <td>3</td>\n",
       "      <td>0</td>\n",
       "      <td>7</td>\n",
       "      <td>0</td>\n",
       "      <td>7</td>\n",
       "      <td>0</td>\n",
       "      <td>7</td>\n",
       "      <td>3</td>\n",
       "      <td>0</td>\n",
       "      <td>6</td>\n",
       "      <td>7</td>\n",
       "      <td>0</td>\n",
       "      <td>3</td>\n",
       "      <td>6</td>\n",
       "      <td>0</td>\n",
       "      <td>10</td>\n",
       "      <td>3</td>\n",
       "      <td>3</td>\n",
       "    </tr>\n",
       "    <tr>\n",
       "      <th>Year</th>\n",
       "      <td>2000</td>\n",
       "      <td>2001</td>\n",
       "      <td>2002</td>\n",
       "      <td>2003</td>\n",
       "      <td>2004</td>\n",
       "      <td>2005</td>\n",
       "      <td>2006</td>\n",
       "      <td>2007</td>\n",
       "      <td>2008</td>\n",
       "      <td>2009</td>\n",
       "      <td>2010</td>\n",
       "      <td>2011</td>\n",
       "      <td>2012</td>\n",
       "      <td>2013</td>\n",
       "      <td>2014</td>\n",
       "      <td>2015</td>\n",
       "      <td>2016</td>\n",
       "      <td>2017</td>\n",
       "      <td>2018</td>\n",
       "      <td>2019</td>\n",
       "    </tr>\n",
       "    <tr>\n",
       "      <th>Hteam</th>\n",
       "      <td>Vikings</td>\n",
       "      <td>Ravens</td>\n",
       "      <td>Bears</td>\n",
       "      <td>49ers</td>\n",
       "      <td>Bears</td>\n",
       "      <td>Redskins</td>\n",
       "      <td>Packers</td>\n",
       "      <td>Chargers</td>\n",
       "      <td>Colts</td>\n",
       "      <td>Packers</td>\n",
       "      <td>Bears</td>\n",
       "      <td>Bears</td>\n",
       "      <td>Bears</td>\n",
       "      <td>Bears</td>\n",
       "      <td>Bears</td>\n",
       "      <td>Bears</td>\n",
       "      <td>Texans</td>\n",
       "      <td>Bears</td>\n",
       "      <td>Packers</td>\n",
       "      <td>Bears</td>\n",
       "    </tr>\n",
       "    <tr>\n",
       "      <th>HQ1</th>\n",
       "      <td>6</td>\n",
       "      <td>0</td>\n",
       "      <td>7</td>\n",
       "      <td>10</td>\n",
       "      <td>7</td>\n",
       "      <td>0</td>\n",
       "      <td>0</td>\n",
       "      <td>0</td>\n",
       "      <td>3</td>\n",
       "      <td>0</td>\n",
       "      <td>3</td>\n",
       "      <td>10</td>\n",
       "      <td>7</td>\n",
       "      <td>7</td>\n",
       "      <td>7</td>\n",
       "      <td>7</td>\n",
       "      <td>0</td>\n",
       "      <td>0</td>\n",
       "      <td>0</td>\n",
       "      <td>3</td>\n",
       "    </tr>\n",
       "    <tr>\n",
       "      <th>HQ2</th>\n",
       "      <td>3</td>\n",
       "      <td>3</td>\n",
       "      <td>3</td>\n",
       "      <td>23</td>\n",
       "      <td>0</td>\n",
       "      <td>6</td>\n",
       "      <td>0</td>\n",
       "      <td>0</td>\n",
       "      <td>3</td>\n",
       "      <td>10</td>\n",
       "      <td>10</td>\n",
       "      <td>6</td>\n",
       "      <td>17</td>\n",
       "      <td>3</td>\n",
       "      <td>0</td>\n",
       "      <td>7</td>\n",
       "      <td>10</td>\n",
       "      <td>10</td>\n",
       "      <td>0</td>\n",
       "      <td>0</td>\n",
       "    </tr>\n",
       "    <tr>\n",
       "      <th>HQ3</th>\n",
       "      <td>7</td>\n",
       "      <td>7</td>\n",
       "      <td>3</td>\n",
       "      <td>6</td>\n",
       "      <td>0</td>\n",
       "      <td>3</td>\n",
       "      <td>0</td>\n",
       "      <td>7</td>\n",
       "      <td>7</td>\n",
       "      <td>0</td>\n",
       "      <td>0</td>\n",
       "      <td>14</td>\n",
       "      <td>10</td>\n",
       "      <td>7</td>\n",
       "      <td>10</td>\n",
       "      <td>7</td>\n",
       "      <td>3</td>\n",
       "      <td>0</td>\n",
       "      <td>3</td>\n",
       "      <td>0</td>\n",
       "    </tr>\n",
       "    <tr>\n",
       "      <th>HQ4</th>\n",
       "      <td>14</td>\n",
       "      <td>7</td>\n",
       "      <td>14</td>\n",
       "      <td>10</td>\n",
       "      <td>9</td>\n",
       "      <td>0</td>\n",
       "      <td>0</td>\n",
       "      <td>7</td>\n",
       "      <td>0</td>\n",
       "      <td>11</td>\n",
       "      <td>6</td>\n",
       "      <td>0</td>\n",
       "      <td>7</td>\n",
       "      <td>7</td>\n",
       "      <td>3</td>\n",
       "      <td>3</td>\n",
       "      <td>10</td>\n",
       "      <td>7</td>\n",
       "      <td>21</td>\n",
       "      <td>0</td>\n",
       "    </tr>\n",
       "  </tbody>\n",
       "</table>\n",
       "</div>"
      ],
      "text/plain": [
       "                0             264           524           798           1058          1324          1596          1863          2133          2400          2656          2926          3189          3460          3724                 3995                4253                 4508                 4771                 5072\n",
       "GameID  200009030min  200109090rav  200209080chi  200309070sfo  200409120chi  200509110was  200609100gnb  200709090sdg  200809070clt  200909130gnb  201009120chi  201109110chi  201209090chi  201309080chi  201409070chi  2015-1-PackersBears  2016-1-BearsTexans  2017-1-FalconsBears  2018-1-BearsPackers  2019-1-PackersBears\n",
       "Week               1             1             1             1             1             1             1             1             1             1             1             1             1             1             1                    1                   1                    1                    1                    1\n",
       "Vteam          Bears         Bears       Vikings         Bears         Lions         Bears         Bears         Bears         Bears         Bears         Lions       Falcons         Colts       Bengals         Bills              Packers               Bears              Falcons                Bears              Packers\n",
       "VQ1                7             3             3             0             0             0             7             0             7             0             7             3             7             7             7                    0                   7                    3                    7                    0\n",
       "VQ2                6             0            17             7             3             0             9             3             8             2             7             0             7             7            10                    3                   7                    7                   10                    7\n",
       "VQ3                7             3             0             0            10             7             3             0             7            10             0             3             0             7             0                    3                   0                    3                    3                    0\n",
       "VQ4                7             0             3             0             7             0             7             0             7             3             0             6             7             0             3                    6                   0                   10                    3                    3\n",
       "Year            2000          2001          2002          2003          2004          2005          2006          2007          2008          2009          2010          2011          2012          2013          2014                 2015                2016                 2017                 2018                 2019\n",
       "Hteam        Vikings        Ravens         Bears         49ers         Bears      Redskins       Packers      Chargers         Colts       Packers         Bears         Bears         Bears         Bears         Bears                Bears              Texans                Bears              Packers                Bears\n",
       "HQ1                6             0             7            10             7             0             0             0             3             0             3            10             7             7             7                    7                   0                    0                    0                    3\n",
       "HQ2                3             3             3            23             0             6             0             0             3            10            10             6            17             3             0                    7                  10                   10                    0                    0\n",
       "HQ3                7             7             3             6             0             3             0             7             7             0             0            14            10             7            10                    7                   3                    0                    3                    0\n",
       "HQ4               14             7            14            10             9             0             0             7             0            11             6             0             7             7             3                    3                  10                    7                   21                    0"
      ]
     },
     "execution_count": 13,
     "metadata": {},
     "output_type": "execute_result"
    }
   ],
   "source": [
    "\n",
    "Tgames_Bears_Wk1 = games_Bears_Wk1.T\n",
    "Tgames_Bears_Wk1\n",
    "# drop rows"
   ]
  },
  {
   "cell_type": "code",
   "execution_count": 14,
   "metadata": {},
   "outputs": [
    {
     "data": {
      "text/html": [
       "<div>\n",
       "<style scoped>\n",
       "    .dataframe tbody tr th:only-of-type {\n",
       "        vertical-align: middle;\n",
       "    }\n",
       "\n",
       "    .dataframe tbody tr th {\n",
       "        vertical-align: top;\n",
       "    }\n",
       "\n",
       "    .dataframe thead th {\n",
       "        text-align: right;\n",
       "    }\n",
       "</style>\n",
       "<table border=\"1\" class=\"dataframe\">\n",
       "  <thead>\n",
       "    <tr style=\"text-align: right;\">\n",
       "      <th>Year</th>\n",
       "      <th>2000</th>\n",
       "      <th>2001</th>\n",
       "      <th>2002</th>\n",
       "      <th>2003</th>\n",
       "      <th>2004</th>\n",
       "      <th>2005</th>\n",
       "      <th>2006</th>\n",
       "      <th>2007</th>\n",
       "      <th>2008</th>\n",
       "      <th>2009</th>\n",
       "      <th>2010</th>\n",
       "      <th>2011</th>\n",
       "      <th>2012</th>\n",
       "      <th>2013</th>\n",
       "      <th>2014</th>\n",
       "      <th>2015</th>\n",
       "      <th>2016</th>\n",
       "      <th>2017</th>\n",
       "      <th>2018</th>\n",
       "      <th>2019</th>\n",
       "    </tr>\n",
       "  </thead>\n",
       "  <tbody>\n",
       "    <tr>\n",
       "      <th>GameID</th>\n",
       "      <td>200009030min</td>\n",
       "      <td>200109090rav</td>\n",
       "      <td>200209080chi</td>\n",
       "      <td>200309070sfo</td>\n",
       "      <td>200409120chi</td>\n",
       "      <td>200509110was</td>\n",
       "      <td>200609100gnb</td>\n",
       "      <td>200709090sdg</td>\n",
       "      <td>200809070clt</td>\n",
       "      <td>200909130gnb</td>\n",
       "      <td>201009120chi</td>\n",
       "      <td>201109110chi</td>\n",
       "      <td>201209090chi</td>\n",
       "      <td>201309080chi</td>\n",
       "      <td>201409070chi</td>\n",
       "      <td>2015-1-PackersBears</td>\n",
       "      <td>2016-1-BearsTexans</td>\n",
       "      <td>2017-1-FalconsBears</td>\n",
       "      <td>2018-1-BearsPackers</td>\n",
       "      <td>2019-1-PackersBears</td>\n",
       "    </tr>\n",
       "    <tr>\n",
       "      <th>Week</th>\n",
       "      <td>1</td>\n",
       "      <td>1</td>\n",
       "      <td>1</td>\n",
       "      <td>1</td>\n",
       "      <td>1</td>\n",
       "      <td>1</td>\n",
       "      <td>1</td>\n",
       "      <td>1</td>\n",
       "      <td>1</td>\n",
       "      <td>1</td>\n",
       "      <td>1</td>\n",
       "      <td>1</td>\n",
       "      <td>1</td>\n",
       "      <td>1</td>\n",
       "      <td>1</td>\n",
       "      <td>1</td>\n",
       "      <td>1</td>\n",
       "      <td>1</td>\n",
       "      <td>1</td>\n",
       "      <td>1</td>\n",
       "    </tr>\n",
       "    <tr>\n",
       "      <th>Vteam</th>\n",
       "      <td>Bears</td>\n",
       "      <td>Bears</td>\n",
       "      <td>Vikings</td>\n",
       "      <td>Bears</td>\n",
       "      <td>Lions</td>\n",
       "      <td>Bears</td>\n",
       "      <td>Bears</td>\n",
       "      <td>Bears</td>\n",
       "      <td>Bears</td>\n",
       "      <td>Bears</td>\n",
       "      <td>Lions</td>\n",
       "      <td>Falcons</td>\n",
       "      <td>Colts</td>\n",
       "      <td>Bengals</td>\n",
       "      <td>Bills</td>\n",
       "      <td>Packers</td>\n",
       "      <td>Bears</td>\n",
       "      <td>Falcons</td>\n",
       "      <td>Bears</td>\n",
       "      <td>Packers</td>\n",
       "    </tr>\n",
       "    <tr>\n",
       "      <th>VQ1</th>\n",
       "      <td>7</td>\n",
       "      <td>3</td>\n",
       "      <td>3</td>\n",
       "      <td>0</td>\n",
       "      <td>0</td>\n",
       "      <td>0</td>\n",
       "      <td>7</td>\n",
       "      <td>0</td>\n",
       "      <td>7</td>\n",
       "      <td>0</td>\n",
       "      <td>7</td>\n",
       "      <td>3</td>\n",
       "      <td>7</td>\n",
       "      <td>7</td>\n",
       "      <td>7</td>\n",
       "      <td>0</td>\n",
       "      <td>7</td>\n",
       "      <td>3</td>\n",
       "      <td>7</td>\n",
       "      <td>0</td>\n",
       "    </tr>\n",
       "    <tr>\n",
       "      <th>VQ2</th>\n",
       "      <td>6</td>\n",
       "      <td>0</td>\n",
       "      <td>17</td>\n",
       "      <td>7</td>\n",
       "      <td>3</td>\n",
       "      <td>0</td>\n",
       "      <td>9</td>\n",
       "      <td>3</td>\n",
       "      <td>8</td>\n",
       "      <td>2</td>\n",
       "      <td>7</td>\n",
       "      <td>0</td>\n",
       "      <td>7</td>\n",
       "      <td>7</td>\n",
       "      <td>10</td>\n",
       "      <td>3</td>\n",
       "      <td>7</td>\n",
       "      <td>7</td>\n",
       "      <td>10</td>\n",
       "      <td>7</td>\n",
       "    </tr>\n",
       "    <tr>\n",
       "      <th>VQ3</th>\n",
       "      <td>7</td>\n",
       "      <td>3</td>\n",
       "      <td>0</td>\n",
       "      <td>0</td>\n",
       "      <td>10</td>\n",
       "      <td>7</td>\n",
       "      <td>3</td>\n",
       "      <td>0</td>\n",
       "      <td>7</td>\n",
       "      <td>10</td>\n",
       "      <td>0</td>\n",
       "      <td>3</td>\n",
       "      <td>0</td>\n",
       "      <td>7</td>\n",
       "      <td>0</td>\n",
       "      <td>3</td>\n",
       "      <td>0</td>\n",
       "      <td>3</td>\n",
       "      <td>3</td>\n",
       "      <td>0</td>\n",
       "    </tr>\n",
       "    <tr>\n",
       "      <th>VQ4</th>\n",
       "      <td>7</td>\n",
       "      <td>0</td>\n",
       "      <td>3</td>\n",
       "      <td>0</td>\n",
       "      <td>7</td>\n",
       "      <td>0</td>\n",
       "      <td>7</td>\n",
       "      <td>0</td>\n",
       "      <td>7</td>\n",
       "      <td>3</td>\n",
       "      <td>0</td>\n",
       "      <td>6</td>\n",
       "      <td>7</td>\n",
       "      <td>0</td>\n",
       "      <td>3</td>\n",
       "      <td>6</td>\n",
       "      <td>0</td>\n",
       "      <td>10</td>\n",
       "      <td>3</td>\n",
       "      <td>3</td>\n",
       "    </tr>\n",
       "    <tr>\n",
       "      <th>Year</th>\n",
       "      <td>2000</td>\n",
       "      <td>2001</td>\n",
       "      <td>2002</td>\n",
       "      <td>2003</td>\n",
       "      <td>2004</td>\n",
       "      <td>2005</td>\n",
       "      <td>2006</td>\n",
       "      <td>2007</td>\n",
       "      <td>2008</td>\n",
       "      <td>2009</td>\n",
       "      <td>2010</td>\n",
       "      <td>2011</td>\n",
       "      <td>2012</td>\n",
       "      <td>2013</td>\n",
       "      <td>2014</td>\n",
       "      <td>2015</td>\n",
       "      <td>2016</td>\n",
       "      <td>2017</td>\n",
       "      <td>2018</td>\n",
       "      <td>2019</td>\n",
       "    </tr>\n",
       "    <tr>\n",
       "      <th>Hteam</th>\n",
       "      <td>Vikings</td>\n",
       "      <td>Ravens</td>\n",
       "      <td>Bears</td>\n",
       "      <td>49ers</td>\n",
       "      <td>Bears</td>\n",
       "      <td>Redskins</td>\n",
       "      <td>Packers</td>\n",
       "      <td>Chargers</td>\n",
       "      <td>Colts</td>\n",
       "      <td>Packers</td>\n",
       "      <td>Bears</td>\n",
       "      <td>Bears</td>\n",
       "      <td>Bears</td>\n",
       "      <td>Bears</td>\n",
       "      <td>Bears</td>\n",
       "      <td>Bears</td>\n",
       "      <td>Texans</td>\n",
       "      <td>Bears</td>\n",
       "      <td>Packers</td>\n",
       "      <td>Bears</td>\n",
       "    </tr>\n",
       "    <tr>\n",
       "      <th>HQ1</th>\n",
       "      <td>6</td>\n",
       "      <td>0</td>\n",
       "      <td>7</td>\n",
       "      <td>10</td>\n",
       "      <td>7</td>\n",
       "      <td>0</td>\n",
       "      <td>0</td>\n",
       "      <td>0</td>\n",
       "      <td>3</td>\n",
       "      <td>0</td>\n",
       "      <td>3</td>\n",
       "      <td>10</td>\n",
       "      <td>7</td>\n",
       "      <td>7</td>\n",
       "      <td>7</td>\n",
       "      <td>7</td>\n",
       "      <td>0</td>\n",
       "      <td>0</td>\n",
       "      <td>0</td>\n",
       "      <td>3</td>\n",
       "    </tr>\n",
       "    <tr>\n",
       "      <th>HQ2</th>\n",
       "      <td>3</td>\n",
       "      <td>3</td>\n",
       "      <td>3</td>\n",
       "      <td>23</td>\n",
       "      <td>0</td>\n",
       "      <td>6</td>\n",
       "      <td>0</td>\n",
       "      <td>0</td>\n",
       "      <td>3</td>\n",
       "      <td>10</td>\n",
       "      <td>10</td>\n",
       "      <td>6</td>\n",
       "      <td>17</td>\n",
       "      <td>3</td>\n",
       "      <td>0</td>\n",
       "      <td>7</td>\n",
       "      <td>10</td>\n",
       "      <td>10</td>\n",
       "      <td>0</td>\n",
       "      <td>0</td>\n",
       "    </tr>\n",
       "    <tr>\n",
       "      <th>HQ3</th>\n",
       "      <td>7</td>\n",
       "      <td>7</td>\n",
       "      <td>3</td>\n",
       "      <td>6</td>\n",
       "      <td>0</td>\n",
       "      <td>3</td>\n",
       "      <td>0</td>\n",
       "      <td>7</td>\n",
       "      <td>7</td>\n",
       "      <td>0</td>\n",
       "      <td>0</td>\n",
       "      <td>14</td>\n",
       "      <td>10</td>\n",
       "      <td>7</td>\n",
       "      <td>10</td>\n",
       "      <td>7</td>\n",
       "      <td>3</td>\n",
       "      <td>0</td>\n",
       "      <td>3</td>\n",
       "      <td>0</td>\n",
       "    </tr>\n",
       "    <tr>\n",
       "      <th>HQ4</th>\n",
       "      <td>14</td>\n",
       "      <td>7</td>\n",
       "      <td>14</td>\n",
       "      <td>10</td>\n",
       "      <td>9</td>\n",
       "      <td>0</td>\n",
       "      <td>0</td>\n",
       "      <td>7</td>\n",
       "      <td>0</td>\n",
       "      <td>11</td>\n",
       "      <td>6</td>\n",
       "      <td>0</td>\n",
       "      <td>7</td>\n",
       "      <td>7</td>\n",
       "      <td>3</td>\n",
       "      <td>3</td>\n",
       "      <td>10</td>\n",
       "      <td>7</td>\n",
       "      <td>21</td>\n",
       "      <td>0</td>\n",
       "    </tr>\n",
       "  </tbody>\n",
       "</table>\n",
       "</div>"
      ],
      "text/plain": [
       "Year            2000          2001          2002          2003          2004          2005          2006          2007          2008          2009          2010          2011          2012          2013          2014                 2015                2016                 2017                 2018                 2019\n",
       "GameID  200009030min  200109090rav  200209080chi  200309070sfo  200409120chi  200509110was  200609100gnb  200709090sdg  200809070clt  200909130gnb  201009120chi  201109110chi  201209090chi  201309080chi  201409070chi  2015-1-PackersBears  2016-1-BearsTexans  2017-1-FalconsBears  2018-1-BearsPackers  2019-1-PackersBears\n",
       "Week               1             1             1             1             1             1             1             1             1             1             1             1             1             1             1                    1                   1                    1                    1                    1\n",
       "Vteam          Bears         Bears       Vikings         Bears         Lions         Bears         Bears         Bears         Bears         Bears         Lions       Falcons         Colts       Bengals         Bills              Packers               Bears              Falcons                Bears              Packers\n",
       "VQ1                7             3             3             0             0             0             7             0             7             0             7             3             7             7             7                    0                   7                    3                    7                    0\n",
       "VQ2                6             0            17             7             3             0             9             3             8             2             7             0             7             7            10                    3                   7                    7                   10                    7\n",
       "VQ3                7             3             0             0            10             7             3             0             7            10             0             3             0             7             0                    3                   0                    3                    3                    0\n",
       "VQ4                7             0             3             0             7             0             7             0             7             3             0             6             7             0             3                    6                   0                   10                    3                    3\n",
       "Year            2000          2001          2002          2003          2004          2005          2006          2007          2008          2009          2010          2011          2012          2013          2014                 2015                2016                 2017                 2018                 2019\n",
       "Hteam        Vikings        Ravens         Bears         49ers         Bears      Redskins       Packers      Chargers         Colts       Packers         Bears         Bears         Bears         Bears         Bears                Bears              Texans                Bears              Packers                Bears\n",
       "HQ1                6             0             7            10             7             0             0             0             3             0             3            10             7             7             7                    7                   0                    0                    0                    3\n",
       "HQ2                3             3             3            23             0             6             0             0             3            10            10             6            17             3             0                    7                  10                   10                    0                    0\n",
       "HQ3                7             7             3             6             0             3             0             7             7             0             0            14            10             7            10                    7                   3                    0                    3                    0\n",
       "HQ4               14             7            14            10             9             0             0             7             0            11             6             0             7             7             3                    3                  10                    7                   21                    0"
      ]
     },
     "execution_count": 14,
     "metadata": {},
     "output_type": "execute_result"
    }
   ],
   "source": [
    "Tgames_Bears_Wk1.columns = Tgames_Bears_Wk1.iloc[7]\n",
    "Tgames_Bears_Wk1"
   ]
  },
  {
   "cell_type": "code",
   "execution_count": 15,
   "metadata": {},
   "outputs": [],
   "source": [
    "Tgames_Bears_Wk1_Qonly = Tgames_Bears_Wk1.drop(['GameID','Week','Vteam','Year','Hteam'])"
   ]
  },
  {
   "cell_type": "code",
   "execution_count": 16,
   "metadata": {},
   "outputs": [
    {
     "data": {
      "text/html": [
       "<div>\n",
       "<style scoped>\n",
       "    .dataframe tbody tr th:only-of-type {\n",
       "        vertical-align: middle;\n",
       "    }\n",
       "\n",
       "    .dataframe tbody tr th {\n",
       "        vertical-align: top;\n",
       "    }\n",
       "\n",
       "    .dataframe thead th {\n",
       "        text-align: right;\n",
       "    }\n",
       "</style>\n",
       "<table border=\"1\" class=\"dataframe\">\n",
       "  <thead>\n",
       "    <tr style=\"text-align: right;\">\n",
       "      <th>Year</th>\n",
       "      <th>2000</th>\n",
       "      <th>2001</th>\n",
       "      <th>2002</th>\n",
       "      <th>2003</th>\n",
       "      <th>2004</th>\n",
       "      <th>2005</th>\n",
       "      <th>2006</th>\n",
       "      <th>2007</th>\n",
       "      <th>2008</th>\n",
       "      <th>2009</th>\n",
       "      <th>2010</th>\n",
       "      <th>2011</th>\n",
       "      <th>2012</th>\n",
       "      <th>2013</th>\n",
       "      <th>2014</th>\n",
       "      <th>2015</th>\n",
       "      <th>2016</th>\n",
       "      <th>2017</th>\n",
       "      <th>2018</th>\n",
       "      <th>2019</th>\n",
       "    </tr>\n",
       "  </thead>\n",
       "  <tbody>\n",
       "    <tr>\n",
       "      <th>VQ1</th>\n",
       "      <td>7</td>\n",
       "      <td>3</td>\n",
       "      <td>3</td>\n",
       "      <td>0</td>\n",
       "      <td>0</td>\n",
       "      <td>0</td>\n",
       "      <td>7</td>\n",
       "      <td>0</td>\n",
       "      <td>7</td>\n",
       "      <td>0</td>\n",
       "      <td>7</td>\n",
       "      <td>3</td>\n",
       "      <td>7</td>\n",
       "      <td>7</td>\n",
       "      <td>7</td>\n",
       "      <td>0</td>\n",
       "      <td>7</td>\n",
       "      <td>3</td>\n",
       "      <td>7</td>\n",
       "      <td>0</td>\n",
       "    </tr>\n",
       "    <tr>\n",
       "      <th>VQ2</th>\n",
       "      <td>6</td>\n",
       "      <td>0</td>\n",
       "      <td>17</td>\n",
       "      <td>7</td>\n",
       "      <td>3</td>\n",
       "      <td>0</td>\n",
       "      <td>9</td>\n",
       "      <td>3</td>\n",
       "      <td>8</td>\n",
       "      <td>2</td>\n",
       "      <td>7</td>\n",
       "      <td>0</td>\n",
       "      <td>7</td>\n",
       "      <td>7</td>\n",
       "      <td>10</td>\n",
       "      <td>3</td>\n",
       "      <td>7</td>\n",
       "      <td>7</td>\n",
       "      <td>10</td>\n",
       "      <td>7</td>\n",
       "    </tr>\n",
       "    <tr>\n",
       "      <th>VQ3</th>\n",
       "      <td>7</td>\n",
       "      <td>3</td>\n",
       "      <td>0</td>\n",
       "      <td>0</td>\n",
       "      <td>10</td>\n",
       "      <td>7</td>\n",
       "      <td>3</td>\n",
       "      <td>0</td>\n",
       "      <td>7</td>\n",
       "      <td>10</td>\n",
       "      <td>0</td>\n",
       "      <td>3</td>\n",
       "      <td>0</td>\n",
       "      <td>7</td>\n",
       "      <td>0</td>\n",
       "      <td>3</td>\n",
       "      <td>0</td>\n",
       "      <td>3</td>\n",
       "      <td>3</td>\n",
       "      <td>0</td>\n",
       "    </tr>\n",
       "    <tr>\n",
       "      <th>VQ4</th>\n",
       "      <td>7</td>\n",
       "      <td>0</td>\n",
       "      <td>3</td>\n",
       "      <td>0</td>\n",
       "      <td>7</td>\n",
       "      <td>0</td>\n",
       "      <td>7</td>\n",
       "      <td>0</td>\n",
       "      <td>7</td>\n",
       "      <td>3</td>\n",
       "      <td>0</td>\n",
       "      <td>6</td>\n",
       "      <td>7</td>\n",
       "      <td>0</td>\n",
       "      <td>3</td>\n",
       "      <td>6</td>\n",
       "      <td>0</td>\n",
       "      <td>10</td>\n",
       "      <td>3</td>\n",
       "      <td>3</td>\n",
       "    </tr>\n",
       "    <tr>\n",
       "      <th>HQ1</th>\n",
       "      <td>6</td>\n",
       "      <td>0</td>\n",
       "      <td>7</td>\n",
       "      <td>10</td>\n",
       "      <td>7</td>\n",
       "      <td>0</td>\n",
       "      <td>0</td>\n",
       "      <td>0</td>\n",
       "      <td>3</td>\n",
       "      <td>0</td>\n",
       "      <td>3</td>\n",
       "      <td>10</td>\n",
       "      <td>7</td>\n",
       "      <td>7</td>\n",
       "      <td>7</td>\n",
       "      <td>7</td>\n",
       "      <td>0</td>\n",
       "      <td>0</td>\n",
       "      <td>0</td>\n",
       "      <td>3</td>\n",
       "    </tr>\n",
       "    <tr>\n",
       "      <th>HQ2</th>\n",
       "      <td>3</td>\n",
       "      <td>3</td>\n",
       "      <td>3</td>\n",
       "      <td>23</td>\n",
       "      <td>0</td>\n",
       "      <td>6</td>\n",
       "      <td>0</td>\n",
       "      <td>0</td>\n",
       "      <td>3</td>\n",
       "      <td>10</td>\n",
       "      <td>10</td>\n",
       "      <td>6</td>\n",
       "      <td>17</td>\n",
       "      <td>3</td>\n",
       "      <td>0</td>\n",
       "      <td>7</td>\n",
       "      <td>10</td>\n",
       "      <td>10</td>\n",
       "      <td>0</td>\n",
       "      <td>0</td>\n",
       "    </tr>\n",
       "    <tr>\n",
       "      <th>HQ3</th>\n",
       "      <td>7</td>\n",
       "      <td>7</td>\n",
       "      <td>3</td>\n",
       "      <td>6</td>\n",
       "      <td>0</td>\n",
       "      <td>3</td>\n",
       "      <td>0</td>\n",
       "      <td>7</td>\n",
       "      <td>7</td>\n",
       "      <td>0</td>\n",
       "      <td>0</td>\n",
       "      <td>14</td>\n",
       "      <td>10</td>\n",
       "      <td>7</td>\n",
       "      <td>10</td>\n",
       "      <td>7</td>\n",
       "      <td>3</td>\n",
       "      <td>0</td>\n",
       "      <td>3</td>\n",
       "      <td>0</td>\n",
       "    </tr>\n",
       "    <tr>\n",
       "      <th>HQ4</th>\n",
       "      <td>14</td>\n",
       "      <td>7</td>\n",
       "      <td>14</td>\n",
       "      <td>10</td>\n",
       "      <td>9</td>\n",
       "      <td>0</td>\n",
       "      <td>0</td>\n",
       "      <td>7</td>\n",
       "      <td>0</td>\n",
       "      <td>11</td>\n",
       "      <td>6</td>\n",
       "      <td>0</td>\n",
       "      <td>7</td>\n",
       "      <td>7</td>\n",
       "      <td>3</td>\n",
       "      <td>3</td>\n",
       "      <td>10</td>\n",
       "      <td>7</td>\n",
       "      <td>21</td>\n",
       "      <td>0</td>\n",
       "    </tr>\n",
       "  </tbody>\n",
       "</table>\n",
       "</div>"
      ],
      "text/plain": [
       "Year 2000 2001 2002 2003 2004 2005 2006 2007 2008 2009 2010 2011 2012 2013 2014 2015 2016 2017 2018 2019\n",
       "VQ1     7    3    3    0    0    0    7    0    7    0    7    3    7    7    7    0    7    3    7    0\n",
       "VQ2     6    0   17    7    3    0    9    3    8    2    7    0    7    7   10    3    7    7   10    7\n",
       "VQ3     7    3    0    0   10    7    3    0    7   10    0    3    0    7    0    3    0    3    3    0\n",
       "VQ4     7    0    3    0    7    0    7    0    7    3    0    6    7    0    3    6    0   10    3    3\n",
       "HQ1     6    0    7   10    7    0    0    0    3    0    3   10    7    7    7    7    0    0    0    3\n",
       "HQ2     3    3    3   23    0    6    0    0    3   10   10    6   17    3    0    7   10   10    0    0\n",
       "HQ3     7    7    3    6    0    3    0    7    7    0    0   14   10    7   10    7    3    0    3    0\n",
       "HQ4    14    7   14   10    9    0    0    7    0   11    6    0    7    7    3    3   10    7   21    0"
      ]
     },
     "execution_count": 16,
     "metadata": {},
     "output_type": "execute_result"
    }
   ],
   "source": [
    "Tgames_Bears_Wk1_Qonly"
   ]
  },
  {
   "cell_type": "code",
   "execution_count": 18,
   "metadata": {},
   "outputs": [],
   "source": [
    "X = Tgames_Bears_Wk1_Qonly.drop([2019], axis=1)\n",
    "y = Tgames_Bears_Wk1_Qonly[2019]"
   ]
  },
  {
   "cell_type": "code",
   "execution_count": 19,
   "metadata": {},
   "outputs": [],
   "source": [
    "from sklearn.linear_model import LinearRegression\n",
    "lr = LinearRegression()"
   ]
  },
  {
   "cell_type": "code",
   "execution_count": 20,
   "metadata": {},
   "outputs": [
    {
     "data": {
      "text/plain": [
       "LinearRegression()"
      ]
     },
     "execution_count": 20,
     "metadata": {},
     "output_type": "execute_result"
    }
   ],
   "source": [
    "lr.fit(X,y)"
   ]
  },
  {
   "cell_type": "code",
   "execution_count": 21,
   "metadata": {},
   "outputs": [
    {
     "data": {
      "text/plain": [
       "1.0"
      ]
     },
     "execution_count": 21,
     "metadata": {},
     "output_type": "execute_result"
    }
   ],
   "source": [
    "lr.score(X,y)"
   ]
  },
  {
   "cell_type": "code",
   "execution_count": 22,
   "metadata": {},
   "outputs": [
    {
     "data": {
      "text/plain": [
       "array([-3.99680289e-15,  7.00000000e+00, -4.44089210e-16,  3.00000000e+00,\n",
       "        3.00000000e+00, -2.44249065e-15,  1.11022302e-16,  6.66133815e-16])"
      ]
     },
     "execution_count": 22,
     "metadata": {},
     "output_type": "execute_result"
    }
   ],
   "source": [
    "preds = lr.predict(X)\n",
    "rouns(preds)"
   ]
  },
  {
   "cell_type": "code",
   "execution_count": 25,
   "metadata": {},
   "outputs": [
    {
     "data": {
      "text/plain": [
       "array([-0.,  7., -0.,  3.,  3., -0.,  0.,  0.])"
      ]
     },
     "execution_count": 25,
     "metadata": {},
     "output_type": "execute_result"
    }
   ],
   "source": [
    "np.round(preds,2)"
   ]
  },
  {
   "cell_type": "code",
   "execution_count": 28,
   "metadata": {},
   "outputs": [
    {
     "data": {
      "text/plain": [
       "<AxesSubplot:xlabel='Year'>"
      ]
     },
     "execution_count": 28,
     "metadata": {},
     "output_type": "execute_result"
    },
    {
     "data": {
      "image/png": "[encoded data removed]",
      "text/plain": [
       "<Figure size 432x288 with 1 Axes>"
      ]
     },
     "metadata": {
      "needs_background": "light"
     },
     "output_type": "display_data"
    }
   ],
   "source": [
    "Tgames_Bears_Wk1_Qonly.iloc[0,].plot()\n",
    "Tgames_Bears_Wk1_Qonly.iloc[1,].plot()\n",
    "Tgames_Bears_Wk1_Qonly.iloc[2,].plot()\n",
    "Tgames_Bears_Wk1_Qonly.iloc[3,].plot()"
   ]
  },
  {
   "cell_type": "code",
   "execution_count": 29,
   "metadata": {},
   "outputs": [
    {
     "data": {
      "text/html": [
       "<div>\n",
       "<style scoped>\n",
       "    .dataframe tbody tr th:only-of-type {\n",
       "        vertical-align: middle;\n",
       "    }\n",
       "\n",
       "    .dataframe tbody tr th {\n",
       "        vertical-align: top;\n",
       "    }\n",
       "\n",
       "    .dataframe thead th {\n",
       "        text-align: right;\n",
       "    }\n",
       "</style>\n",
       "<table border=\"1\" class=\"dataframe\">\n",
       "  <thead>\n",
       "    <tr style=\"text-align: right;\">\n",
       "      <th>Year</th>\n",
       "      <th>2000</th>\n",
       "      <th>2001</th>\n",
       "      <th>2002</th>\n",
       "      <th>2003</th>\n",
       "      <th>2004</th>\n",
       "      <th>2005</th>\n",
       "      <th>2006</th>\n",
       "      <th>2007</th>\n",
       "      <th>2008</th>\n",
       "      <th>2009</th>\n",
       "      <th>2010</th>\n",
       "      <th>2011</th>\n",
       "      <th>2012</th>\n",
       "      <th>2013</th>\n",
       "      <th>2014</th>\n",
       "      <th>2015</th>\n",
       "      <th>2016</th>\n",
       "      <th>2017</th>\n",
       "      <th>2018</th>\n",
       "      <th>2019</th>\n",
       "      <th>test</th>\n",
       "    </tr>\n",
       "  </thead>\n",
       "  <tbody>\n",
       "    <tr>\n",
       "      <th>VQ1</th>\n",
       "      <td>7</td>\n",
       "      <td>3</td>\n",
       "      <td>3</td>\n",
       "      <td>0</td>\n",
       "      <td>0</td>\n",
       "      <td>0</td>\n",
       "      <td>7</td>\n",
       "      <td>0</td>\n",
       "      <td>7</td>\n",
       "      <td>0</td>\n",
       "      <td>7</td>\n",
       "      <td>3</td>\n",
       "      <td>7</td>\n",
       "      <td>7</td>\n",
       "      <td>7</td>\n",
       "      <td>0</td>\n",
       "      <td>7</td>\n",
       "      <td>3</td>\n",
       "      <td>7</td>\n",
       "      <td>0</td>\n",
       "      <td>99</td>\n",
       "    </tr>\n",
       "    <tr>\n",
       "      <th>VQ2</th>\n",
       "      <td>6</td>\n",
       "      <td>0</td>\n",
       "      <td>17</td>\n",
       "      <td>7</td>\n",
       "      <td>3</td>\n",
       "      <td>0</td>\n",
       "      <td>9</td>\n",
       "      <td>3</td>\n",
       "      <td>8</td>\n",
       "      <td>2</td>\n",
       "      <td>7</td>\n",
       "      <td>0</td>\n",
       "      <td>7</td>\n",
       "      <td>7</td>\n",
       "      <td>10</td>\n",
       "      <td>3</td>\n",
       "      <td>7</td>\n",
       "      <td>7</td>\n",
       "      <td>10</td>\n",
       "      <td>7</td>\n",
       "      <td>99</td>\n",
       "    </tr>\n",
       "    <tr>\n",
       "      <th>VQ3</th>\n",
       "      <td>7</td>\n",
       "      <td>3</td>\n",
       "      <td>0</td>\n",
       "      <td>0</td>\n",
       "      <td>10</td>\n",
       "      <td>7</td>\n",
       "      <td>3</td>\n",
       "      <td>0</td>\n",
       "      <td>7</td>\n",
       "      <td>10</td>\n",
       "      <td>0</td>\n",
       "      <td>3</td>\n",
       "      <td>0</td>\n",
       "      <td>7</td>\n",
       "      <td>0</td>\n",
       "      <td>3</td>\n",
       "      <td>0</td>\n",
       "      <td>3</td>\n",
       "      <td>3</td>\n",
       "      <td>0</td>\n",
       "      <td>99</td>\n",
       "    </tr>\n",
       "    <tr>\n",
       "      <th>VQ4</th>\n",
       "      <td>7</td>\n",
       "      <td>0</td>\n",
       "      <td>3</td>\n",
       "      <td>0</td>\n",
       "      <td>7</td>\n",
       "      <td>0</td>\n",
       "      <td>7</td>\n",
       "      <td>0</td>\n",
       "      <td>7</td>\n",
       "      <td>3</td>\n",
       "      <td>0</td>\n",
       "      <td>6</td>\n",
       "      <td>7</td>\n",
       "      <td>0</td>\n",
       "      <td>3</td>\n",
       "      <td>6</td>\n",
       "      <td>0</td>\n",
       "      <td>10</td>\n",
       "      <td>3</td>\n",
       "      <td>3</td>\n",
       "      <td>99</td>\n",
       "    </tr>\n",
       "    <tr>\n",
       "      <th>HQ1</th>\n",
       "      <td>6</td>\n",
       "      <td>0</td>\n",
       "      <td>7</td>\n",
       "      <td>10</td>\n",
       "      <td>7</td>\n",
       "      <td>0</td>\n",
       "      <td>0</td>\n",
       "      <td>0</td>\n",
       "      <td>3</td>\n",
       "      <td>0</td>\n",
       "      <td>3</td>\n",
       "      <td>10</td>\n",
       "      <td>7</td>\n",
       "      <td>7</td>\n",
       "      <td>7</td>\n",
       "      <td>7</td>\n",
       "      <td>0</td>\n",
       "      <td>0</td>\n",
       "      <td>0</td>\n",
       "      <td>3</td>\n",
       "      <td>99</td>\n",
       "    </tr>\n",
       "    <tr>\n",
       "      <th>HQ2</th>\n",
       "      <td>3</td>\n",
       "      <td>3</td>\n",
       "      <td>3</td>\n",
       "      <td>23</td>\n",
       "      <td>0</td>\n",
       "      <td>6</td>\n",
       "      <td>0</td>\n",
       "      <td>0</td>\n",
       "      <td>3</td>\n",
       "      <td>10</td>\n",
       "      <td>10</td>\n",
       "      <td>6</td>\n",
       "      <td>17</td>\n",
       "      <td>3</td>\n",
       "      <td>0</td>\n",
       "      <td>7</td>\n",
       "      <td>10</td>\n",
       "      <td>10</td>\n",
       "      <td>0</td>\n",
       "      <td>0</td>\n",
       "      <td>99</td>\n",
       "    </tr>\n",
       "    <tr>\n",
       "      <th>HQ3</th>\n",
       "      <td>7</td>\n",
       "      <td>7</td>\n",
       "      <td>3</td>\n",
       "      <td>6</td>\n",
       "      <td>0</td>\n",
       "      <td>3</td>\n",
       "      <td>0</td>\n",
       "      <td>7</td>\n",
       "      <td>7</td>\n",
       "      <td>0</td>\n",
       "      <td>0</td>\n",
       "      <td>14</td>\n",
       "      <td>10</td>\n",
       "      <td>7</td>\n",
       "      <td>10</td>\n",
       "      <td>7</td>\n",
       "      <td>3</td>\n",
       "      <td>0</td>\n",
       "      <td>3</td>\n",
       "      <td>0</td>\n",
       "      <td>99</td>\n",
       "    </tr>\n",
       "    <tr>\n",
       "      <th>HQ4</th>\n",
       "      <td>14</td>\n",
       "      <td>7</td>\n",
       "      <td>14</td>\n",
       "      <td>10</td>\n",
       "      <td>9</td>\n",
       "      <td>0</td>\n",
       "      <td>0</td>\n",
       "      <td>7</td>\n",
       "      <td>0</td>\n",
       "      <td>11</td>\n",
       "      <td>6</td>\n",
       "      <td>0</td>\n",
       "      <td>7</td>\n",
       "      <td>7</td>\n",
       "      <td>3</td>\n",
       "      <td>3</td>\n",
       "      <td>10</td>\n",
       "      <td>7</td>\n",
       "      <td>21</td>\n",
       "      <td>0</td>\n",
       "      <td>99</td>\n",
       "    </tr>\n",
       "  </tbody>\n",
       "</table>\n",
       "</div>"
      ],
      "text/plain": [
       "Year 2000 2001 2002 2003 2004 2005 2006 2007 2008 2009 2010 2011 2012 2013 2014 2015 2016 2017 2018 2019  test\n",
       "VQ1     7    3    3    0    0    0    7    0    7    0    7    3    7    7    7    0    7    3    7    0    99\n",
       "VQ2     6    0   17    7    3    0    9    3    8    2    7    0    7    7   10    3    7    7   10    7    99\n",
       "VQ3     7    3    0    0   10    7    3    0    7   10    0    3    0    7    0    3    0    3    3    0    99\n",
       "VQ4     7    0    3    0    7    0    7    0    7    3    0    6    7    0    3    6    0   10    3    3    99\n",
       "HQ1     6    0    7   10    7    0    0    0    3    0    3   10    7    7    7    7    0    0    0    3    99\n",
       "HQ2     3    3    3   23    0    6    0    0    3   10   10    6   17    3    0    7   10   10    0    0    99\n",
       "HQ3     7    7    3    6    0    3    0    7    7    0    0   14   10    7   10    7    3    0    3    0    99\n",
       "HQ4    14    7   14   10    9    0    0    7    0   11    6    0    7    7    3    3   10    7   21    0    99"
      ]
     },
     "execution_count": 29,
     "metadata": {},
     "output_type": "execute_result"
    }
   ],
   "source": [
    "Tgames_Bears_Wk1_Qonly['test'] = 99\n",
    "Tgames_Bears_Wk1_Qonly"
   ]
  },
  {
   "cell_type": "code",
   "execution_count": 30,
   "metadata": {},
   "outputs": [],
   "source": [
    "X = Tgames_Bears_Wk1_Qonly.drop(['test'], axis=1)\n",
    "y = Tgames_Bears_Wk1_Qonly['test']"
   ]
  },
  {
   "cell_type": "code",
   "execution_count": 31,
   "metadata": {},
   "outputs": [],
   "source": [
    "lr0 = LinearRegression()"
   ]
  },
  {
   "cell_type": "code",
   "execution_count": 32,
   "metadata": {},
   "outputs": [
    {
     "data": {
      "text/plain": [
       "LinearRegression()"
      ]
     },
     "execution_count": 32,
     "metadata": {},
     "output_type": "execute_result"
    }
   ],
   "source": [
    "lr0.fit(X,y)"
   ]
  },
  {
   "cell_type": "code",
   "execution_count": 33,
   "metadata": {},
   "outputs": [
    {
     "data": {
      "text/plain": [
       "array([99., 99., 99., 99., 99., 99., 99., 99.])"
      ]
     },
     "execution_count": 33,
     "metadata": {},
     "output_type": "execute_result"
    }
   ],
   "source": [
    "pred = lr0.predict(X)\n",
    "np.round(pred,1)"
   ]
  },
  {
   "cell_type": "code",
   "execution_count": 6,
   "metadata": {},
   "outputs": [
    {
     "name": "stdout",
     "output_type": "stream",
     "text": [
      "Collecting hmmlearn\n",
      "  Downloading hmmlearn-0.2.5-cp38-cp38-win_amd64.whl (112 kB)\n",
      "Requirement already satisfied: scikit-learn>=0.16 in c:\\users\\chris\\anaconda\\lib\\site-packages (from hmmlearn) (0.24.1)\n",
      "Requirement already satisfied: scipy>=0.19 in c:\\users\\chris\\anaconda\\lib\\site-packages (from hmmlearn) (1.6.2)\n",
      "Requirement already satisfied: numpy>=1.10 in c:\\users\\chris\\anaconda\\lib\\site-packages (from hmmlearn) (1.20.1)\n",
      "Requirement already satisfied: joblib>=0.11 in c:\\users\\chris\\anaconda\\lib\\site-packages (from scikit-learn>=0.16->hmmlearn) (1.0.1)\n",
      "Requirement already satisfied: threadpoolctl>=2.0.0 in c:\\users\\chris\\anaconda\\lib\\site-packages (from scikit-learn>=0.16->hmmlearn) (2.1.0)\n",
      "Installing collected packages: hmmlearn\n",
      "Successfully installed hmmlearn-0.2.5\n"
     ]
    }
   ],
   "source": [
    "!pip install hmmlearn"
   ]
  },
  {
   "cell_type": "code",
   "execution_count": 7,
   "metadata": {},
   "outputs": [],
   "source": [
    "from hmmlearn import hmm"
   ]
  },
  {
   "cell_type": "code",
   "execution_count": 46,
   "metadata": {},
   "outputs": [],
   "source": [
    "model = hmm.GaussianHMM(n_components=19)"
   ]
  },
  {
   "cell_type": "code",
   "execution_count": 36,
   "metadata": {},
   "outputs": [
    {
     "data": {
      "text/html": [
       "<div>\n",
       "<style scoped>\n",
       "    .dataframe tbody tr th:only-of-type {\n",
       "        vertical-align: middle;\n",
       "    }\n",
       "\n",
       "    .dataframe tbody tr th {\n",
       "        vertical-align: top;\n",
       "    }\n",
       "\n",
       "    .dataframe thead th {\n",
       "        text-align: right;\n",
       "    }\n",
       "</style>\n",
       "<table border=\"1\" class=\"dataframe\">\n",
       "  <thead>\n",
       "    <tr style=\"text-align: right;\">\n",
       "      <th></th>\n",
       "      <th>GameID</th>\n",
       "      <th>Week</th>\n",
       "      <th>Vteam</th>\n",
       "      <th>VQ1</th>\n",
       "      <th>VQ2</th>\n",
       "      <th>VQ3</th>\n",
       "      <th>VQ4</th>\n",
       "      <th>Year</th>\n",
       "      <th>Hteam</th>\n",
       "      <th>HQ1</th>\n",
       "      <th>HQ2</th>\n",
       "      <th>HQ3</th>\n",
       "      <th>HQ4</th>\n",
       "    </tr>\n",
       "  </thead>\n",
       "  <tbody>\n",
       "    <tr>\n",
       "      <th>0</th>\n",
       "      <td>200009030min</td>\n",
       "      <td>1</td>\n",
       "      <td>Bears</td>\n",
       "      <td>7</td>\n",
       "      <td>6</td>\n",
       "      <td>7</td>\n",
       "      <td>7</td>\n",
       "      <td>2000</td>\n",
       "      <td>Vikings</td>\n",
       "      <td>6</td>\n",
       "      <td>3</td>\n",
       "      <td>7</td>\n",
       "      <td>14</td>\n",
       "    </tr>\n",
       "    <tr>\n",
       "      <th>264</th>\n",
       "      <td>200109090rav</td>\n",
       "      <td>1</td>\n",
       "      <td>Bears</td>\n",
       "      <td>3</td>\n",
       "      <td>0</td>\n",
       "      <td>3</td>\n",
       "      <td>0</td>\n",
       "      <td>2001</td>\n",
       "      <td>Ravens</td>\n",
       "      <td>0</td>\n",
       "      <td>3</td>\n",
       "      <td>7</td>\n",
       "      <td>7</td>\n",
       "    </tr>\n",
       "    <tr>\n",
       "      <th>524</th>\n",
       "      <td>200209080chi</td>\n",
       "      <td>1</td>\n",
       "      <td>Vikings</td>\n",
       "      <td>3</td>\n",
       "      <td>17</td>\n",
       "      <td>0</td>\n",
       "      <td>3</td>\n",
       "      <td>2002</td>\n",
       "      <td>Bears</td>\n",
       "      <td>7</td>\n",
       "      <td>3</td>\n",
       "      <td>3</td>\n",
       "      <td>14</td>\n",
       "    </tr>\n",
       "    <tr>\n",
       "      <th>798</th>\n",
       "      <td>200309070sfo</td>\n",
       "      <td>1</td>\n",
       "      <td>Bears</td>\n",
       "      <td>0</td>\n",
       "      <td>7</td>\n",
       "      <td>0</td>\n",
       "      <td>0</td>\n",
       "      <td>2003</td>\n",
       "      <td>49ers</td>\n",
       "      <td>10</td>\n",
       "      <td>23</td>\n",
       "      <td>6</td>\n",
       "      <td>10</td>\n",
       "    </tr>\n",
       "    <tr>\n",
       "      <th>1058</th>\n",
       "      <td>200409120chi</td>\n",
       "      <td>1</td>\n",
       "      <td>Lions</td>\n",
       "      <td>0</td>\n",
       "      <td>3</td>\n",
       "      <td>10</td>\n",
       "      <td>7</td>\n",
       "      <td>2004</td>\n",
       "      <td>Bears</td>\n",
       "      <td>7</td>\n",
       "      <td>0</td>\n",
       "      <td>0</td>\n",
       "      <td>9</td>\n",
       "    </tr>\n",
       "    <tr>\n",
       "      <th>1324</th>\n",
       "      <td>200509110was</td>\n",
       "      <td>1</td>\n",
       "      <td>Bears</td>\n",
       "      <td>0</td>\n",
       "      <td>0</td>\n",
       "      <td>7</td>\n",
       "      <td>0</td>\n",
       "      <td>2005</td>\n",
       "      <td>Redskins</td>\n",
       "      <td>0</td>\n",
       "      <td>6</td>\n",
       "      <td>3</td>\n",
       "      <td>0</td>\n",
       "    </tr>\n",
       "    <tr>\n",
       "      <th>1596</th>\n",
       "      <td>200609100gnb</td>\n",
       "      <td>1</td>\n",
       "      <td>Bears</td>\n",
       "      <td>7</td>\n",
       "      <td>9</td>\n",
       "      <td>3</td>\n",
       "      <td>7</td>\n",
       "      <td>2006</td>\n",
       "      <td>Packers</td>\n",
       "      <td>0</td>\n",
       "      <td>0</td>\n",
       "      <td>0</td>\n",
       "      <td>0</td>\n",
       "    </tr>\n",
       "    <tr>\n",
       "      <th>1863</th>\n",
       "      <td>200709090sdg</td>\n",
       "      <td>1</td>\n",
       "      <td>Bears</td>\n",
       "      <td>0</td>\n",
       "      <td>3</td>\n",
       "      <td>0</td>\n",
       "      <td>0</td>\n",
       "      <td>2007</td>\n",
       "      <td>Chargers</td>\n",
       "      <td>0</td>\n",
       "      <td>0</td>\n",
       "      <td>7</td>\n",
       "      <td>7</td>\n",
       "    </tr>\n",
       "    <tr>\n",
       "      <th>2133</th>\n",
       "      <td>200809070clt</td>\n",
       "      <td>1</td>\n",
       "      <td>Bears</td>\n",
       "      <td>7</td>\n",
       "      <td>8</td>\n",
       "      <td>7</td>\n",
       "      <td>7</td>\n",
       "      <td>2008</td>\n",
       "      <td>Colts</td>\n",
       "      <td>3</td>\n",
       "      <td>3</td>\n",
       "      <td>7</td>\n",
       "      <td>0</td>\n",
       "    </tr>\n",
       "    <tr>\n",
       "      <th>2400</th>\n",
       "      <td>200909130gnb</td>\n",
       "      <td>1</td>\n",
       "      <td>Bears</td>\n",
       "      <td>0</td>\n",
       "      <td>2</td>\n",
       "      <td>10</td>\n",
       "      <td>3</td>\n",
       "      <td>2009</td>\n",
       "      <td>Packers</td>\n",
       "      <td>0</td>\n",
       "      <td>10</td>\n",
       "      <td>0</td>\n",
       "      <td>11</td>\n",
       "    </tr>\n",
       "    <tr>\n",
       "      <th>2656</th>\n",
       "      <td>201009120chi</td>\n",
       "      <td>1</td>\n",
       "      <td>Lions</td>\n",
       "      <td>7</td>\n",
       "      <td>7</td>\n",
       "      <td>0</td>\n",
       "      <td>0</td>\n",
       "      <td>2010</td>\n",
       "      <td>Bears</td>\n",
       "      <td>3</td>\n",
       "      <td>10</td>\n",
       "      <td>0</td>\n",
       "      <td>6</td>\n",
       "    </tr>\n",
       "    <tr>\n",
       "      <th>2926</th>\n",
       "      <td>201109110chi</td>\n",
       "      <td>1</td>\n",
       "      <td>Falcons</td>\n",
       "      <td>3</td>\n",
       "      <td>0</td>\n",
       "      <td>3</td>\n",
       "      <td>6</td>\n",
       "      <td>2011</td>\n",
       "      <td>Bears</td>\n",
       "      <td>10</td>\n",
       "      <td>6</td>\n",
       "      <td>14</td>\n",
       "      <td>0</td>\n",
       "    </tr>\n",
       "    <tr>\n",
       "      <th>3189</th>\n",
       "      <td>201209090chi</td>\n",
       "      <td>1</td>\n",
       "      <td>Colts</td>\n",
       "      <td>7</td>\n",
       "      <td>7</td>\n",
       "      <td>0</td>\n",
       "      <td>7</td>\n",
       "      <td>2012</td>\n",
       "      <td>Bears</td>\n",
       "      <td>7</td>\n",
       "      <td>17</td>\n",
       "      <td>10</td>\n",
       "      <td>7</td>\n",
       "    </tr>\n",
       "    <tr>\n",
       "      <th>3460</th>\n",
       "      <td>201309080chi</td>\n",
       "      <td>1</td>\n",
       "      <td>Bengals</td>\n",
       "      <td>7</td>\n",
       "      <td>7</td>\n",
       "      <td>7</td>\n",
       "      <td>0</td>\n",
       "      <td>2013</td>\n",
       "      <td>Bears</td>\n",
       "      <td>7</td>\n",
       "      <td>3</td>\n",
       "      <td>7</td>\n",
       "      <td>7</td>\n",
       "    </tr>\n",
       "    <tr>\n",
       "      <th>3724</th>\n",
       "      <td>201409070chi</td>\n",
       "      <td>1</td>\n",
       "      <td>Bills</td>\n",
       "      <td>7</td>\n",
       "      <td>10</td>\n",
       "      <td>0</td>\n",
       "      <td>3</td>\n",
       "      <td>2014</td>\n",
       "      <td>Bears</td>\n",
       "      <td>7</td>\n",
       "      <td>0</td>\n",
       "      <td>10</td>\n",
       "      <td>3</td>\n",
       "    </tr>\n",
       "    <tr>\n",
       "      <th>3995</th>\n",
       "      <td>2015-1-PackersBears</td>\n",
       "      <td>1</td>\n",
       "      <td>Packers</td>\n",
       "      <td>0</td>\n",
       "      <td>3</td>\n",
       "      <td>3</td>\n",
       "      <td>6</td>\n",
       "      <td>2015</td>\n",
       "      <td>Bears</td>\n",
       "      <td>7</td>\n",
       "      <td>7</td>\n",
       "      <td>7</td>\n",
       "      <td>3</td>\n",
       "    </tr>\n",
       "    <tr>\n",
       "      <th>4253</th>\n",
       "      <td>2016-1-BearsTexans</td>\n",
       "      <td>1</td>\n",
       "      <td>Bears</td>\n",
       "      <td>7</td>\n",
       "      <td>7</td>\n",
       "      <td>0</td>\n",
       "      <td>0</td>\n",
       "      <td>2016</td>\n",
       "      <td>Texans</td>\n",
       "      <td>0</td>\n",
       "      <td>10</td>\n",
       "      <td>3</td>\n",
       "      <td>10</td>\n",
       "    </tr>\n",
       "    <tr>\n",
       "      <th>4508</th>\n",
       "      <td>2017-1-FalconsBears</td>\n",
       "      <td>1</td>\n",
       "      <td>Falcons</td>\n",
       "      <td>3</td>\n",
       "      <td>7</td>\n",
       "      <td>3</td>\n",
       "      <td>10</td>\n",
       "      <td>2017</td>\n",
       "      <td>Bears</td>\n",
       "      <td>0</td>\n",
       "      <td>10</td>\n",
       "      <td>0</td>\n",
       "      <td>7</td>\n",
       "    </tr>\n",
       "    <tr>\n",
       "      <th>4771</th>\n",
       "      <td>2018-1-BearsPackers</td>\n",
       "      <td>1</td>\n",
       "      <td>Bears</td>\n",
       "      <td>7</td>\n",
       "      <td>10</td>\n",
       "      <td>3</td>\n",
       "      <td>3</td>\n",
       "      <td>2018</td>\n",
       "      <td>Packers</td>\n",
       "      <td>0</td>\n",
       "      <td>0</td>\n",
       "      <td>3</td>\n",
       "      <td>21</td>\n",
       "    </tr>\n",
       "    <tr>\n",
       "      <th>5072</th>\n",
       "      <td>2019-1-PackersBears</td>\n",
       "      <td>1</td>\n",
       "      <td>Packers</td>\n",
       "      <td>0</td>\n",
       "      <td>7</td>\n",
       "      <td>0</td>\n",
       "      <td>3</td>\n",
       "      <td>2019</td>\n",
       "      <td>Bears</td>\n",
       "      <td>3</td>\n",
       "      <td>0</td>\n",
       "      <td>0</td>\n",
       "      <td>0</td>\n",
       "    </tr>\n",
       "  </tbody>\n",
       "</table>\n",
       "</div>"
      ],
      "text/plain": [
       "                   GameID  Week    Vteam  VQ1  VQ2  VQ3  VQ4  Year     Hteam  HQ1  HQ2  HQ3  HQ4\n",
       "0            200009030min     1    Bears    7    6    7    7  2000   Vikings    6    3    7   14\n",
       "264          200109090rav     1    Bears    3    0    3    0  2001    Ravens    0    3    7    7\n",
       "524          200209080chi     1  Vikings    3   17    0    3  2002     Bears    7    3    3   14\n",
       "798          200309070sfo     1    Bears    0    7    0    0  2003     49ers   10   23    6   10\n",
       "1058         200409120chi     1    Lions    0    3   10    7  2004     Bears    7    0    0    9\n",
       "1324         200509110was     1    Bears    0    0    7    0  2005  Redskins    0    6    3    0\n",
       "1596         200609100gnb     1    Bears    7    9    3    7  2006   Packers    0    0    0    0\n",
       "1863         200709090sdg     1    Bears    0    3    0    0  2007  Chargers    0    0    7    7\n",
       "2133         200809070clt     1    Bears    7    8    7    7  2008     Colts    3    3    7    0\n",
       "2400         200909130gnb     1    Bears    0    2   10    3  2009   Packers    0   10    0   11\n",
       "2656         201009120chi     1    Lions    7    7    0    0  2010     Bears    3   10    0    6\n",
       "2926         201109110chi     1  Falcons    3    0    3    6  2011     Bears   10    6   14    0\n",
       "3189         201209090chi     1    Colts    7    7    0    7  2012     Bears    7   17   10    7\n",
       "3460         201309080chi     1  Bengals    7    7    7    0  2013     Bears    7    3    7    7\n",
       "3724         201409070chi     1    Bills    7   10    0    3  2014     Bears    7    0   10    3\n",
       "3995  2015-1-PackersBears     1  Packers    0    3    3    6  2015     Bears    7    7    7    3\n",
       "4253   2016-1-BearsTexans     1    Bears    7    7    0    0  2016    Texans    0   10    3   10\n",
       "4508  2017-1-FalconsBears     1  Falcons    3    7    3   10  2017     Bears    0   10    0    7\n",
       "4771  2018-1-BearsPackers     1    Bears    7   10    3    3  2018   Packers    0    0    3   21\n",
       "5072  2019-1-PackersBears     1  Packers    0    7    0    3  2019     Bears    3    0    0    0"
      ]
     },
     "execution_count": 36,
     "metadata": {},
     "output_type": "execute_result"
    }
   ],
   "source": [
    "games_Bears_Wk1"
   ]
  },
  {
   "cell_type": "code",
   "execution_count": 47,
   "metadata": {},
   "outputs": [
    {
     "name": "stderr",
     "output_type": "stream",
     "text": [
      "Fitting a model with 398 free scalar parameters with only 20 data points will result in a degenerate solution.\n",
      "C:\\Users\\cjmartin\\anaconda3\\lib\\site-packages\\hmmlearn\\hmm.py:208: ConvergenceWarning: Number of distinct clusters (3) found smaller than n_clusters (19). Possibly due to duplicate points in X.\n",
      "  kmeans.fit(X)\n"
     ]
    },
    {
     "data": {
      "text/plain": [
       "GaussianHMM(n_components=19)"
      ]
     },
     "execution_count": 47,
     "metadata": {},
     "output_type": "execute_result"
    }
   ],
   "source": [
    "X = games_Bears_Wk1[['VQ1']]\n",
    "model.fit(X)"
   ]
  },
  {
   "cell_type": "code",
   "execution_count": 48,
   "metadata": {},
   "outputs": [
    {
     "data": {
      "text/plain": [
       "array([1, 3, 3, 4, 4, 0, 1, 0, 1, 0, 1, 3, 1, 1, 1, 0, 1, 3, 1, 0])"
      ]
     },
     "execution_count": 48,
     "metadata": {},
     "output_type": "execute_result"
    }
   ],
   "source": [
    "model.predict(X)"
   ]
  },
  {
   "cell_type": "code",
   "execution_count": 40,
   "metadata": {},
   "outputs": [
    {
     "data": {
      "text/plain": [
       "[<matplotlib.lines.Line2D at 0x250f55a9430>]"
      ]
     },
     "execution_count": 40,
     "metadata": {},
     "output_type": "execute_result"
    },
    {
     "data": {
      "image/png": "[encoded data removed]",
      "text/plain": [
       "<Figure size 432x288 with 1 Axes>"
      ]
     },
     "metadata": {
      "needs_background": "light"
     },
     "output_type": "display_data"
    }
   ],
   "source": [
    "import matplotlib.pyplot as plt\n",
    "plt.plot(model.predict(X))"
   ]
  },
  {
   "cell_type": "code",
   "execution_count": 41,
   "metadata": {},
   "outputs": [
    {
     "data": {
      "text/plain": [
       "[<matplotlib.lines.Line2D at 0x250f5617af0>]"
      ]
     },
     "execution_count": 41,
     "metadata": {},
     "output_type": "execute_result"
    },
    {
     "data": {
      "image/png": "[encoded data removed]",
      "text/plain": [
       "<Figure size 432x288 with 1 Axes>"
      ]
     },
     "metadata": {
      "needs_background": "light"
     },
     "output_type": "display_data"
    }
   ],
   "source": [
    "plt.plot(X/(X.max() - X.min()))\n",
    "plt.plot(X.index, model.predict(X))"
   ]
  },
  {
   "cell_type": "code",
   "execution_count": 42,
   "metadata": {},
   "outputs": [],
   "source": [
    "# does not help - try more data"
   ]
  },
  {
   "cell_type": "code",
   "execution_count": 50,
   "metadata": {},
   "outputs": [
    {
     "data": {
      "text/html": [
       "<div>\n",
       "<style scoped>\n",
       "    .dataframe tbody tr th:only-of-type {\n",
       "        vertical-align: middle;\n",
       "    }\n",
       "\n",
       "    .dataframe tbody tr th {\n",
       "        vertical-align: top;\n",
       "    }\n",
       "\n",
       "    .dataframe thead th {\n",
       "        text-align: right;\n",
       "    }\n",
       "</style>\n",
       "<table border=\"1\" class=\"dataframe\">\n",
       "  <thead>\n",
       "    <tr style=\"text-align: right;\">\n",
       "      <th></th>\n",
       "      <th>GameID</th>\n",
       "      <th>Week</th>\n",
       "      <th>Vteam</th>\n",
       "      <th>VQ1</th>\n",
       "      <th>VQ2</th>\n",
       "      <th>VQ3</th>\n",
       "      <th>VQ4</th>\n",
       "      <th>Year</th>\n",
       "      <th>Hteam</th>\n",
       "      <th>HQ1</th>\n",
       "      <th>HQ2</th>\n",
       "      <th>HQ3</th>\n",
       "      <th>HQ4</th>\n",
       "    </tr>\n",
       "  </thead>\n",
       "  <tbody>\n",
       "    <tr>\n",
       "      <th>0</th>\n",
       "      <td>200009030min</td>\n",
       "      <td>1</td>\n",
       "      <td>Bears</td>\n",
       "      <td>7</td>\n",
       "      <td>6</td>\n",
       "      <td>7</td>\n",
       "      <td>7</td>\n",
       "      <td>2000</td>\n",
       "      <td>Vikings</td>\n",
       "      <td>6</td>\n",
       "      <td>3</td>\n",
       "      <td>7</td>\n",
       "      <td>14</td>\n",
       "    </tr>\n",
       "    <tr>\n",
       "      <th>18</th>\n",
       "      <td>200009100tam</td>\n",
       "      <td>2</td>\n",
       "      <td>Bears</td>\n",
       "      <td>0</td>\n",
       "      <td>0</td>\n",
       "      <td>0</td>\n",
       "      <td>0</td>\n",
       "      <td>2000</td>\n",
       "      <td>Buccaneers</td>\n",
       "      <td>0</td>\n",
       "      <td>20</td>\n",
       "      <td>14</td>\n",
       "      <td>7</td>\n",
       "    </tr>\n",
       "    <tr>\n",
       "      <th>68</th>\n",
       "      <td>200010010gnb</td>\n",
       "      <td>5</td>\n",
       "      <td>Bears</td>\n",
       "      <td>10</td>\n",
       "      <td>7</td>\n",
       "      <td>7</td>\n",
       "      <td>3</td>\n",
       "      <td>2000</td>\n",
       "      <td>Packers</td>\n",
       "      <td>0</td>\n",
       "      <td>3</td>\n",
       "      <td>7</td>\n",
       "      <td>14</td>\n",
       "    </tr>\n",
       "    <tr>\n",
       "      <th>108</th>\n",
       "      <td>200010220phi</td>\n",
       "      <td>8</td>\n",
       "      <td>Bears</td>\n",
       "      <td>0</td>\n",
       "      <td>0</td>\n",
       "      <td>0</td>\n",
       "      <td>9</td>\n",
       "      <td>2000</td>\n",
       "      <td>Eagles</td>\n",
       "      <td>3</td>\n",
       "      <td>7</td>\n",
       "      <td>3</td>\n",
       "      <td>0</td>\n",
       "    </tr>\n",
       "    <tr>\n",
       "      <th>148</th>\n",
       "      <td>200011120buf</td>\n",
       "      <td>11</td>\n",
       "      <td>Bears</td>\n",
       "      <td>0</td>\n",
       "      <td>3</td>\n",
       "      <td>0</td>\n",
       "      <td>0</td>\n",
       "      <td>2000</td>\n",
       "      <td>Bills</td>\n",
       "      <td>0</td>\n",
       "      <td>6</td>\n",
       "      <td>7</td>\n",
       "      <td>7</td>\n",
       "    </tr>\n",
       "    <tr>\n",
       "      <th>...</th>\n",
       "      <td>...</td>\n",
       "      <td>...</td>\n",
       "      <td>...</td>\n",
       "      <td>...</td>\n",
       "      <td>...</td>\n",
       "      <td>...</td>\n",
       "      <td>...</td>\n",
       "      <td>...</td>\n",
       "      <td>...</td>\n",
       "      <td>...</td>\n",
       "      <td>...</td>\n",
       "      <td>...</td>\n",
       "      <td>...</td>\n",
       "    </tr>\n",
       "    <tr>\n",
       "      <th>5182</th>\n",
       "      <td>2019-9-BearsEagles</td>\n",
       "      <td>9</td>\n",
       "      <td>Bears</td>\n",
       "      <td>0</td>\n",
       "      <td>0</td>\n",
       "      <td>7</td>\n",
       "      <td>7</td>\n",
       "      <td>2019</td>\n",
       "      <td>Eagles</td>\n",
       "      <td>3</td>\n",
       "      <td>9</td>\n",
       "      <td>7</td>\n",
       "      <td>3</td>\n",
       "    </tr>\n",
       "    <tr>\n",
       "      <th>5217</th>\n",
       "      <td>2019-11-BearsRams</td>\n",
       "      <td>11</td>\n",
       "      <td>Bears</td>\n",
       "      <td>0</td>\n",
       "      <td>0</td>\n",
       "      <td>7</td>\n",
       "      <td>0</td>\n",
       "      <td>2019</td>\n",
       "      <td>Rams</td>\n",
       "      <td>0</td>\n",
       "      <td>10</td>\n",
       "      <td>0</td>\n",
       "      <td>7</td>\n",
       "    </tr>\n",
       "    <tr>\n",
       "      <th>5246</th>\n",
       "      <td>2019-13-BearsLions</td>\n",
       "      <td>13</td>\n",
       "      <td>Bears</td>\n",
       "      <td>7</td>\n",
       "      <td>3</td>\n",
       "      <td>7</td>\n",
       "      <td>7</td>\n",
       "      <td>2019</td>\n",
       "      <td>Lions</td>\n",
       "      <td>14</td>\n",
       "      <td>3</td>\n",
       "      <td>0</td>\n",
       "      <td>3</td>\n",
       "    </tr>\n",
       "    <tr>\n",
       "      <th>5273</th>\n",
       "      <td>2019-15-BearsPackers</td>\n",
       "      <td>15</td>\n",
       "      <td>Bears</td>\n",
       "      <td>0</td>\n",
       "      <td>3</td>\n",
       "      <td>0</td>\n",
       "      <td>10</td>\n",
       "      <td>2019</td>\n",
       "      <td>Packers</td>\n",
       "      <td>7</td>\n",
       "      <td>0</td>\n",
       "      <td>14</td>\n",
       "      <td>0</td>\n",
       "    </tr>\n",
       "    <tr>\n",
       "      <th>5297</th>\n",
       "      <td>2019-17-BearsVikings</td>\n",
       "      <td>17</td>\n",
       "      <td>Bears</td>\n",
       "      <td>6</td>\n",
       "      <td>5</td>\n",
       "      <td>7</td>\n",
       "      <td>3</td>\n",
       "      <td>2019</td>\n",
       "      <td>Vikings</td>\n",
       "      <td>0</td>\n",
       "      <td>6</td>\n",
       "      <td>0</td>\n",
       "      <td>13</td>\n",
       "    </tr>\n",
       "  </tbody>\n",
       "</table>\n",
       "<p>160 rows × 13 columns</p>\n",
       "</div>"
      ],
      "text/plain": [
       "                    GameID  Week  Vteam  VQ1  VQ2  VQ3  VQ4  Year       Hteam  HQ1  HQ2  HQ3  HQ4\n",
       "0             200009030min     1  Bears    7    6    7    7  2000     Vikings    6    3    7   14\n",
       "18            200009100tam     2  Bears    0    0    0    0  2000  Buccaneers    0   20   14    7\n",
       "68            200010010gnb     5  Bears   10    7    7    3  2000     Packers    0    3    7   14\n",
       "108           200010220phi     8  Bears    0    0    0    9  2000      Eagles    3    7    3    0\n",
       "148           200011120buf    11  Bears    0    3    0    0  2000       Bills    0    6    7    7\n",
       "...                    ...   ...    ...  ...  ...  ...  ...   ...         ...  ...  ...  ...  ...\n",
       "5182    2019-9-BearsEagles     9  Bears    0    0    7    7  2019      Eagles    3    9    7    3\n",
       "5217     2019-11-BearsRams    11  Bears    0    0    7    0  2019        Rams    0   10    0    7\n",
       "5246    2019-13-BearsLions    13  Bears    7    3    7    7  2019       Lions   14    3    0    3\n",
       "5273  2019-15-BearsPackers    15  Bears    0    3    0   10  2019     Packers    7    0   14    0\n",
       "5297  2019-17-BearsVikings    17  Bears    6    5    7    3  2019     Vikings    0    6    0   13\n",
       "\n",
       "[160 rows x 13 columns]"
      ]
     },
     "execution_count": 50,
     "metadata": {},
     "output_type": "execute_result"
    }
   ],
   "source": [
    "Vgames_Bears = games[(games.Vteam=='Bears')]\n",
    "Vgames_Bears"
   ]
  },
  {
   "cell_type": "code",
   "execution_count": 76,
   "metadata": {},
   "outputs": [
    {
     "data": {
      "text/plain": [
       "array([ 0,  3,  6,  7,  9, 10, 14, 17, 28], dtype=int64)"
      ]
     },
     "execution_count": 76,
     "metadata": {},
     "output_type": "execute_result"
    }
   ],
   "source": [
    "np.sort(Vgames_Bears['VQ1'].unique())"
   ]
  },
  {
   "cell_type": "code",
   "execution_count": 51,
   "metadata": {},
   "outputs": [],
   "source": [
    "modelVB = hmm.GaussianHMM(n_components=35)"
   ]
  },
  {
   "cell_type": "code",
   "execution_count": 53,
   "metadata": {},
   "outputs": [
    {
     "name": "stderr",
     "output_type": "stream",
     "text": [
      "Fitting a model with 1294 free scalar parameters with only 160 data points will result in a degenerate solution.\n",
      "C:\\Users\\cjmartin\\anaconda3\\lib\\site-packages\\hmmlearn\\hmm.py:208: ConvergenceWarning: Number of distinct clusters (9) found smaller than n_clusters (35). Possibly due to duplicate points in X.\n",
      "  kmeans.fit(X)\n"
     ]
    },
    {
     "data": {
      "text/plain": [
       "GaussianHMM(n_components=35)"
      ]
     },
     "execution_count": 53,
     "metadata": {},
     "output_type": "execute_result"
    }
   ],
   "source": [
    "X = Vgames_Bears[['VQ1']]\n",
    "modelVB.fit(X)"
   ]
  },
  {
   "cell_type": "code",
   "execution_count": 54,
   "metadata": {},
   "outputs": [
    {
     "data": {
      "text/plain": [
       "array([ 4, 34, 28, 34, 34, 34, 34, 34,  0, 34,  0, 34, 34, 34,  0,  2, 34,\n",
       "        7, 34, 34, 34,  7, 34,  7, 34,  0, 34,  0, 34,  0,  2, 34, 34,  0,\n",
       "       34, 34, 34, 34, 34, 34, 34, 34, 34,  7,  4,  0,  4,  0,  4,  0, 20,\n",
       "        0, 20, 34, 34,  0, 20, 34, 34, 34, 20, 28, 34,  0,  4,  4,  0, 20,\n",
       "       34,  2,  7, 32, 20, 34, 34, 34, 34, 34, 34,  0, 32, 20,  6, 34,  0,\n",
       "        4, 28, 20,  7, 20,  7,  4, 34, 20, 20, 20, 20, 20,  0,  3, 34, 20,\n",
       "        7, 32,  6,  0, 32,  4,  4,  0, 20, 20, 34,  2,  6, 34, 20, 34,  2,\n",
       "       20, 20,  0,  0, 20, 28, 20, 20, 20,  7, 34,  0, 20,  0,  8,  0, 20,\n",
       "       20, 20, 20, 20, 20,  7, 34, 20,  7, 34, 20, 20, 20,  7, 20,  7, 20,\n",
       "        7, 34, 20, 20,  7, 20,  7])"
      ]
     },
     "execution_count": 54,
     "metadata": {},
     "output_type": "execute_result"
    }
   ],
   "source": [
    "modelVB.predict(X)"
   ]
  },
  {
   "cell_type": "code",
   "execution_count": 56,
   "metadata": {},
   "outputs": [
    {
     "data": {
      "text/plain": [
       "[<matplotlib.lines.Line2D at 0x250f575f040>]"
      ]
     },
     "execution_count": 56,
     "metadata": {},
     "output_type": "execute_result"
    },
    {
     "data": {
      "image/png": "[encoded data removed]",
      "text/plain": [
       "<Figure size 432x288 with 1 Axes>"
      ]
     },
     "metadata": {
      "needs_background": "light"
     },
     "output_type": "display_data"
    }
   ],
   "source": [
    "plt.plot(modelVB.predict(X))"
   ]
  },
  {
   "cell_type": "code",
   "execution_count": 61,
   "metadata": {},
   "outputs": [
    {
     "data": {
      "text/plain": [
       "VQ1    3.04375\n",
       "dtype: float64"
      ]
     },
     "execution_count": 61,
     "metadata": {},
     "output_type": "execute_result"
    }
   ],
   "source": [
    "X.mean()"
   ]
  },
  {
   "cell_type": "code",
   "execution_count": 64,
   "metadata": {
    "scrolled": true
   },
   "outputs": [
    {
     "data": {
      "text/plain": [
       "[<matplotlib.lines.Line2D at 0x250f6ae7190>]"
      ]
     },
     "execution_count": 64,
     "metadata": {},
     "output_type": "execute_result"
    },
    {
     "data": {
      "image/png": "[encoded data removed]",
      "text/plain": [
       "<Figure size 432x288 with 1 Axes>"
      ]
     },
     "metadata": {
      "needs_background": "light"
     },
     "output_type": "display_data"
    }
   ],
   "source": [
    "plt.plot(X)\n",
    "plt.plot(X.index, modelVB.predict(X))"
   ]
  },
  {
   "cell_type": "code",
   "execution_count": 65,
   "metadata": {},
   "outputs": [],
   "source": [
    "modelVB2 = hmm.GaussianHMM(n_components=35)"
   ]
  },
  {
   "cell_type": "code",
   "execution_count": 66,
   "metadata": {},
   "outputs": [
    {
     "name": "stderr",
     "output_type": "stream",
     "text": [
      "Fitting a model with 1294 free scalar parameters with only 160 data points will result in a degenerate solution.\n",
      "C:\\Users\\cjmartin\\anaconda3\\lib\\site-packages\\hmmlearn\\hmm.py:208: ConvergenceWarning: Number of distinct clusters (14) found smaller than n_clusters (35). Possibly due to duplicate points in X.\n",
      "  kmeans.fit(X)\n"
     ]
    },
    {
     "data": {
      "text/plain": [
       "GaussianHMM(n_components=35)"
      ]
     },
     "execution_count": 66,
     "metadata": {},
     "output_type": "execute_result"
    }
   ],
   "source": [
    "X = Vgames_Bears[['VQ2']]\n",
    "modelVB2.fit(X)"
   ]
  },
  {
   "cell_type": "code",
   "execution_count": 67,
   "metadata": {},
   "outputs": [
    {
     "data": {
      "text/plain": [
       "array([14,  1,  0,  1,  1,  1,  1,  7, 32,  2,  0, 10, 10,  1,  0, 32, 10,\n",
       "       10, 10,  1,  0,  0,  1,  1, 10,  0,  1,  1,  1,  7,  1,  1, 15, 16,\n",
       "       32,  4,  0,  0,  1,  1,  1,  1, 15, 16, 32,  1,  0,  1, 10,  1,  1,\n",
       "        0,  1, 32, 27, 27,  1, 10,  0,  1,  1,  0, 32,  2, 10, 13, 27, 16,\n",
       "        1, 10,  1,  1,  1, 10,  0,  1,  1, 10,  0,  2, 10,  1,  1,  0,  1,\n",
       "       10,  0,  1, 32,  2,  0,  2,  0,  1,  1, 15,  1, 10,  1,  1,  1,  0,\n",
       "       27, 27, 10,  2,  0,  2,  0,  1, 10,  1,  0,  1,  0, 27,  0,  1,  1,\n",
       "        1,  1,  1,  2,  0, 27, 27, 27, 27,  0,  1, 10,  1, 10,  0,  1, 10,\n",
       "        1, 10, 10, 16, 32,  7,  1, 10, 10, 16,  1,  6,  2,  0, 10,  0, 13,\n",
       "        4,  1,  1,  1,  1,  1,  8])"
      ]
     },
     "execution_count": 67,
     "metadata": {},
     "output_type": "execute_result"
    }
   ],
   "source": [
    "modelVB2.predict(X)"
   ]
  },
  {
   "cell_type": "code",
   "execution_count": 68,
   "metadata": {},
   "outputs": [
    {
     "data": {
      "text/plain": [
       "[<matplotlib.lines.Line2D at 0x250f6b53400>]"
      ]
     },
     "execution_count": 68,
     "metadata": {},
     "output_type": "execute_result"
    },
    {
     "data": {
      "image/png": "[encoded data removed]",
      "text/plain": [
       "<Figure size 432x288 with 1 Axes>"
      ]
     },
     "metadata": {
      "needs_background": "light"
     },
     "output_type": "display_data"
    }
   ],
   "source": [
    "plt.plot(modelVB2.predict(X))"
   ]
  },
  {
   "cell_type": "code",
   "execution_count": 71,
   "metadata": {
    "scrolled": true
   },
   "outputs": [
    {
     "data": {
      "text/plain": [
       "[<matplotlib.lines.Line2D at 0x250f6c9cd00>]"
      ]
     },
     "execution_count": 71,
     "metadata": {},
     "output_type": "execute_result"
    },
    {
     "data": {
      "image/png": "[encoded data removed]",
      "text/plain": [
       "<Figure size 1080x576 with 1 Axes>"
      ]
     },
     "metadata": {
      "needs_background": "light"
     },
     "output_type": "display_data"
    }
   ],
   "source": [
    "fig, ax = plt.subplots(figsize=(15,8))\n",
    "plt.plot(X.index, modelVB2.predict(X))\n",
    "plt.plot(X.index, modelVB.predict(X))"
   ]
  },
  {
   "cell_type": "code",
   "execution_count": 76,
   "metadata": {},
   "outputs": [
    {
     "data": {
      "text/plain": [
       "array([ 0,  3,  6,  7,  9, 10, 14, 17, 28], dtype=int64)"
      ]
     },
     "execution_count": 76,
     "metadata": {},
     "output_type": "execute_result"
    }
   ],
   "source": [
    "np.sort(Vgames_Bears['VQ1'].unique())"
   ]
  },
  {
   "cell_type": "code",
   "execution_count": 77,
   "metadata": {},
   "outputs": [],
   "source": [
    "modelVB3 = hmm.GaussianHMM(n_components=9)"
   ]
  },
  {
   "cell_type": "code",
   "execution_count": 78,
   "metadata": {},
   "outputs": [
    {
     "data": {
      "text/plain": [
       "GaussianHMM(n_components=9)"
      ]
     },
     "execution_count": 78,
     "metadata": {},
     "output_type": "execute_result"
    }
   ],
   "source": [
    "X = Vgames_Bears[['VQ1']]\n",
    "modelVB3.fit(X)"
   ]
  },
  {
   "cell_type": "code",
   "execution_count": 79,
   "metadata": {},
   "outputs": [
    {
     "data": {
      "text/plain": [
       "array([7, 0, 1, 0, 0, 0, 0, 0, 4, 0, 4, 0, 0, 0, 4, 2, 0, 7, 0, 0, 0, 7,\n",
       "       0, 7, 0, 4, 0, 4, 0, 4, 2, 0, 0, 4, 0, 0, 0, 0, 0, 0, 0, 0, 0, 7,\n",
       "       3, 4, 3, 4, 3, 4, 0, 4, 0, 0, 0, 4, 0, 0, 0, 0, 0, 1, 0, 4, 7, 3,\n",
       "       4, 0, 0, 2, 7, 1, 0, 0, 0, 0, 0, 0, 0, 4, 1, 0, 2, 0, 4, 7, 1, 0,\n",
       "       7, 0, 7, 7, 0, 0, 0, 0, 0, 0, 4, 5, 0, 0, 7, 1, 2, 4, 1, 7, 3, 4,\n",
       "       0, 0, 0, 2, 2, 0, 0, 0, 2, 0, 0, 4, 4, 0, 1, 0, 0, 0, 7, 0, 4, 0,\n",
       "       4, 8, 4, 0, 0, 0, 0, 0, 0, 8, 0, 0, 7, 0, 0, 0, 0, 7, 0, 7, 0, 7,\n",
       "       0, 0, 0, 7, 0, 8])"
      ]
     },
     "execution_count": 79,
     "metadata": {},
     "output_type": "execute_result"
    }
   ],
   "source": [
    "modelVB3.predict(X)"
   ]
  },
  {
   "cell_type": "code",
   "execution_count": 100,
   "metadata": {},
   "outputs": [],
   "source": [
    "preds = modelVB3.predict(X)"
   ]
  },
  {
   "cell_type": "code",
   "execution_count": 89,
   "metadata": {},
   "outputs": [],
   "source": [
    "raw = [0,1,2,3,4,5,6,7,8]\n",
    "scores = [ 0,  3,  6,  7,  9, 10, 14, 17, 28]\n",
    "mapper_dict= {0: 0, 1: 3, 2: 6, 3: 7, 4: 9, 5: 10, 6: 14, 7: 17, 8: 28}"
   ]
  },
  {
   "cell_type": "code",
   "execution_count": 98,
   "metadata": {},
   "outputs": [
    {
     "name": "stdout",
     "output_type": "stream",
     "text": [
      "Collecting numpy_indexed\n",
      "  Using cached numpy_indexed-0.3.5-py2.py3-none-any.whl (18 kB)\n",
      "Requirement already satisfied: future in c:\\users\\cjmartin\\anaconda3\\lib\\site-packages (from numpy_indexed) (0.18.2)\n",
      "Requirement already satisfied: numpy in c:\\users\\cjmartin\\anaconda3\\lib\\site-packages (from numpy_indexed) (1.20.3)\n",
      "Installing collected packages: numpy-indexed\n",
      "Successfully installed numpy-indexed-0.3.5\n"
     ]
    }
   ],
   "source": [
    "!pip install numpy_indexed "
   ]
  },
  {
   "cell_type": "code",
   "execution_count": 101,
   "metadata": {},
   "outputs": [
    {
     "data": {
      "text/plain": [
       "array([17,  0,  3,  0,  0,  0,  0,  0,  9,  0,  9,  0,  0,  0,  9,  6,  0,\n",
       "       17,  0,  0,  0, 17,  0, 17,  0,  9,  0,  9,  0,  9,  6,  0,  0,  9,\n",
       "        0,  0,  0,  0,  0,  0,  0,  0,  0, 17,  7,  9,  7,  9,  7,  9,  0,\n",
       "        9,  0,  0,  0,  9,  0,  0,  0,  0,  0,  3,  0,  9, 17,  7,  9,  0,\n",
       "        0,  6, 17,  3,  0,  0,  0,  0,  0,  0,  0,  9,  3,  0,  6,  0,  9,\n",
       "       17,  3,  0, 17,  0, 17, 17,  0,  0,  0,  0,  0,  0,  9, 10,  0,  0,\n",
       "       17,  3,  6,  9,  3, 17,  7,  9,  0,  0,  0,  6,  6,  0,  0,  0,  6,\n",
       "        0,  0,  9,  9,  0,  3,  0,  0,  0, 17,  0,  9,  0,  9, 28,  9,  0,\n",
       "        0,  0,  0,  0,  0, 28,  0,  0, 17,  0,  0,  0,  0, 17,  0, 17,  0,\n",
       "       17,  0,  0,  0, 17,  0, 28])"
      ]
     },
     "execution_count": 101,
     "metadata": {},
     "output_type": "execute_result"
    }
   ],
   "source": [
    "import numpy_indexed\n",
    "remapped_array = numpy_indexed.remap(preds, list(mapper_dict.keys()), list(mapper_dict.values()))\n",
    "remapped_array"
   ]
  },
  {
   "cell_type": "code",
   "execution_count": 102,
   "metadata": {},
   "outputs": [
    {
     "data": {
      "text/plain": [
       "[<matplotlib.lines.Line2D at 0x250dba63f70>]"
      ]
     },
     "execution_count": 102,
     "metadata": {},
     "output_type": "execute_result"
    },
    {
     "data": {
      "image/png": "[encoded data removed]",
      "text/plain": [
       "<Figure size 432x288 with 1 Axes>"
      ]
     },
     "metadata": {
      "needs_background": "light"
     },
     "output_type": "display_data"
    }
   ],
   "source": [
    "plt.plot(remapped_array)"
   ]
  },
  {
   "cell_type": "code",
   "execution_count": 80,
   "metadata": {},
   "outputs": [
    {
     "data": {
      "text/plain": [
       "[<matplotlib.lines.Line2D at 0x250f6d11c70>]"
      ]
     },
     "execution_count": 80,
     "metadata": {},
     "output_type": "execute_result"
    },
    {
     "data": {
      "image/png": "[encoded data removed]",
      "text/plain": [
       "<Figure size 432x288 with 1 Axes>"
      ]
     },
     "metadata": {
      "needs_background": "light"
     },
     "output_type": "display_data"
    }
   ],
   "source": [
    "plt.plot(modelVB3.predict(X))"
   ]
  },
  {
   "cell_type": "code",
   "execution_count": null,
   "metadata": {},
   "outputs": [],
   "source": []
  },
  {
   "cell_type": "code",
   "execution_count": 104,
   "metadata": {},
   "outputs": [
    {
     "data": {
      "text/plain": [
       "[<matplotlib.lines.Line2D at 0x250f6ff2100>]"
      ]
     },
     "execution_count": 104,
     "metadata": {},
     "output_type": "execute_result"
    },
    {
     "data": {
      "image/png": "[encoded data removed]",
      "text/plain": [
       "<Figure size 432x288 with 1 Axes>"
      ]
     },
     "metadata": {
      "needs_background": "light"
     },
     "output_type": "display_data"
    }
   ],
   "source": [
    "plt.plot(X)\n",
    "plt.plot(X.index,remapped_array)"
   ]
  },
  {
   "cell_type": "code",
   "execution_count": 105,
   "metadata": {},
   "outputs": [
    {
     "data": {
      "text/plain": [
       "array([ 0,  2,  3,  5,  6,  7,  8,  9, 10, 12, 13, 14, 15, 16, 17, 20, 21,\n",
       "       23, 24, 28], dtype=int64)"
      ]
     },
     "execution_count": 105,
     "metadata": {},
     "output_type": "execute_result"
    }
   ],
   "source": [
    "np.sort(games['VQ1'].unique())"
   ]
  },
  {
   "cell_type": "code",
   "execution_count": 8,
   "metadata": {},
   "outputs": [],
   "source": [
    "model_VQ1 = hmm.GaussianHMM(n_components=20)"
   ]
  },
  {
   "cell_type": "code",
   "execution_count": 9,
   "metadata": {},
   "outputs": [
    {
     "data": {
      "text/plain": [
       "GaussianHMM(n_components=20)"
      ]
     },
     "execution_count": 9,
     "metadata": {},
     "output_type": "execute_result"
    }
   ],
   "source": [
    "X = games[['VQ1']]\n",
    "model_VQ1.fit(X)"
   ]
  },
  {
   "cell_type": "code",
   "execution_count": 10,
   "metadata": {},
   "outputs": [
    {
     "data": {
      "text/plain": [
       "array([11,  0,  1, ...,  1,  0, 13])"
      ]
     },
     "execution_count": 10,
     "metadata": {},
     "output_type": "execute_result"
    }
   ],
   "source": [
    "model_VQ1.predict(X)"
   ]
  },
  {
   "cell_type": "code",
   "execution_count": 11,
   "metadata": {},
   "outputs": [],
   "source": [
    "predsVQ1 = model_VQ1.predict(X)"
   ]
  },
  {
   "cell_type": "code",
   "execution_count": 12,
   "metadata": {},
   "outputs": [],
   "source": [
    "scores = [ 0,  2,  3,  5,  6,  7,  8,  9, 10, 12, 13, 14, 15, 16, 17, 20, 21,\n",
    "       23, 24, 28]\n",
    "mapper_dict= {0: 0, 1: 2, 2: 3, 3: 5, 4: 6, 5: 7, 6: 8, 7: 9, 8: 10, 9:12, 10: 13,\n",
    "              11: 14, 12: 15, 13: 16, 14: 17, 15: 20, 16: 21, 17: 23, 18: 24, 19:28}"
   ]
  },
  {
   "cell_type": "code",
   "execution_count": 15,
   "metadata": {},
   "outputs": [
    {
     "name": "stdout",
     "output_type": "stream",
     "text": [
      "Collecting numpy_indexed\n",
      "  Downloading numpy_indexed-0.3.5-py2.py3-none-any.whl (18 kB)\n",
      "Requirement already satisfied: future in c:\\users\\chris\\anaconda\\lib\\site-packages (from numpy_indexed) (0.18.2)\n",
      "Requirement already satisfied: numpy in c:\\users\\chris\\anaconda\\lib\\site-packages (from numpy_indexed) (1.20.1)\n",
      "Installing collected packages: numpy-indexed\n",
      "Successfully installed numpy-indexed-0.3.5\n"
     ]
    }
   ],
   "source": [
    "!pip install numpy_indexed"
   ]
  },
  {
   "cell_type": "code",
   "execution_count": 16,
   "metadata": {},
   "outputs": [
    {
     "data": {
      "text/plain": [
       "array([14,  0,  2, ...,  2,  0, 16])"
      ]
     },
     "execution_count": 16,
     "metadata": {},
     "output_type": "execute_result"
    }
   ],
   "source": [
    "import numpy_indexed\n",
    "remapped_array = numpy_indexed.remap(predsVQ1, list(mapper_dict.keys()), list(mapper_dict.values()))\n",
    "remapped_array"
   ]
  },
  {
   "cell_type": "code",
   "execution_count": 20,
   "metadata": {},
   "outputs": [
    {
     "data": {
      "text/plain": [
       "5324"
      ]
     },
     "execution_count": 20,
     "metadata": {},
     "output_type": "execute_result"
    }
   ],
   "source": [
    "len(remapped_array)"
   ]
  },
  {
   "cell_type": "code",
   "execution_count": 18,
   "metadata": {},
   "outputs": [
    {
     "data": {
      "text/plain": [
       "[<matplotlib.lines.Line2D at 0x2028c8fe640>]"
      ]
     },
     "execution_count": 18,
     "metadata": {},
     "output_type": "execute_result"
    },
    {
     "data": {
      "image/png": "[encoded data removed]",
      "text/plain": [
       "<Figure size 1440x576 with 1 Axes>"
      ]
     },
     "metadata": {
      "needs_background": "light"
     },
     "output_type": "display_data"
    }
   ],
   "source": [
    "import matplotlib.pyplot as plt\n",
    "fig, ax = plt.subplots(figsize=(20,8))\n",
    "plt.plot(remapped_array)"
   ]
  },
  {
   "cell_type": "code",
   "execution_count": null,
   "metadata": {},
   "outputs": [],
   "source": []
  },
  {
   "cell_type": "code",
   "execution_count": 19,
   "metadata": {},
   "outputs": [
    {
     "data": {
      "text/plain": [
       "[<matplotlib.lines.Line2D at 0x2028c966250>]"
      ]
     },
     "execution_count": 19,
     "metadata": {},
     "output_type": "execute_result"
    },
    {
     "data": {
      "image/png": "[encoded data removed]",
      "text/plain": [
       "<Figure size 1440x576 with 1 Axes>"
      ]
     },
     "metadata": {
      "needs_background": "light"
     },
     "output_type": "display_data"
    }
   ],
   "source": [
    "fig, ax = plt.subplots(figsize=(20,8))\n",
    "plt.plot(X)\n",
    "plt.plot(X.index,remapped_array)"
   ]
  },
  {
   "cell_type": "code",
   "execution_count": 120,
   "metadata": {},
   "outputs": [],
   "source": [
    "pred_proba_VQ1 = model_VQ1.predict_proba(X)"
   ]
  },
  {
   "cell_type": "code",
   "execution_count": 121,
   "metadata": {},
   "outputs": [
    {
     "data": {
      "text/plain": [
       "array([[0.00000000e+000, 2.99678653e-001, 2.79095580e-006, ...,\n",
       "        1.02509343e-008, 6.05482080e-020, 2.41654041e-007],\n",
       "       [1.72556367e-095, 2.81146840e-139, 2.05352976e-008, ...,\n",
       "        4.07949646e-010, 1.68948905e-010, 4.01996107e-009],\n",
       "       [0.00000000e+000, 1.07803017e-026, 1.40547520e-001, ...,\n",
       "        9.16260894e-002, 2.03557424e-003, 1.16019072e-001],\n",
       "       ...,\n",
       "       [0.00000000e+000, 7.40735018e-027, 1.51834041e-001, ...,\n",
       "        9.91518024e-002, 9.33982133e-004, 1.26449278e-001],\n",
       "       [1.43747187e-095, 1.78819116e-139, 1.37173525e-008, ...,\n",
       "        2.52105198e-010, 1.60705307e-010, 2.58600933e-009],\n",
       "       [9.99782355e-006, 9.54980395e-047, 1.58042859e-006, ...,\n",
       "        1.24779994e-007, 2.14991231e-008, 5.40600204e-007]])"
      ]
     },
     "execution_count": 121,
     "metadata": {},
     "output_type": "execute_result"
    }
   ],
   "source": [
    "pred_proba_VQ1\n",
    "# "
   ]
  },
  {
   "cell_type": "code",
   "execution_count": 123,
   "metadata": {},
   "outputs": [
    {
     "data": {
      "text/plain": [
       "array([0.00000000e+00, 2.99678653e-01, 2.79095580e-06, 0.00000000e+00,\n",
       "       1.91137800e-15, 1.55878646e-02, 8.30024317e-84, 7.63085465e-11,\n",
       "       1.17649307e-01, 1.04581704e-23, 2.31740220e-05, 1.50640543e-01,\n",
       "       3.93433002e-01, 0.00000000e+00, 1.72200860e-04, 2.28122126e-02,\n",
       "       6.83449917e-16, 1.02509343e-08, 6.05482080e-20, 2.41654041e-07])"
      ]
     },
     "execution_count": 123,
     "metadata": {},
     "output_type": "execute_result"
    }
   ],
   "source": [
    "pred_proba_VQ1[0]"
   ]
  },
  {
   "cell_type": "code",
   "execution_count": 129,
   "metadata": {},
   "outputs": [
    {
     "data": {
      "text/plain": [
       "array([15,  5,  7, ...,  7,  5, 16])"
      ]
     },
     "execution_count": 129,
     "metadata": {},
     "output_type": "execute_result"
    }
   ],
   "source": [
    "remapped_array"
   ]
  },
  {
   "cell_type": "code",
   "execution_count": 133,
   "metadata": {},
   "outputs": [
    {
     "data": {
      "text/plain": [
       "<matplotlib.collections.PathCollection at 0x250fbdeb130>"
      ]
     },
     "execution_count": 133,
     "metadata": {},
     "output_type": "execute_result"
    },
    {
     "data": {
      "image/png": "[encoded data removed]",
      "text/plain": [
       "<Figure size 1080x576 with 1 Axes>"
      ]
     },
     "metadata": {
      "needs_background": "light"
     },
     "output_type": "display_data"
    }
   ],
   "source": [
    "fig, ax = plt.subplots(figsize=(15,8))\n",
    "plt.scatter(x = scores, y = pred_proba_VQ1[2])"
   ]
  },
  {
   "cell_type": "code",
   "execution_count": null,
   "metadata": {},
   "outputs": [],
   "source": []
  }
 ],
 "metadata": {
  "kernelspec": {
   "display_name": "Python 3",
   "language": "python",
   "name": "python3"
  },
  "language_info": {
   "codemirror_mode": {
    "name": "ipython",
    "version": 3
   },
   "file_extension": ".py",
   "mimetype": "text/x-python",
   "name": "python",
   "nbconvert_exporter": "python",
   "pygments_lexer": "ipython3",
   "version": "3.8.8"
  }
 },
 "nbformat": 4,
 "nbformat_minor": 4
}
