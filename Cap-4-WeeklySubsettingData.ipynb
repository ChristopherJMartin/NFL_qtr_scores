{
 "cells": [
  {
   "cell_type": "code",
   "execution_count": null,
   "metadata": {},
   "outputs": [],
   "source": [
    "import numpy as np\n",
    "import pandas as pd\n",
    "from sklearn.model_selection import train_test_split\n",
    "from sklearn.linear_model import LogisticRegression\n",
    "from sklearn.ensemble import RandomForestClassifier, BaggingClassifier, ExtraTreesClassifier, GradientBoostingClassifier, AdaBoostClassifier\n",
    "from sklearn.metrics import accuracy_score\n",
    "from sklearn.preprocessing import OneHotEncoder\n",
    "from sklearn.tree import DecisionTreeClassifier\n",
    "from sklearn.naive_bayes import MultinomialNB\n",
    "from sklearn.neighbors import KNeighborsClassifier "
   ]
  },
  {
   "cell_type": "code",
   "execution_count": null,
   "metadata": {},
   "outputs": [],
   "source": [
    "#Set viewing options\n",
    "pd.set_option('display.max_columns', None)  \n",
    "pd.set_option('display.expand_frame_repr', False)"
   ]
  },
  {
   "cell_type": "code",
   "execution_count": null,
   "metadata": {},
   "outputs": [],
   "source": [
    "qwins = pd.read_csv('data/QuarterlyWins.csv')"
   ]
  },
  {
   "cell_type": "code",
   "execution_count": null,
   "metadata": {},
   "outputs": [],
   "source": [
    "qwins.info()"
   ]
  },
  {
   "cell_type": "code",
   "execution_count": null,
   "metadata": {},
   "outputs": [],
   "source": [
    "weekly_quarterly_wins = qwins[['Week','RQ1','RQ2','RQ3','RQ4','Winner']]\n",
    "weekly_quarterly_wins"
   ]
  },
  {
   "cell_type": "code",
   "execution_count": null,
   "metadata": {},
   "outputs": [],
   "source": [
    "weekly_quarterly_wins_no_target = weekly_quarterly_wins.drop(['Winner','Week'], axis=1)"
   ]
  },
  {
   "cell_type": "code",
   "execution_count": null,
   "metadata": {},
   "outputs": [],
   "source": [
    "weekly_quarterly_wins_no_target"
   ]
  },
  {
   "cell_type": "code",
   "execution_count": null,
   "metadata": {},
   "outputs": [],
   "source": [
    "from sklearn.preprocessing import OneHotEncoder"
   ]
  },
  {
   "cell_type": "code",
   "execution_count": null,
   "metadata": {},
   "outputs": [],
   "source": [
    "ohe = OneHotEncoder()\n",
    "weekly_quarterly_wins_encoded = pd.DataFrame(ohe.fit_transform(weekly_quarterly_wins_no_target).toarray())\n",
    "ohe.get_feature_names()\n",
    "weekly_quarterly_wins_encoded.columns = ohe.get_feature_names()\n",
    "#pd.DataFrame(enc.fit_transform(bridge_df[['Bridge_Types_Cat']]).toarray())"
   ]
  },
  {
   "cell_type": "code",
   "execution_count": null,
   "metadata": {},
   "outputs": [],
   "source": [
    "weekly_quarterly_wins_encoded"
   ]
  },
  {
   "cell_type": "code",
   "execution_count": null,
   "metadata": {},
   "outputs": [],
   "source": [
    "weekly_quarterly_wins_for_modeling = pd.concat([weekly_quarterly_wins_encoded, weekly_quarterly_wins['Week'], weekly_quarterly_wins['Winner']],axis=1)\n",
    "weekly_quarterly_wins_for_modeling"
   ]
  },
  {
   "cell_type": "code",
   "execution_count": null,
   "metadata": {},
   "outputs": [],
   "source": [
    "winner_codes = {\"Winner\":     {\"HW\": -1, \"VW\": 1, \"T\": 0}}\n",
    "weekly_quarterly_wins_for_modeling = weekly_quarterly_wins_for_modeling.replace(winner_codes)\n",
    "weekly_quarterly_wins_for_modeling"
   ]
  },
  {
   "cell_type": "code",
   "execution_count": null,
   "metadata": {},
   "outputs": [],
   "source": [
    "# subset data by week\n",
    "week_1_quarterly_wins = weekly_quarterly_wins_for_modeling[weekly_quarterly_wins_for_modeling['Week'] == 1]\n",
    "week_2_quarterly_wins = weekly_quarterly_wins_for_modeling[weekly_quarterly_wins_for_modeling['Week'] == 2]\n",
    "week_3_quarterly_wins = weekly_quarterly_wins_for_modeling[weekly_quarterly_wins_for_modeling['Week'] == 3]\n",
    "week_4_quarterly_wins = weekly_quarterly_wins_for_modeling[weekly_quarterly_wins_for_modeling['Week'] == 4]\n",
    "week_5_quarterly_wins = weekly_quarterly_wins_for_modeling[weekly_quarterly_wins_for_modeling['Week'] == 5]\n",
    "week_6_quarterly_wins = weekly_quarterly_wins_for_modeling[weekly_quarterly_wins_for_modeling['Week'] == 6]\n",
    "week_7_quarterly_wins = weekly_quarterly_wins_for_modeling[weekly_quarterly_wins_for_modeling['Week'] == 7]\n",
    "week_8_quarterly_wins = weekly_quarterly_wins_for_modeling[weekly_quarterly_wins_for_modeling['Week'] == 8]\n",
    "week_9_quarterly_wins = weekly_quarterly_wins_for_modeling[weekly_quarterly_wins_for_modeling['Week'] == 9]\n",
    "week_10_quarterly_wins = weekly_quarterly_wins_for_modeling[weekly_quarterly_wins_for_modeling['Week'] == 10]\n",
    "week_11_quarterly_wins = weekly_quarterly_wins_for_modeling[weekly_quarterly_wins_for_modeling['Week'] == 11]\n",
    "week_12_quarterly_wins = weekly_quarterly_wins_for_modeling[weekly_quarterly_wins_for_modeling['Week'] == 12]\n",
    "week_13_quarterly_wins = weekly_quarterly_wins_for_modeling[weekly_quarterly_wins_for_modeling['Week'] == 13]\n",
    "week_14_quarterly_wins = weekly_quarterly_wins_for_modeling[weekly_quarterly_wins_for_modeling['Week'] == 14]\n",
    "week_15_quarterly_wins = weekly_quarterly_wins_for_modeling[weekly_quarterly_wins_for_modeling['Week'] == 15]\n",
    "week_16_quarterly_wins = weekly_quarterly_wins_for_modeling[weekly_quarterly_wins_for_modeling['Week'] == 16]\n",
    "week_17_quarterly_wins = weekly_quarterly_wins_for_modeling[weekly_quarterly_wins_for_modeling['Week'] == 17]\n",
    "week_WC_quarterly_wins = weekly_quarterly_wins_for_modeling[weekly_quarterly_wins_for_modeling['Week'] == 100]\n",
    "week_DV_quarterly_wins = weekly_quarterly_wins_for_modeling[weekly_quarterly_wins_for_modeling['Week'] == 200]\n",
    "week_CC_quarterly_wins = weekly_quarterly_wins_for_modeling[weekly_quarterly_wins_for_modeling['Week'] == 300]\n",
    "week_SB_quarterly_wins = weekly_quarterly_wins_for_modeling[weekly_quarterly_wins_for_modeling['Week'] == 400]\n"
   ]
  },
  {
   "cell_type": "code",
   "execution_count": null,
   "metadata": {},
   "outputs": [],
   "source": [
    "weeks_quarterly_wins = [week_1_quarterly_wins,week_2_quarterly_wins,week_3_quarterly_wins,week_4_quarterly_wins,\n",
    "                       week_5_quarterly_wins,week_6_quarterly_wins,week_7_quarterly_wins,week_8_quarterly_wins,\n",
    "                       week_9_quarterly_wins,week_10_quarterly_wins,week_11_quarterly_wins,week_12_quarterly_wins,\n",
    "week_13_quarterly_wins,week_14_quarterly_wins,week_15_quarterly_wins,week_16_quarterly_wins,week_17_quarterly_wins,\n",
    "                       week_WC_quarterly_wins,week_DV_quarterly_wins,week_CC_quarterly_wins,week_SB_quarterly_wins]"
   ]
  },
  {
   "cell_type": "code",
   "execution_count": null,
   "metadata": {},
   "outputs": [],
   "source": [
    "## Define 'clumps' (combinations) of quarters to model on\n",
    "# Clump 0\n",
    "Clump_Q1 = ['x0_H', 'x0_HH', 'x0_HHH', 'x0_T', 'x0_V', 'x0_VV', 'x0_VVV']\n",
    "# Clump 1\n",
    "Clump_Q2 = ['x1_H', 'x1_HH', 'x1_HHH', 'x1_T', 'x1_V', 'x1_VV', 'x1_VVV']\n",
    "# Clump 2\n",
    "Clump_Q3 = ['x2_H', 'x2_HH', 'x2_HHH', 'x2_T', 'x2_V', 'x2_VV', 'x2_VVV']\n",
    "# Clump 3\n",
    "Clump_Q4 = ['x3_H', 'x3_HH', 'x3_HHH', 'x3_T', 'x3_V', 'x3_VV', 'x3_VVV']\n",
    "# Clump 4\n",
    "Clump_Q1_Q2=['x0_H', 'x0_HH', 'x0_HHH', 'x0_T', 'x0_V', 'x0_VV', 'x0_VVV', 'x1_H',\n",
    "        'x1_HH', 'x1_HHH', 'x1_T', 'x1_V', 'x1_VV', 'x1_VVV']\n",
    "# Clump 5\n",
    "Clump_Q2_Q3=['x1_H','x1_HH', 'x1_HHH', 'x1_T', 'x1_V', 'x1_VV', 'x1_VVV', 'x2_H', \n",
    "        'x2_HH','x2_HHH', 'x2_T', 'x2_V', 'x2_VV', 'x2_VVV']\n",
    "# Clump 6\n",
    "Clump_Q3_Q4=['x2_H', 'x2_HH','x2_HHH', 'x2_T', 'x2_V', 'x2_VV', 'x2_VVV', 'x3_H', \n",
    "        'x3_HH', 'x3_HHH','x3_T', 'x3_V', 'x3_VV', 'x3_VVV']\n",
    "# Clump 7\n",
    "Clump_Q1_Q3=['x0_H', 'x0_HH', 'x0_HHH', 'x0_T', 'x0_V', 'x0_VV', 'x0_VVV', 'x1_H',\n",
    "        'x2_H', 'x2_HH','x2_HHH', 'x2_T', 'x2_V', 'x2_VV', 'x2_VVV']\n",
    "# Clump 8\n",
    "Clump_Q1_Q4=['x0_H', 'x0_HH', 'x0_HHH', 'x0_T', 'x0_V', 'x0_VV', 'x0_VVV', 'x1_H',\n",
    "        'x3_H', 'x3_HH', 'x3_HHH','x3_T', 'x3_V', 'x3_VV', 'x3_VVV']\n",
    "# Clump 9\n",
    "Clump_Q2_Q4=['x1_H','x1_HH', 'x1_HHH', 'x1_T', 'x1_V', 'x1_VV', 'x1_VVV', 'x3_H', \n",
    "        'x3_HH', 'x3_HHH','x3_T', 'x3_V', 'x3_VV', 'x3_VVV']\n",
    "# Clump 10\n",
    "Clump_Q1_Q2_Q3=['x0_H', 'x0_HH', 'x0_HHH', 'x0_T', 'x0_V', 'x0_VV', 'x0_VVV', 'x1_H',\n",
    "        'x1_HH', 'x1_HHH', 'x1_T', 'x1_V', 'x1_VV', 'x1_VVV', 'x2_H', 'x2_HH',\n",
    "        'x2_HHH', 'x2_T', 'x2_V', 'x2_VV', 'x2_VVV']\n",
    "# Clump 11\n",
    "Clump_Q1_Q3_Q4=['x0_H', 'x0_HH', 'x0_HHH', 'x0_T', 'x0_V', 'x0_VV', 'x0_VVV', 'x2_H',\n",
    "        'x2_HH','x2_HHH', 'x2_T', 'x2_V', 'x2_VV', 'x2_VVV', 'x3_H', 'x3_HH', 'x3_HHH',\n",
    "        'x3_T', 'x3_V', 'x3_VV', 'x3_VVV']\n",
    "# Clump 12\n",
    "Clump_Q1_Q2_Q4=['x0_H', 'x0_HH', 'x0_HHH', 'x0_T', 'x0_V', 'x0_VV', 'x0_VVV', 'x1_H',\n",
    "       'x1_HH', 'x1_HHH', 'x1_T', 'x1_V', 'x1_VV', 'x1_VVV', 'x3_H', 'x3_HH', 'x3_HHH',\n",
    "       'x3_T', 'x3_V', 'x3_VV', 'x3_VVV']\n",
    "# Clump 13\n",
    "Clump_Q2_Q3_Q4=['x1_H','x1_HH', 'x1_HHH', 'x1_T', 'x1_V', 'x1_VV', 'x1_VVV', 'x2_H', \n",
    "       'x2_HH','x2_HHH', 'x2_T', 'x2_V', 'x2_VV', 'x2_VVV', 'x3_H', 'x3_HH', 'x3_HHH',\n",
    "       'x3_T', 'x3_V', 'x3_VV', 'x3_VVV']\n",
    "# Clump 14\n",
    "Clump_Q1_Q2_Q3_Q4=['x0_H', 'x0_HH', 'x0_HHH', 'x0_T', 'x0_V', 'x0_VV', 'x0_VVV',\n",
    "       'x1_H','x1_HH', 'x1_HHH', 'x1_T', 'x1_V', 'x1_VV', 'x1_VVV', 'x2_H', 'x2_HH',\n",
    "       'x2_HHH', 'x2_T', 'x2_V', 'x2_VV', 'x2_VVV', 'x3_H', 'x3_HH', 'x3_HHH',\n",
    "       'x3_T', 'x3_V', 'x3_VV', 'x3_VVV']"
   ]
  },
  {
   "cell_type": "code",
   "execution_count": null,
   "metadata": {},
   "outputs": [],
   "source": [
    "clumps = [Clump_Q1,Clump_Q2,Clump_Q3,Clump_Q4,Clump_Q1_Q2,Clump_Q2_Q3,Clump_Q3_Q4,\n",
    "          Clump_Q1_Q3,Clump_Q1_Q4,Clump_Q2_Q4,Clump_Q1_Q2_Q3,Clump_Q1_Q3_Q4,Clump_Q1_Q2_Q4,\n",
    "         Clump_Q2_Q3_Q4,Clump_Q1_Q2_Q3_Q4]"
   ]
  },
  {
   "cell_type": "code",
   "execution_count": null,
   "metadata": {},
   "outputs": [],
   "source": [
    "weeks_quarterly_wins[-1]"
   ]
  },
  {
   "cell_type": "code",
   "execution_count": null,
   "metadata": {
    "tags": []
   },
   "outputs": [],
   "source": [
    "record = pd.DataFrame(columns=['Week','Clump', 'Estimator', 'params', 'accuracy'])\n",
    "for indx, weeks in enumerate(weeks_quarterly_wins):\n",
    "    weekly = weeks_quarterly_wins[indx]\n",
    "    for index, clump in enumerate(clumps):\n",
    "        X = weekly[clump]\n",
    "        y = weekly['Winner']\n",
    "        X_train, X_test, y_train, y_test = train_test_split(X,y, random_state = 32221)\n",
    "        modelname = 'LogisticRegression'\n",
    "        model = LogisticRegression() # change estimator each time\n",
    "        # and GridSearch here?\n",
    "        model.fit(X_train, y_train)\n",
    "        pred = model.predict(X_test)\n",
    "        score = accuracy_score(y_test, pred)\n",
    "        print(score)\n",
    "        record = record.append({'Week': indx + 1, 'Clump': index, 'Estimator': modelname, \n",
    "                       'params': 'NA', 'accuracy': score}, ignore_index=True)"
   ]
  },
  {
   "cell_type": "code",
   "execution_count": null,
   "metadata": {},
   "outputs": [],
   "source": [
    "record"
   ]
  },
  {
   "cell_type": "code",
   "execution_count": null,
   "metadata": {
    "tags": []
   },
   "outputs": [],
   "source": [
    "#record = pd.DataFrame(columns=['Week','Clump', 'Estimator', 'params', 'accuracy'])\n",
    "for indx, weeks in enumerate(weeks_quarterly_wins):\n",
    "    weekly = weeks_quarterly_wins[indx]\n",
    "    for index, clump in enumerate(clumps):\n",
    "        X = weekly[clump]\n",
    "        y = weekly['Winner']\n",
    "        X_train, X_test, y_train, y_test = train_test_split(X,y, random_state = 32221)\n",
    "        modelname = 'BaggingClassifier'\n",
    "        model = BaggingClassifier() # change estimator each time\n",
    "        # and GridSearch here?\n",
    "        model.fit(X_train, y_train)\n",
    "        pred = model.predict(X_test)\n",
    "        score = accuracy_score(y_test, pred)\n",
    "        print(score)\n",
    "        record = record.append({'Week': indx + 1, 'Clump': index, 'Estimator': modelname, \n",
    "                       'params': 'NA', 'accuracy': score}, ignore_index=True)"
   ]
  },
  {
   "cell_type": "code",
   "execution_count": null,
   "metadata": {
    "tags": []
   },
   "outputs": [],
   "source": [
    "record.tail(17)"
   ]
  },
  {
   "cell_type": "code",
   "execution_count": null,
   "metadata": {
    "tags": []
   },
   "outputs": [],
   "source": [
    "#record = pd.DataFrame(columns=['Week','Clump', 'Estimator', 'params', 'accuracy'])\n",
    "for indx, weeks in enumerate(weeks_quarterly_wins):\n",
    "    weekly = weeks_quarterly_wins[indx]\n",
    "    for index, clump in enumerate(clumps):\n",
    "        X = weekly[clump]\n",
    "        y = weekly['Winner']\n",
    "        X_train, X_test, y_train, y_test = train_test_split(X,y, random_state = 32221)\n",
    "        modelname = 'RandomForestClassifier'\n",
    "        model = RandomForestClassifier() # change estimator each time\n",
    "        # and GridSearch here?\n",
    "        model.fit(X_train, y_train)\n",
    "        pred = model.predict(X_test)\n",
    "        score = accuracy_score(y_test, pred)\n",
    "        print(score)\n",
    "        record = record.append({'Week': indx + 1, 'Clump': index, 'Estimator': modelname, \n",
    "                       'params': 'NA', 'accuracy': score}, ignore_index=True)"
   ]
  },
  {
   "cell_type": "code",
   "execution_count": null,
   "metadata": {
    "tags": []
   },
   "outputs": [],
   "source": [
    "record.tail(17)"
   ]
  },
  {
   "cell_type": "code",
   "execution_count": null,
   "metadata": {
    "tags": []
   },
   "outputs": [],
   "source": [
    "#record = pd.DataFrame(columns=['Week','Clump', 'Estimator', 'params', 'accuracy'])\n",
    "for indx, weeks in enumerate(weeks_quarterly_wins):\n",
    "    weekly = weeks_quarterly_wins[indx]\n",
    "    for index, clump in enumerate(clumps):\n",
    "        X = weekly[clump]\n",
    "        y = weekly['Winner']\n",
    "        X_train, X_test, y_train, y_test = train_test_split(X,y, random_state = 32221)\n",
    "        modelname = 'ExtraTreesClassifier'\n",
    "        model = ExtraTreesClassifier() # change estimator each time\n",
    "        # and GridSearch here?\n",
    "        model.fit(X_train, y_train)\n",
    "        pred = model.predict(X_test)\n",
    "        score = accuracy_score(y_test, pred)\n",
    "        print(score)\n",
    "        record = record.append({'Week': indx + 1, 'Clump': index, 'Estimator': modelname, \n",
    "                       'params': 'NA', 'accuracy': score}, ignore_index=True)"
   ]
  },
  {
   "cell_type": "code",
   "execution_count": null,
   "metadata": {},
   "outputs": [],
   "source": [
    "record.tail(17)"
   ]
  },
  {
   "cell_type": "code",
   "execution_count": null,
   "metadata": {
    "tags": []
   },
   "outputs": [],
   "source": [
    "#record = pd.DataFrame(columns=['Week','Clump', 'Estimator', 'params', 'accuracy'])\n",
    "for indx, weeks in enumerate(weeks_quarterly_wins):\n",
    "    weekly = weeks_quarterly_wins[indx]\n",
    "    for index, clump in enumerate(clumps):\n",
    "        X = weekly[clump]\n",
    "        y = weekly['Winner']\n",
    "        X_train, X_test, y_train, y_test = train_test_split(X,y, random_state = 32221)\n",
    "        modelname = 'DecisionTreeClassifier'\n",
    "        model = DecisionTreeClassifier() # change estimator each time\n",
    "        # and GridSearch here?\n",
    "        model.fit(X_train, y_train)\n",
    "        pred = model.predict(X_test)\n",
    "        score = accuracy_score(y_test, pred)\n",
    "        print(score)\n",
    "        record = record.append({'Week': indx + 1, 'Clump': index, 'Estimator': modelname, \n",
    "                       'params': 'NA', 'accuracy': score}, ignore_index=True)"
   ]
  },
  {
   "cell_type": "code",
   "execution_count": null,
   "metadata": {
    "tags": []
   },
   "outputs": [],
   "source": [
    "record.tail(17)"
   ]
  },
  {
   "cell_type": "code",
   "execution_count": null,
   "metadata": {
    "tags": []
   },
   "outputs": [],
   "source": [
    "#record = pd.DataFrame(columns=['Week','Clump', 'Estimator', 'params', 'accuracy'])\n",
    "for indx, weeks in enumerate(weeks_quarterly_wins):\n",
    "    weekly = weeks_quarterly_wins[indx]\n",
    "    for index, clump in enumerate(clumps):\n",
    "        X = weekly[clump]\n",
    "        y = weekly['Winner']\n",
    "        X_train, X_test, y_train, y_test = train_test_split(X,y, random_state = 32221)\n",
    "        modelname = 'KNeighborsClassifier'\n",
    "        model = KNeighborsClassifier() # change estimator each time\n",
    "        # and GridSearch here?\n",
    "        model.fit(X_train, y_train)\n",
    "        pred = model.predict(X_test)\n",
    "        score = accuracy_score(y_test, pred)\n",
    "        print(score)\n",
    "        record = record.append({'Week': indx + 1, 'Clump': index, 'Estimator': modelname, \n",
    "                       'params': 'NA', 'accuracy': score}, ignore_index=True)"
   ]
  },
  {
   "cell_type": "code",
   "execution_count": null,
   "metadata": {
    "tags": []
   },
   "outputs": [],
   "source": [
    "record.tail(17)"
   ]
  },
  {
   "cell_type": "code",
   "execution_count": null,
   "metadata": {
    "tags": []
   },
   "outputs": [],
   "source": [
    "#record = pd.DataFrame(columns=['Week','Clump', 'Estimator', 'params', 'accuracy'])\n",
    "for indx, weeks in enumerate(weeks_quarterly_wins):\n",
    "    weekly = weeks_quarterly_wins[indx]\n",
    "    for index, clump in enumerate(clumps):\n",
    "        X = weekly[clump]\n",
    "        y = weekly['Winner']\n",
    "        X_train, X_test, y_train, y_test = train_test_split(X,y, random_state = 32221)\n",
    "        modelname = 'AdaBoostClassifier'\n",
    "        model = AdaBoostClassifier() # change estimator each time\n",
    "        # and GridSearch here?\n",
    "        model.fit(X_train, y_train)\n",
    "        pred = model.predict(X_test)\n",
    "        score = accuracy_score(y_test, pred)\n",
    "        print(score)\n",
    "        record = record.append({'Week': indx + 1, 'Clump': index, 'Estimator': modelname, \n",
    "                       'params': 'NA', 'accuracy': score}, ignore_index=True)"
   ]
  },
  {
   "cell_type": "code",
   "execution_count": null,
   "metadata": {},
   "outputs": [],
   "source": [
    "record.tail(17)"
   ]
  },
  {
   "cell_type": "code",
   "execution_count": null,
   "metadata": {
    "tags": []
   },
   "outputs": [],
   "source": [
    "#record = pd.DataFrame(columns=['Week','Clump', 'Estimator', 'params', 'accuracy'])\n",
    "for indx, weeks in enumerate(weeks_quarterly_wins):\n",
    "    weekly = weeks_quarterly_wins[indx]\n",
    "    for index, clump in enumerate(clumps):\n",
    "        X = weekly[clump]\n",
    "        y = weekly['Winner']\n",
    "        X_train, X_test, y_train, y_test = train_test_split(X,y, random_state = 32221)\n",
    "        modelname = 'GradientBoostingClassifier'\n",
    "        model = GradientBoostingClassifier() # change estimator each time\n",
    "        # and GridSearch here?\n",
    "        model.fit(X_train, y_train)\n",
    "        pred = model.predict(X_test)\n",
    "        score = accuracy_score(y_test, pred)\n",
    "        print(score)\n",
    "        record = record.append({'Week': indx + 1, 'Clump': index, 'Estimator': modelname, \n",
    "                       'params': 'NA', 'accuracy': score}, ignore_index=True)"
   ]
  },
  {
   "cell_type": "code",
   "execution_count": null,
   "metadata": {},
   "outputs": [],
   "source": [
    "record.tail(17)"
   ]
  },
  {
   "cell_type": "code",
   "execution_count": null,
   "metadata": {
    "tags": []
   },
   "outputs": [],
   "source": [
    "#record = pd.DataFrame(columns=['Week','Clump', 'Estimator', 'params', 'accuracy'])\n",
    "for indx, weeks in enumerate(weeks_quarterly_wins):\n",
    "    weekly = weeks_quarterly_wins[indx]\n",
    "    for index, clump in enumerate(clumps):\n",
    "        X = weekly[clump]\n",
    "        y = weekly['Winner']\n",
    "        X_train, X_test, y_train, y_test = train_test_split(X,y, random_state = 32221)\n",
    "        modelname = 'NaiveBayesClassifier'\n",
    "        model = MultinomialNB() # change estimator each time\n",
    "        # and GridSearch here?\n",
    "        model.fit(X_train, y_train)\n",
    "        pred = model.predict(X_test)\n",
    "        score = accuracy_score(y_test, pred)\n",
    "        print(score)\n",
    "        record = record.append({'Week': indx + 1, 'Clump': index, 'Estimator': modelname, \n",
    "                       'params': 'NA', 'accuracy': score}, ignore_index=True)"
   ]
  },
  {
   "cell_type": "code",
   "execution_count": null,
   "metadata": {},
   "outputs": [],
   "source": [
    "record.tail(17)"
   ]
  },
  {
   "cell_type": "code",
   "execution_count": null,
   "metadata": {},
   "outputs": [],
   "source": [
    "### sub in playoff weeks"
   ]
  },
  {
   "cell_type": "code",
   "execution_count": null,
   "metadata": {},
   "outputs": [],
   "source": [
    "record['Week'] = record['Week'].replace(100,'WC')\n",
    "record['Week'] = record['Week'].replace(200,'DV')\n",
    "record['Week'] = record['Week'].replace(300,'CC')\n",
    "record['Week'] = record['Week'].replace(400,'SB')\n",
    "record"
   ]
  },
  {
   "cell_type": "code",
   "execution_count": null,
   "metadata": {},
   "outputs": [],
   "source": [
    "record.to_csv('data/Weekly_Quarter_Combos_Modeling_Results.csv')"
   ]
  },
  {
   "cell_type": "code",
   "execution_count": null,
   "metadata": {},
   "outputs": [],
   "source": []
  }
 ],
 "metadata": {
  "kernelspec": {
   "display_name": "Python 3",
   "language": "python",
   "name": "python3"
  },
  "language_info": {
   "codemirror_mode": {
    "name": "ipython",
    "version": 3
   },
   "file_extension": ".py",
   "mimetype": "text/x-python",
   "name": "python",
   "nbconvert_exporter": "python",
   "pygments_lexer": "ipython3",
   "version": "3.8.8"
  }
 },
 "nbformat": 4,
 "nbformat_minor": 4
}
