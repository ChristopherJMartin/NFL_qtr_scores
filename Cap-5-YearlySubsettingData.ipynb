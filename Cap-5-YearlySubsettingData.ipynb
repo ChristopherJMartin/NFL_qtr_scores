{
 "cells": [
  {
   "cell_type": "code",
   "execution_count": null,
   "metadata": {},
   "outputs": [],
   "source": [
    "import numpy as np\n",
    "import pandas as pd\n",
    "from sklearn.model_selection import train_test_split\n",
    "from sklearn.linear_model import LogisticRegression\n",
    "from sklearn.ensemble import RandomForestClassifier, BaggingClassifier, ExtraTreesClassifier, GradientBoostingClassifier, AdaBoostClassifier\n",
    "from sklearn.metrics import accuracy_score\n",
    "from sklearn.preprocessing import OneHotEncoder\n",
    "from sklearn.tree import DecisionTreeClassifier\n",
    "from sklearn.naive_bayes import MultinomialNB\n",
    "from sklearn.neighbors import KNeighborsClassifier "
   ]
  },
  {
   "cell_type": "code",
   "execution_count": null,
   "metadata": {},
   "outputs": [],
   "source": [
    "#Set viewing options\n",
    "pd.set_option('display.max_columns', None)  \n",
    "pd.set_option('display.expand_frame_repr', False)"
   ]
  },
  {
   "cell_type": "code",
   "execution_count": null,
   "metadata": {},
   "outputs": [],
   "source": [
    "qwins = pd.read_csv('data/QuarterlyWins.csv')"
   ]
  },
  {
   "cell_type": "code",
   "execution_count": null,
   "metadata": {},
   "outputs": [],
   "source": [
    "qwins.info()"
   ]
  },
  {
   "cell_type": "code",
   "execution_count": null,
   "metadata": {},
   "outputs": [],
   "source": [
    "yearly_quarterly_wins = qwins[['Year','RQ1','RQ2','RQ3','RQ4','Winner']]\n",
    "yearly_quarterly_wins"
   ]
  },
  {
   "cell_type": "code",
   "execution_count": null,
   "metadata": {},
   "outputs": [],
   "source": [
    "yearly_quarterly_wins_no_target = yearly_quarterly_wins.drop(['Winner','Year'], axis=1)"
   ]
  },
  {
   "cell_type": "code",
   "execution_count": null,
   "metadata": {},
   "outputs": [],
   "source": [
    "yearly_quarterly_wins_no_target"
   ]
  },
  {
   "cell_type": "code",
   "execution_count": null,
   "metadata": {},
   "outputs": [],
   "source": [
    "from sklearn.preprocessing import OneHotEncoder"
   ]
  },
  {
   "cell_type": "code",
   "execution_count": null,
   "metadata": {},
   "outputs": [],
   "source": [
    "ohe = OneHotEncoder()\n",
    "yearly_quarterly_wins_encoded = pd.DataFrame(ohe.fit_transform(yearly_quarterly_wins_no_target).toarray())\n",
    "ohe.get_feature_names()\n",
    "yearly_quarterly_wins_encoded.columns = ohe.get_feature_names()\n",
    "#pd.DataFrame(enc.fit_transform(bridge_df[['Bridge_Types_Cat']]).toarray())"
   ]
  },
  {
   "cell_type": "code",
   "execution_count": null,
   "metadata": {},
   "outputs": [],
   "source": [
    "yearly_quarterly_wins_encoded"
   ]
  },
  {
   "cell_type": "code",
   "execution_count": null,
   "metadata": {},
   "outputs": [],
   "source": [
    "yearly_quarterly_wins_for_modeling = pd.concat([yearly_quarterly_wins_encoded, yearly_quarterly_wins['Year'], yearly_quarterly_wins['Winner']],axis=1)\n",
    "yearly_quarterly_wins_for_modeling"
   ]
  },
  {
   "cell_type": "code",
   "execution_count": null,
   "metadata": {},
   "outputs": [],
   "source": [
    "winner_codes = {\"Winner\":     {\"HW\": -1, \"VW\": 1, \"T\": 0}}\n",
    "yearly_quarterly_wins_for_modeling = yearly_quarterly_wins_for_modeling.replace(winner_codes)\n",
    "yearly_quarterly_wins_for_modeling"
   ]
  },
  {
   "cell_type": "code",
   "execution_count": null,
   "metadata": {},
   "outputs": [],
   "source": [
    "# subset data by year\n",
    "year_2000_quarterly_wins = yearly_quarterly_wins_for_modeling[yearly_quarterly_wins_for_modeling['Year'] == 2000]\n",
    "year_2001_quarterly_wins = yearly_quarterly_wins_for_modeling[yearly_quarterly_wins_for_modeling['Year'] == 2001]\n",
    "year_2002_quarterly_wins = yearly_quarterly_wins_for_modeling[yearly_quarterly_wins_for_modeling['Year'] == 2002]\n",
    "year_2003_quarterly_wins = yearly_quarterly_wins_for_modeling[yearly_quarterly_wins_for_modeling['Year'] == 2003]\n",
    "year_2004_quarterly_wins = yearly_quarterly_wins_for_modeling[yearly_quarterly_wins_for_modeling['Year'] == 2004]\n",
    "year_2005_quarterly_wins = yearly_quarterly_wins_for_modeling[yearly_quarterly_wins_for_modeling['Year'] == 2005]\n",
    "year_2006_quarterly_wins = yearly_quarterly_wins_for_modeling[yearly_quarterly_wins_for_modeling['Year'] == 2006]\n",
    "year_2007_quarterly_wins = yearly_quarterly_wins_for_modeling[yearly_quarterly_wins_for_modeling['Year'] == 2007]\n",
    "year_2008_quarterly_wins = yearly_quarterly_wins_for_modeling[yearly_quarterly_wins_for_modeling['Year'] == 2008]\n",
    "year_2009_quarterly_wins = yearly_quarterly_wins_for_modeling[yearly_quarterly_wins_for_modeling['Year'] == 2009]\n",
    "year_2010_quarterly_wins = yearly_quarterly_wins_for_modeling[yearly_quarterly_wins_for_modeling['Year'] == 2010]\n",
    "year_2011_quarterly_wins = yearly_quarterly_wins_for_modeling[yearly_quarterly_wins_for_modeling['Year'] == 2011]\n",
    "year_2012_quarterly_wins = yearly_quarterly_wins_for_modeling[yearly_quarterly_wins_for_modeling['Year'] == 2012]\n",
    "year_2013_quarterly_wins = yearly_quarterly_wins_for_modeling[yearly_quarterly_wins_for_modeling['Year'] == 2013]\n",
    "year_2014_quarterly_wins = yearly_quarterly_wins_for_modeling[yearly_quarterly_wins_for_modeling['Year'] == 2014]\n",
    "year_2015_quarterly_wins = yearly_quarterly_wins_for_modeling[yearly_quarterly_wins_for_modeling['Year'] == 2015]\n",
    "year_2016_quarterly_wins = yearly_quarterly_wins_for_modeling[yearly_quarterly_wins_for_modeling['Year'] == 2016]\n",
    "year_2017_quarterly_wins = yearly_quarterly_wins_for_modeling[yearly_quarterly_wins_for_modeling['Year'] == 2017]\n",
    "year_2018_quarterly_wins = yearly_quarterly_wins_for_modeling[yearly_quarterly_wins_for_modeling['Year'] == 2018]\n",
    "year_2019_quarterly_wins = yearly_quarterly_wins_for_modeling[yearly_quarterly_wins_for_modeling['Year'] == 2019]\n",
    "\n"
   ]
  },
  {
   "cell_type": "code",
   "execution_count": null,
   "metadata": {},
   "outputs": [],
   "source": [
    "years_quarterly_wins = [year_2000_quarterly_wins,year_2001_quarterly_wins,year_2002_quarterly_wins,\n",
    "                        year_2003_quarterly_wins,year_2004_quarterly_wins,year_2005_quarterly_wins,\n",
    "                        year_2006_quarterly_wins,year_2007_quarterly_wins,year_2008_quarterly_wins,\n",
    "                        year_2009_quarterly_wins,year_2010_quarterly_wins,year_2011_quarterly_wins,\n",
    "        year_2012_quarterly_wins,year_2013_quarterly_wins,year_2014_quarterly_wins,year_2015_quarterly_wins,\n",
    "        year_2016_quarterly_wins,year_2017_quarterly_wins,year_2018_quarterly_wins,year_2019_quarterly_wins]"
   ]
  },
  {
   "cell_type": "code",
   "execution_count": null,
   "metadata": {},
   "outputs": [],
   "source": [
    "## Define 'clumps' (combinations) of quarters to model on\n",
    "# Clump 0\n",
    "Clump_Q1 = ['x0_H', 'x0_HH', 'x0_HHH', 'x0_T', 'x0_V', 'x0_VV', 'x0_VVV']\n",
    "# Clump 1\n",
    "Clump_Q2 = ['x1_H', 'x1_HH', 'x1_HHH', 'x1_T', 'x1_V', 'x1_VV', 'x1_VVV']\n",
    "# Clump 2\n",
    "Clump_Q3 = ['x2_H', 'x2_HH', 'x2_HHH', 'x2_T', 'x2_V', 'x2_VV', 'x2_VVV']\n",
    "# Clump 3\n",
    "Clump_Q4 = ['x3_H', 'x3_HH', 'x3_HHH', 'x3_T', 'x3_V', 'x3_VV', 'x3_VVV']\n",
    "# Clump 4\n",
    "Clump_Q1_Q2=['x0_H', 'x0_HH', 'x0_HHH', 'x0_T', 'x0_V', 'x0_VV', 'x0_VVV', 'x1_H',\n",
    "        'x1_HH', 'x1_HHH', 'x1_T', 'x1_V', 'x1_VV', 'x1_VVV']\n",
    "# Clump 5\n",
    "Clump_Q2_Q3=['x1_H','x1_HH', 'x1_HHH', 'x1_T', 'x1_V', 'x1_VV', 'x1_VVV', 'x2_H', \n",
    "        'x2_HH','x2_HHH', 'x2_T', 'x2_V', 'x2_VV', 'x2_VVV']\n",
    "# Clump 6\n",
    "Clump_Q3_Q4=['x2_H', 'x2_HH','x2_HHH', 'x2_T', 'x2_V', 'x2_VV', 'x2_VVV', 'x3_H', \n",
    "        'x3_HH', 'x3_HHH','x3_T', 'x3_V', 'x3_VV', 'x3_VVV']\n",
    "# Clump 7\n",
    "Clump_Q1_Q3=['x0_H', 'x0_HH', 'x0_HHH', 'x0_T', 'x0_V', 'x0_VV', 'x0_VVV', 'x1_H',\n",
    "        'x2_H', 'x2_HH','x2_HHH', 'x2_T', 'x2_V', 'x2_VV', 'x2_VVV']\n",
    "# Clump 8\n",
    "Clump_Q1_Q4=['x0_H', 'x0_HH', 'x0_HHH', 'x0_T', 'x0_V', 'x0_VV', 'x0_VVV', 'x1_H',\n",
    "        'x3_H', 'x3_HH', 'x3_HHH','x3_T', 'x3_V', 'x3_VV', 'x3_VVV']\n",
    "# Clump 9\n",
    "Clump_Q2_Q4=['x1_H','x1_HH', 'x1_HHH', 'x1_T', 'x1_V', 'x1_VV', 'x1_VVV', 'x3_H', \n",
    "        'x3_HH', 'x3_HHH','x3_T', 'x3_V', 'x3_VV', 'x3_VVV']\n",
    "# Clump 10\n",
    "Clump_Q1_Q2_Q3=['x0_H', 'x0_HH', 'x0_HHH', 'x0_T', 'x0_V', 'x0_VV', 'x0_VVV', 'x1_H',\n",
    "        'x1_HH', 'x1_HHH', 'x1_T', 'x1_V', 'x1_VV', 'x1_VVV', 'x2_H', 'x2_HH',\n",
    "        'x2_HHH', 'x2_T', 'x2_V', 'x2_VV', 'x2_VVV']\n",
    "# Clump 11\n",
    "Clump_Q1_Q3_Q4=['x0_H', 'x0_HH', 'x0_HHH', 'x0_T', 'x0_V', 'x0_VV', 'x0_VVV', 'x2_H',\n",
    "        'x2_HH','x2_HHH', 'x2_T', 'x2_V', 'x2_VV', 'x2_VVV', 'x3_H', 'x3_HH', 'x3_HHH',\n",
    "        'x3_T', 'x3_V', 'x3_VV', 'x3_VVV']\n",
    "# Clump 12\n",
    "Clump_Q1_Q2_Q4=['x0_H', 'x0_HH', 'x0_HHH', 'x0_T', 'x0_V', 'x0_VV', 'x0_VVV', 'x1_H',\n",
    "       'x1_HH', 'x1_HHH', 'x1_T', 'x1_V', 'x1_VV', 'x1_VVV', 'x3_H', 'x3_HH', 'x3_HHH',\n",
    "       'x3_T', 'x3_V', 'x3_VV', 'x3_VVV']\n",
    "# Clump 13\n",
    "Clump_Q2_Q3_Q4=['x1_H','x1_HH', 'x1_HHH', 'x1_T', 'x1_V', 'x1_VV', 'x1_VVV', 'x2_H', \n",
    "       'x2_HH','x2_HHH', 'x2_T', 'x2_V', 'x2_VV', 'x2_VVV', 'x3_H', 'x3_HH', 'x3_HHH',\n",
    "       'x3_T', 'x3_V', 'x3_VV', 'x3_VVV']\n",
    "# Clump 14\n",
    "Clump_Q1_Q2_Q3_Q4=['x0_H', 'x0_HH', 'x0_HHH', 'x0_T', 'x0_V', 'x0_VV', 'x0_VVV',\n",
    "       'x1_H','x1_HH', 'x1_HHH', 'x1_T', 'x1_V', 'x1_VV', 'x1_VVV', 'x2_H', 'x2_HH',\n",
    "       'x2_HHH', 'x2_T', 'x2_V', 'x2_VV', 'x2_VVV', 'x3_H', 'x3_HH', 'x3_HHH',\n",
    "       'x3_T', 'x3_V', 'x3_VV', 'x3_VVV']"
   ]
  },
  {
   "cell_type": "code",
   "execution_count": null,
   "metadata": {},
   "outputs": [],
   "source": [
    "clumps = [Clump_Q1,Clump_Q2,Clump_Q3,Clump_Q4,Clump_Q1_Q2,Clump_Q2_Q3,Clump_Q3_Q4,\n",
    "          Clump_Q1_Q3,Clump_Q1_Q4,Clump_Q2_Q4,Clump_Q1_Q2_Q3,Clump_Q1_Q3_Q4,Clump_Q1_Q2_Q4,\n",
    "         Clump_Q2_Q3_Q4,Clump_Q1_Q2_Q3_Q4]"
   ]
  },
  {
   "cell_type": "code",
   "execution_count": null,
   "metadata": {},
   "outputs": [],
   "source": [
    "years_quarterly_wins[7]"
   ]
  },
  {
   "cell_type": "code",
   "execution_count": null,
   "metadata": {},
   "outputs": [],
   "source": [
    "from sklearn.model_selection import train_test_split\n",
    "from sklearn.linear_model import LogisticRegression\n",
    "from sklearn.metrics import accuracy_score"
   ]
  },
  {
   "cell_type": "code",
   "execution_count": null,
   "metadata": {
    "tags": []
   },
   "outputs": [],
   "source": [
    "record = pd.DataFrame(columns=['Year','Clump', 'Estimator', 'params', 'accuracy'])\n",
    "for indx, year in enumerate(years_quarterly_wins):\n",
    "    yearly = years_quarterly_wins[indx]\n",
    "    for index, clump in enumerate(clumps):\n",
    "        X = yearly[clump]\n",
    "        y = yearly['Winner']\n",
    "        X_train, X_test, y_train, y_test = train_test_split(X,y, random_state = 32221)\n",
    "        modelname = 'LogisticRegression'\n",
    "        model = LogisticRegression()\n",
    "        model.fit(X_train, y_train)\n",
    "        pred = model.predict(X_test)\n",
    "        score = accuracy_score(y_test, pred)\n",
    "        print(score)\n",
    "        record = record.append({'Year': indx, 'Clump': index, 'Estimator': modelname, \n",
    "                       'params': 'NA', 'accuracy': score}, ignore_index=True)"
   ]
  },
  {
   "cell_type": "code",
   "execution_count": null,
   "metadata": {
    "tags": []
   },
   "outputs": [],
   "source": [
    "for indx, year in enumerate(years_quarterly_wins):\n",
    "    yearly = years_quarterly_wins[indx]\n",
    "    for index, clump in enumerate(clumps):\n",
    "        X = yearly[clump]\n",
    "        y = yearly['Winner']\n",
    "        X_train, X_test, y_train, y_test = train_test_split(X,y, random_state = 32221)\n",
    "        modelname = 'BaggingClassifier'\n",
    "        model = BaggingClassifier() \n",
    "        model.fit(X_train, y_train)\n",
    "        pred = model.predict(X_test)\n",
    "        score = accuracy_score(y_test, pred)\n",
    "        print(score)\n",
    "        record = record.append({'Year': indx + 2000, 'Clump': index, 'Estimator': modelname, \n",
    "                       'params': 'NA', 'accuracy': score}, ignore_index=True)"
   ]
  },
  {
   "cell_type": "code",
   "execution_count": null,
   "metadata": {
    "tags": []
   },
   "outputs": [],
   "source": [
    "record.tail(17)"
   ]
  },
  {
   "cell_type": "code",
   "execution_count": null,
   "metadata": {
    "tags": []
   },
   "outputs": [],
   "source": [
    "for indx, year in enumerate(years_quarterly_wins):\n",
    "    yearly = years_quarterly_wins[indx]\n",
    "    for index, clump in enumerate(clumps):\n",
    "        X = yearly[clump]\n",
    "        y = yearly['Winner']\n",
    "        X_train, X_test, y_train, y_test = train_test_split(X,y, random_state = 32221)\n",
    "        modelname = 'RandomForestClassifier'\n",
    "        model = RandomForestClassifier() \n",
    "        model.fit(X_train, y_train)\n",
    "        pred = model.predict(X_test)\n",
    "        score = accuracy_score(y_test, pred)\n",
    "        print(score)\n",
    "        record = record.append({'Year': indx + 2000, 'Clump': index, 'Estimator': modelname, \n",
    "                       'params': 'NA', 'accuracy': score}, ignore_index=True)"
   ]
  },
  {
   "cell_type": "code",
   "execution_count": null,
   "metadata": {
    "tags": []
   },
   "outputs": [],
   "source": [
    "record.tail(17)"
   ]
  },
  {
   "cell_type": "code",
   "execution_count": null,
   "metadata": {
    "jupyter": {
     "source_hidden": true
    },
    "tags": []
   },
   "outputs": [],
   "source": [
    "for indx, year in enumerate(years_quarterly_wins):\n",
    "    yearly = years_quarterly_wins[indx]\n",
    "    for index, clump in enumerate(clumps):\n",
    "        X = yearly[clump]\n",
    "        y = yearly['Winner']\n",
    "        X_train, X_test, y_train, y_test = train_test_split(X,y, random_state = 32221)\n",
    "        modelname = 'ExtraTreesClassifier'\n",
    "        model = ExtraTreesClassifier()\n",
    "        model.fit(X_train, y_train)\n",
    "        pred = model.predict(X_test)\n",
    "        score = accuracy_score(y_test, pred)\n",
    "        print(score)\n",
    "        record = record.append({'Year': indx + 2000, 'Clump': index, 'Estimator': modelname, \n",
    "                       'params': 'NA', 'accuracy': score}, ignore_index=True)"
   ]
  },
  {
   "cell_type": "code",
   "execution_count": null,
   "metadata": {
    "tags": []
   },
   "outputs": [],
   "source": [
    "record.tail(17)"
   ]
  },
  {
   "cell_type": "code",
   "execution_count": null,
   "metadata": {
    "tags": []
   },
   "outputs": [],
   "source": [
    "for indx, year in enumerate(years_quarterly_wins):\n",
    "    yearly = years_quarterly_wins[indx]\n",
    "    for index, clump in enumerate(clumps):\n",
    "        X = yearly[clump]\n",
    "        y = yearly['Winner']\n",
    "        X_train, X_test, y_train, y_test = train_test_split(X,y, random_state = 32221)\n",
    "        modelname = 'KNeighborsClassifier'\n",
    "        model = KNeighborsClassifier()\n",
    "        model.fit(X_train, y_train)\n",
    "        pred = model.predict(X_test)\n",
    "        score = accuracy_score(y_test, pred)\n",
    "        print(score)\n",
    "        record = record.append({'Year': indx + 2000, 'Clump': index, 'Estimator': modelname, \n",
    "                       'params': 'NA', 'accuracy': score}, ignore_index=True)"
   ]
  },
  {
   "cell_type": "code",
   "execution_count": null,
   "metadata": {
    "tags": []
   },
   "outputs": [],
   "source": [
    "record.tail(17)"
   ]
  },
  {
   "cell_type": "code",
   "execution_count": null,
   "metadata": {
    "tags": []
   },
   "outputs": [],
   "source": [
    "for indx, year in enumerate(years_quarterly_wins):\n",
    "    yearly = years_quarterly_wins[indx]\n",
    "    for index, clump in enumerate(clumps):\n",
    "        X = yearly[clump]\n",
    "        y = yearly['Winner']\n",
    "        X_train, X_test, y_train, y_test = train_test_split(X,y, random_state = 32221)\n",
    "        modelname = 'DecisionTreeClassifier'\n",
    "        model = DecisionTreeClassifier()\n",
    "        model.fit(X_train, y_train)\n",
    "        pred = model.predict(X_test)\n",
    "        score = accuracy_score(y_test, pred)\n",
    "        print(score)\n",
    "        record = record.append({'Year': indx + 2000, 'Clump': index, 'Estimator': modelname, \n",
    "                       'params': 'NA', 'accuracy': score}, ignore_index=True)"
   ]
  },
  {
   "cell_type": "code",
   "execution_count": null,
   "metadata": {
    "tags": []
   },
   "outputs": [],
   "source": [
    "record.tail(17)"
   ]
  },
  {
   "cell_type": "code",
   "execution_count": null,
   "metadata": {
    "tags": []
   },
   "outputs": [],
   "source": [
    "for indx, year in enumerate(years_quarterly_wins):\n",
    "    yearly = years_quarterly_wins[indx]\n",
    "    for index, clump in enumerate(clumps):\n",
    "        X = yearly[clump]\n",
    "        y = yearly['Winner']\n",
    "        X_train, X_test, y_train, y_test = train_test_split(X,y, random_state = 32221)\n",
    "        modelname = 'NaiveBayesClassifier'\n",
    "        model = MultinomialNB()\n",
    "        model.fit(X_train, y_train)\n",
    "        pred = model.predict(X_test)\n",
    "        score = accuracy_score(y_test, pred)\n",
    "        print(score)\n",
    "        record = record.append({'Year': indx + 2000, 'Clump': index, 'Estimator': modelname, \n",
    "                       'params': 'NA', 'accuracy': score}, ignore_index=True)"
   ]
  },
  {
   "cell_type": "code",
   "execution_count": null,
   "metadata": {
    "tags": []
   },
   "outputs": [],
   "source": [
    "record.tail(17)"
   ]
  },
  {
   "cell_type": "code",
   "execution_count": null,
   "metadata": {
    "tags": []
   },
   "outputs": [],
   "source": [
    "for indx, year in enumerate(years_quarterly_wins):\n",
    "    yearly = years_quarterly_wins[indx]\n",
    "    for index, clump in enumerate(clumps):\n",
    "        X = yearly[clump]\n",
    "        y = yearly['Winner']\n",
    "        X_train, X_test, y_train, y_test = train_test_split(X,y, random_state = 32221)\n",
    "        modelname = 'AdaBoostClassifier'\n",
    "        model = AdaBoostClassifier()\n",
    "        model.fit(X_train, y_train)\n",
    "        pred = model.predict(X_test)\n",
    "        score = accuracy_score(y_test, pred)\n",
    "        print(score)\n",
    "        record = record.append({'Year': indx + 2000, 'Clump': index, 'Estimator': modelname, \n",
    "                       'params': 'NA', 'accuracy': score}, ignore_index=True)"
   ]
  },
  {
   "cell_type": "code",
   "execution_count": null,
   "metadata": {
    "tags": []
   },
   "outputs": [],
   "source": [
    "record.tail(17)"
   ]
  },
  {
   "cell_type": "code",
   "execution_count": null,
   "metadata": {
    "tags": []
   },
   "outputs": [],
   "source": [
    "for indx, year in enumerate(years_quarterly_wins):\n",
    "    yearly = years_quarterly_wins[indx]\n",
    "    for index, clump in enumerate(clumps):\n",
    "        X = yearly[clump]\n",
    "        y = yearly['Winner']\n",
    "        X_train, X_test, y_train, y_test = train_test_split(X,y, random_state = 32221)\n",
    "        modelname = 'GradientBoostingClassifier'\n",
    "        model = GradientBoostingClassifier() # change estimator each time\n",
    "        # and GridSearch here?\n",
    "        model.fit(X_train, y_train)\n",
    "        pred = model.predict(X_test)\n",
    "        score = accuracy_score(y_test, pred)\n",
    "        print(score)\n",
    "        record = record.append({'Year': indx + 2000, 'Clump': index, 'Estimator': modelname, \n",
    "                       'params': 'NA', 'accuracy': score}, ignore_index=True)"
   ]
  },
  {
   "cell_type": "code",
   "execution_count": null,
   "metadata": {},
   "outputs": [],
   "source": [
    "record.tail(17)"
   ]
  },
  {
   "cell_type": "code",
   "execution_count": null,
   "metadata": {},
   "outputs": [],
   "source": [
    "record.to_csv('data/Yearly_Quarter_Combos_Modeling_Results.csv')"
   ]
  },
  {
   "cell_type": "code",
   "execution_count": null,
   "metadata": {},
   "outputs": [],
   "source": []
  }
 ],
 "metadata": {
  "kernelspec": {
   "display_name": "Python 3",
   "language": "python",
   "name": "python3"
  },
  "language_info": {
   "codemirror_mode": {
    "name": "ipython",
    "version": 3
   },
   "file_extension": ".py",
   "mimetype": "text/x-python",
   "name": "python",
   "nbconvert_exporter": "python",
   "pygments_lexer": "ipython3",
   "version": "3.8.8"
  }
 },
 "nbformat": 4,
 "nbformat_minor": 4
}
