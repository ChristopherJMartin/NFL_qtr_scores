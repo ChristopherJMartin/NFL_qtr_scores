{
 "cells": [
  {
   "cell_type": "code",
   "execution_count": 2,
   "metadata": {},
   "outputs": [],
   "source": [
    "import numpy as np\n",
    "import pandas as pd"
   ]
  },
  {
   "cell_type": "code",
   "execution_count": 3,
   "metadata": {},
   "outputs": [],
   "source": [
    "#Set viewing options\n",
    "pd.set_option('display.max_columns', None)  \n",
    "pd.set_option('display.expand_frame_repr', False)"
   ]
  },
  {
   "cell_type": "code",
   "execution_count": 4,
   "metadata": {},
   "outputs": [],
   "source": [
    "qwins = pd.read_csv('data/QuarterlyWins.csv')"
   ]
  },
  {
   "cell_type": "code",
   "execution_count": null,
   "metadata": {},
   "outputs": [],
   "source": []
  },
  {
   "cell_type": "code",
   "execution_count": 12,
   "metadata": {},
   "outputs": [
    {
     "data": {
      "text/html": [
       "<div>\n",
       "<style scoped>\n",
       "    .dataframe tbody tr th:only-of-type {\n",
       "        vertical-align: middle;\n",
       "    }\n",
       "\n",
       "    .dataframe tbody tr th {\n",
       "        vertical-align: top;\n",
       "    }\n",
       "\n",
       "    .dataframe thead th {\n",
       "        text-align: right;\n",
       "    }\n",
       "</style>\n",
       "<table border=\"1\" class=\"dataframe\">\n",
       "  <thead>\n",
       "    <tr style=\"text-align: right;\">\n",
       "      <th></th>\n",
       "      <th>Unnamed: 0</th>\n",
       "      <th>X</th>\n",
       "      <th>GameID</th>\n",
       "      <th>Week</th>\n",
       "      <th>Day</th>\n",
       "      <th>DateStamp</th>\n",
       "      <th>Vteam</th>\n",
       "      <th>VQ1</th>\n",
       "      <th>VQ2</th>\n",
       "      <th>VQ3</th>\n",
       "      <th>VQ4</th>\n",
       "      <th>Year</th>\n",
       "      <th>Hteam</th>\n",
       "      <th>HQ1</th>\n",
       "      <th>HQ2</th>\n",
       "      <th>HQ3</th>\n",
       "      <th>HQ4</th>\n",
       "      <th>Date</th>\n",
       "      <th>Time</th>\n",
       "      <th>RQ1</th>\n",
       "      <th>RQ2</th>\n",
       "      <th>RQ3</th>\n",
       "      <th>RQ4</th>\n",
       "      <th>Win</th>\n",
       "      <th>Winner</th>\n",
       "    </tr>\n",
       "  </thead>\n",
       "  <tbody>\n",
       "    <tr>\n",
       "      <th>0</th>\n",
       "      <td>1</td>\n",
       "      <td>0</td>\n",
       "      <td>200009030min</td>\n",
       "      <td>1</td>\n",
       "      <td>Sun</td>\n",
       "      <td>2000-09-03</td>\n",
       "      <td>Bears</td>\n",
       "      <td>7</td>\n",
       "      <td>6</td>\n",
       "      <td>7</td>\n",
       "      <td>7</td>\n",
       "      <td>2000</td>\n",
       "      <td>Vikings</td>\n",
       "      <td>6</td>\n",
       "      <td>3</td>\n",
       "      <td>7</td>\n",
       "      <td>14</td>\n",
       "      <td>9/3/2000</td>\n",
       "      <td>1:00PM</td>\n",
       "      <td>V</td>\n",
       "      <td>V</td>\n",
       "      <td>T</td>\n",
       "      <td>H</td>\n",
       "      <td>-3</td>\n",
       "      <td>HW</td>\n",
       "    </tr>\n",
       "    <tr>\n",
       "      <th>1</th>\n",
       "      <td>2</td>\n",
       "      <td>1</td>\n",
       "      <td>200009030kan</td>\n",
       "      <td>1</td>\n",
       "      <td>Sun</td>\n",
       "      <td>2000-09-03</td>\n",
       "      <td>Colts</td>\n",
       "      <td>0</td>\n",
       "      <td>7</td>\n",
       "      <td>7</td>\n",
       "      <td>13</td>\n",
       "      <td>2000</td>\n",
       "      <td>Chiefs</td>\n",
       "      <td>0</td>\n",
       "      <td>7</td>\n",
       "      <td>7</td>\n",
       "      <td>0</td>\n",
       "      <td>9/3/2000</td>\n",
       "      <td>1:00PM</td>\n",
       "      <td>T</td>\n",
       "      <td>T</td>\n",
       "      <td>T</td>\n",
       "      <td>VV</td>\n",
       "      <td>13</td>\n",
       "      <td>VW</td>\n",
       "    </tr>\n",
       "    <tr>\n",
       "      <th>2</th>\n",
       "      <td>3</td>\n",
       "      <td>2</td>\n",
       "      <td>200009030was</td>\n",
       "      <td>1</td>\n",
       "      <td>Sun</td>\n",
       "      <td>2000-09-03</td>\n",
       "      <td>Panthers</td>\n",
       "      <td>10</td>\n",
       "      <td>0</td>\n",
       "      <td>0</td>\n",
       "      <td>7</td>\n",
       "      <td>2000</td>\n",
       "      <td>Redskins</td>\n",
       "      <td>7</td>\n",
       "      <td>0</td>\n",
       "      <td>3</td>\n",
       "      <td>10</td>\n",
       "      <td>9/3/2000</td>\n",
       "      <td>1:01PM</td>\n",
       "      <td>V</td>\n",
       "      <td>T</td>\n",
       "      <td>H</td>\n",
       "      <td>H</td>\n",
       "      <td>-3</td>\n",
       "      <td>HW</td>\n",
       "    </tr>\n",
       "    <tr>\n",
       "      <th>3</th>\n",
       "      <td>4</td>\n",
       "      <td>3</td>\n",
       "      <td>200009030atl</td>\n",
       "      <td>1</td>\n",
       "      <td>Sun</td>\n",
       "      <td>2000-09-03</td>\n",
       "      <td>49ers</td>\n",
       "      <td>7</td>\n",
       "      <td>7</td>\n",
       "      <td>7</td>\n",
       "      <td>7</td>\n",
       "      <td>2000</td>\n",
       "      <td>Falcons</td>\n",
       "      <td>6</td>\n",
       "      <td>16</td>\n",
       "      <td>14</td>\n",
       "      <td>0</td>\n",
       "      <td>9/3/2000</td>\n",
       "      <td>1:02PM</td>\n",
       "      <td>V</td>\n",
       "      <td>HH</td>\n",
       "      <td>H</td>\n",
       "      <td>V</td>\n",
       "      <td>-8</td>\n",
       "      <td>HW</td>\n",
       "    </tr>\n",
       "    <tr>\n",
       "      <th>4</th>\n",
       "      <td>5</td>\n",
       "      <td>4</td>\n",
       "      <td>200009030pit</td>\n",
       "      <td>1</td>\n",
       "      <td>Sun</td>\n",
       "      <td>2000-09-03</td>\n",
       "      <td>Ravens</td>\n",
       "      <td>10</td>\n",
       "      <td>3</td>\n",
       "      <td>3</td>\n",
       "      <td>0</td>\n",
       "      <td>2000</td>\n",
       "      <td>Steelers</td>\n",
       "      <td>0</td>\n",
       "      <td>0</td>\n",
       "      <td>0</td>\n",
       "      <td>0</td>\n",
       "      <td>9/3/2000</td>\n",
       "      <td>1:02PM</td>\n",
       "      <td>VV</td>\n",
       "      <td>V</td>\n",
       "      <td>V</td>\n",
       "      <td>T</td>\n",
       "      <td>16</td>\n",
       "      <td>VW</td>\n",
       "    </tr>\n",
       "  </tbody>\n",
       "</table>\n",
       "</div>"
      ],
      "text/plain": [
       "   Unnamed: 0  X        GameID  Week  Day   DateStamp     Vteam  VQ1  VQ2  VQ3  VQ4  Year     Hteam  HQ1  HQ2  HQ3  HQ4      Date    Time RQ1 RQ2 RQ3 RQ4  Win Winner\n",
       "0           1  0  200009030min     1  Sun  2000-09-03     Bears    7    6    7    7  2000   Vikings    6    3    7   14  9/3/2000  1:00PM   V   V   T   H   -3     HW\n",
       "1           2  1  200009030kan     1  Sun  2000-09-03     Colts    0    7    7   13  2000    Chiefs    0    7    7    0  9/3/2000  1:00PM   T   T   T  VV   13     VW\n",
       "2           3  2  200009030was     1  Sun  2000-09-03  Panthers   10    0    0    7  2000  Redskins    7    0    3   10  9/3/2000  1:01PM   V   T   H   H   -3     HW\n",
       "3           4  3  200009030atl     1  Sun  2000-09-03     49ers    7    7    7    7  2000   Falcons    6   16   14    0  9/3/2000  1:02PM   V  HH   H   V   -8     HW\n",
       "4           5  4  200009030pit     1  Sun  2000-09-03    Ravens   10    3    3    0  2000  Steelers    0    0    0    0  9/3/2000  1:02PM  VV   V   V   T   16     VW"
      ]
     },
     "execution_count": 12,
     "metadata": {},
     "output_type": "execute_result"
    }
   ],
   "source": [
    "qwins.head()"
   ]
  },
  {
   "cell_type": "code",
   "execution_count": 6,
   "metadata": {},
   "outputs": [
    {
     "data": {
      "text/plain": [
       "HW    0.536251\n",
       "VW    0.401202\n",
       "T     0.062547\n",
       "Name: Winner, dtype: float64"
      ]
     },
     "execution_count": 6,
     "metadata": {},
     "output_type": "execute_result"
    }
   ],
   "source": [
    "#null (baseline) model\n",
    "qwins['Winner'].value_counts(normalize=True)"
   ]
  },
  {
   "cell_type": "code",
   "execution_count": 9,
   "metadata": {
    "collapsed": true,
    "jupyter": {
     "outputs_hidden": true
    },
    "tags": []
   },
   "outputs": [
    {
     "data": {
      "text/html": [
       "<div>\n",
       "<style scoped>\n",
       "    .dataframe tbody tr th:only-of-type {\n",
       "        vertical-align: middle;\n",
       "    }\n",
       "\n",
       "    .dataframe tbody tr th {\n",
       "        vertical-align: top;\n",
       "    }\n",
       "\n",
       "    .dataframe thead th {\n",
       "        text-align: right;\n",
       "    }\n",
       "</style>\n",
       "<table border=\"1\" class=\"dataframe\">\n",
       "  <thead>\n",
       "    <tr style=\"text-align: right;\">\n",
       "      <th></th>\n",
       "      <th>Unnamed: 0</th>\n",
       "      <th>X</th>\n",
       "      <th>GameID</th>\n",
       "      <th>Week</th>\n",
       "      <th>Day</th>\n",
       "      <th>DateStamp</th>\n",
       "      <th>Vteam</th>\n",
       "      <th>VQ1</th>\n",
       "      <th>VQ2</th>\n",
       "      <th>VQ3</th>\n",
       "      <th>VQ4</th>\n",
       "      <th>Year</th>\n",
       "      <th>Hteam</th>\n",
       "      <th>HQ1</th>\n",
       "      <th>HQ2</th>\n",
       "      <th>HQ3</th>\n",
       "      <th>HQ4</th>\n",
       "      <th>Date</th>\n",
       "      <th>Time</th>\n",
       "      <th>RQ1</th>\n",
       "      <th>RQ2</th>\n",
       "      <th>RQ3</th>\n",
       "      <th>RQ4</th>\n",
       "      <th>Win</th>\n",
       "      <th>Winner</th>\n",
       "    </tr>\n",
       "  </thead>\n",
       "  <tbody>\n",
       "    <tr>\n",
       "      <th>4235</th>\n",
       "      <td>4236</td>\n",
       "      <td>4235</td>\n",
       "      <td>2015-17-SteelersBrowns</td>\n",
       "      <td>17</td>\n",
       "      <td>Sun</td>\n",
       "      <td>2016-01-03</td>\n",
       "      <td>Steelers</td>\n",
       "      <td>7</td>\n",
       "      <td>7</td>\n",
       "      <td>3</td>\n",
       "      <td>11</td>\n",
       "      <td>2015</td>\n",
       "      <td>Browns</td>\n",
       "      <td>3</td>\n",
       "      <td>6</td>\n",
       "      <td>0</td>\n",
       "      <td>3</td>\n",
       "      <td>1/3/2016</td>\n",
       "      <td>1:02PM</td>\n",
       "      <td>V</td>\n",
       "      <td>V</td>\n",
       "      <td>V</td>\n",
       "      <td>VV</td>\n",
       "      <td>16</td>\n",
       "      <td>VW</td>\n",
       "    </tr>\n",
       "    <tr>\n",
       "      <th>4236</th>\n",
       "      <td>4237</td>\n",
       "      <td>4236</td>\n",
       "      <td>2015-17-JetsBills</td>\n",
       "      <td>17</td>\n",
       "      <td>Sun</td>\n",
       "      <td>2016-01-03</td>\n",
       "      <td>Jets</td>\n",
       "      <td>0</td>\n",
       "      <td>7</td>\n",
       "      <td>10</td>\n",
       "      <td>0</td>\n",
       "      <td>2015</td>\n",
       "      <td>Bills</td>\n",
       "      <td>7</td>\n",
       "      <td>9</td>\n",
       "      <td>3</td>\n",
       "      <td>3</td>\n",
       "      <td>1/3/2016</td>\n",
       "      <td>1:02PM</td>\n",
       "      <td>H</td>\n",
       "      <td>H</td>\n",
       "      <td>V</td>\n",
       "      <td>H</td>\n",
       "      <td>-5</td>\n",
       "      <td>HW</td>\n",
       "    </tr>\n",
       "    <tr>\n",
       "      <th>4237</th>\n",
       "      <td>4238</td>\n",
       "      <td>4237</td>\n",
       "      <td>2015-17-LionsBears</td>\n",
       "      <td>17</td>\n",
       "      <td>Sun</td>\n",
       "      <td>2016-01-03</td>\n",
       "      <td>Lions</td>\n",
       "      <td>7</td>\n",
       "      <td>3</td>\n",
       "      <td>7</td>\n",
       "      <td>7</td>\n",
       "      <td>2015</td>\n",
       "      <td>Bears</td>\n",
       "      <td>0</td>\n",
       "      <td>0</td>\n",
       "      <td>10</td>\n",
       "      <td>10</td>\n",
       "      <td>1/3/2016</td>\n",
       "      <td>1:03PM</td>\n",
       "      <td>V</td>\n",
       "      <td>V</td>\n",
       "      <td>H</td>\n",
       "      <td>H</td>\n",
       "      <td>4</td>\n",
       "      <td>VW</td>\n",
       "    </tr>\n",
       "    <tr>\n",
       "      <th>4238</th>\n",
       "      <td>4239</td>\n",
       "      <td>4238</td>\n",
       "      <td>2015-17-RavensBengals</td>\n",
       "      <td>17</td>\n",
       "      <td>Sun</td>\n",
       "      <td>2016-01-03</td>\n",
       "      <td>Ravens</td>\n",
       "      <td>0</td>\n",
       "      <td>9</td>\n",
       "      <td>0</td>\n",
       "      <td>7</td>\n",
       "      <td>2015</td>\n",
       "      <td>Bengals</td>\n",
       "      <td>0</td>\n",
       "      <td>7</td>\n",
       "      <td>14</td>\n",
       "      <td>3</td>\n",
       "      <td>1/3/2016</td>\n",
       "      <td>1:03PM</td>\n",
       "      <td>T</td>\n",
       "      <td>V</td>\n",
       "      <td>HH</td>\n",
       "      <td>V</td>\n",
       "      <td>-8</td>\n",
       "      <td>HW</td>\n",
       "    </tr>\n",
       "    <tr>\n",
       "      <th>4239</th>\n",
       "      <td>4240</td>\n",
       "      <td>4239</td>\n",
       "      <td>2015-17-Rams49ers</td>\n",
       "      <td>17</td>\n",
       "      <td>Sun</td>\n",
       "      <td>2016-01-03</td>\n",
       "      <td>Rams</td>\n",
       "      <td>3</td>\n",
       "      <td>13</td>\n",
       "      <td>0</td>\n",
       "      <td>0</td>\n",
       "      <td>2015</td>\n",
       "      <td>49ers</td>\n",
       "      <td>0</td>\n",
       "      <td>10</td>\n",
       "      <td>3</td>\n",
       "      <td>3</td>\n",
       "      <td>1/3/2016</td>\n",
       "      <td>4:25PM</td>\n",
       "      <td>V</td>\n",
       "      <td>V</td>\n",
       "      <td>H</td>\n",
       "      <td>H</td>\n",
       "      <td>0</td>\n",
       "      <td>T</td>\n",
       "    </tr>\n",
       "    <tr>\n",
       "      <th>4240</th>\n",
       "      <td>4241</td>\n",
       "      <td>4240</td>\n",
       "      <td>2015-17-ChargersBroncos</td>\n",
       "      <td>17</td>\n",
       "      <td>Sun</td>\n",
       "      <td>2016-01-03</td>\n",
       "      <td>Chargers</td>\n",
       "      <td>3</td>\n",
       "      <td>3</td>\n",
       "      <td>7</td>\n",
       "      <td>7</td>\n",
       "      <td>2015</td>\n",
       "      <td>Broncos</td>\n",
       "      <td>7</td>\n",
       "      <td>0</td>\n",
       "      <td>7</td>\n",
       "      <td>13</td>\n",
       "      <td>1/3/2016</td>\n",
       "      <td>4:25PM</td>\n",
       "      <td>H</td>\n",
       "      <td>V</td>\n",
       "      <td>T</td>\n",
       "      <td>H</td>\n",
       "      <td>-7</td>\n",
       "      <td>HW</td>\n",
       "    </tr>\n",
       "    <tr>\n",
       "      <th>4241</th>\n",
       "      <td>4242</td>\n",
       "      <td>4241</td>\n",
       "      <td>2015-17-BuccaneersPanthers</td>\n",
       "      <td>17</td>\n",
       "      <td>Sun</td>\n",
       "      <td>2016-01-03</td>\n",
       "      <td>Buccaneers</td>\n",
       "      <td>3</td>\n",
       "      <td>0</td>\n",
       "      <td>7</td>\n",
       "      <td>0</td>\n",
       "      <td>2015</td>\n",
       "      <td>Panthers</td>\n",
       "      <td>0</td>\n",
       "      <td>24</td>\n",
       "      <td>7</td>\n",
       "      <td>7</td>\n",
       "      <td>1/3/2016</td>\n",
       "      <td>4:25PM</td>\n",
       "      <td>V</td>\n",
       "      <td>HHH</td>\n",
       "      <td>T</td>\n",
       "      <td>H</td>\n",
       "      <td>-28</td>\n",
       "      <td>HW</td>\n",
       "    </tr>\n",
       "    <tr>\n",
       "      <th>4242</th>\n",
       "      <td>4243</td>\n",
       "      <td>4242</td>\n",
       "      <td>2015-17-SeahawksCardinals</td>\n",
       "      <td>17</td>\n",
       "      <td>Sun</td>\n",
       "      <td>2016-01-03</td>\n",
       "      <td>Seahawks</td>\n",
       "      <td>10</td>\n",
       "      <td>20</td>\n",
       "      <td>6</td>\n",
       "      <td>0</td>\n",
       "      <td>2015</td>\n",
       "      <td>Cardinals</td>\n",
       "      <td>0</td>\n",
       "      <td>6</td>\n",
       "      <td>0</td>\n",
       "      <td>0</td>\n",
       "      <td>1/3/2016</td>\n",
       "      <td>4:25PM</td>\n",
       "      <td>VV</td>\n",
       "      <td>VV</td>\n",
       "      <td>V</td>\n",
       "      <td>T</td>\n",
       "      <td>30</td>\n",
       "      <td>VW</td>\n",
       "    </tr>\n",
       "    <tr>\n",
       "      <th>4243</th>\n",
       "      <td>4244</td>\n",
       "      <td>4243</td>\n",
       "      <td>2015-17-RaidersChiefs</td>\n",
       "      <td>17</td>\n",
       "      <td>Sun</td>\n",
       "      <td>2016-01-03</td>\n",
       "      <td>Raiders</td>\n",
       "      <td>0</td>\n",
       "      <td>10</td>\n",
       "      <td>0</td>\n",
       "      <td>7</td>\n",
       "      <td>2015</td>\n",
       "      <td>Chiefs</td>\n",
       "      <td>14</td>\n",
       "      <td>0</td>\n",
       "      <td>9</td>\n",
       "      <td>0</td>\n",
       "      <td>1/3/2016</td>\n",
       "      <td>4:26PM</td>\n",
       "      <td>HH</td>\n",
       "      <td>VV</td>\n",
       "      <td>HH</td>\n",
       "      <td>V</td>\n",
       "      <td>-6</td>\n",
       "      <td>HW</td>\n",
       "    </tr>\n",
       "    <tr>\n",
       "      <th>4244</th>\n",
       "      <td>4245</td>\n",
       "      <td>4244</td>\n",
       "      <td>2015-17-VikingsPackers</td>\n",
       "      <td>17</td>\n",
       "      <td>Sun</td>\n",
       "      <td>2016-01-03</td>\n",
       "      <td>Vikings</td>\n",
       "      <td>3</td>\n",
       "      <td>3</td>\n",
       "      <td>14</td>\n",
       "      <td>0</td>\n",
       "      <td>2015</td>\n",
       "      <td>Packers</td>\n",
       "      <td>3</td>\n",
       "      <td>0</td>\n",
       "      <td>0</td>\n",
       "      <td>10</td>\n",
       "      <td>1/3/2016</td>\n",
       "      <td>8:30PM</td>\n",
       "      <td>T</td>\n",
       "      <td>V</td>\n",
       "      <td>VV</td>\n",
       "      <td>HH</td>\n",
       "      <td>7</td>\n",
       "      <td>VW</td>\n",
       "    </tr>\n",
       "    <tr>\n",
       "      <th>4245</th>\n",
       "      <td>4246</td>\n",
       "      <td>4245</td>\n",
       "      <td>2016-1-SteelersRedskins</td>\n",
       "      <td>100</td>\n",
       "      <td>Sat</td>\n",
       "      <td>2016-01-09</td>\n",
       "      <td>Steelers</td>\n",
       "      <td>0</td>\n",
       "      <td>14</td>\n",
       "      <td>10</td>\n",
       "      <td>14</td>\n",
       "      <td>2016</td>\n",
       "      <td>Redskins</td>\n",
       "      <td>6</td>\n",
       "      <td>0</td>\n",
       "      <td>3</td>\n",
       "      <td>7</td>\n",
       "      <td>1/9/2016</td>\n",
       "      <td>4:35PM</td>\n",
       "      <td>H</td>\n",
       "      <td>VV</td>\n",
       "      <td>V</td>\n",
       "      <td>V</td>\n",
       "      <td>22</td>\n",
       "      <td>VW</td>\n",
       "    </tr>\n",
       "    <tr>\n",
       "      <th>4246</th>\n",
       "      <td>4247</td>\n",
       "      <td>4246</td>\n",
       "      <td>2016-1-Rams49ers</td>\n",
       "      <td>100</td>\n",
       "      <td>Sat</td>\n",
       "      <td>2016-01-09</td>\n",
       "      <td>Rams</td>\n",
       "      <td>0</td>\n",
       "      <td>0</td>\n",
       "      <td>0</td>\n",
       "      <td>0</td>\n",
       "      <td>2016</td>\n",
       "      <td>49ers</td>\n",
       "      <td>7</td>\n",
       "      <td>7</td>\n",
       "      <td>0</td>\n",
       "      <td>14</td>\n",
       "      <td>1/9/2016</td>\n",
       "      <td>8:15PM</td>\n",
       "      <td>H</td>\n",
       "      <td>H</td>\n",
       "      <td>T</td>\n",
       "      <td>HH</td>\n",
       "      <td>-28</td>\n",
       "      <td>HW</td>\n",
       "    </tr>\n",
       "    <tr>\n",
       "      <th>4247</th>\n",
       "      <td>4248</td>\n",
       "      <td>4247</td>\n",
       "      <td>2016-1-BuccaneersFalcons</td>\n",
       "      <td>100</td>\n",
       "      <td>Sun</td>\n",
       "      <td>2016-01-10</td>\n",
       "      <td>Buccaneers</td>\n",
       "      <td>3</td>\n",
       "      <td>14</td>\n",
       "      <td>14</td>\n",
       "      <td>0</td>\n",
       "      <td>2016</td>\n",
       "      <td>Falcons</td>\n",
       "      <td>10</td>\n",
       "      <td>3</td>\n",
       "      <td>8</td>\n",
       "      <td>3</td>\n",
       "      <td>1/10/2016</td>\n",
       "      <td>1:05PM</td>\n",
       "      <td>H</td>\n",
       "      <td>VV</td>\n",
       "      <td>V</td>\n",
       "      <td>H</td>\n",
       "      <td>7</td>\n",
       "      <td>VW</td>\n",
       "    </tr>\n",
       "    <tr>\n",
       "      <th>4248</th>\n",
       "      <td>4249</td>\n",
       "      <td>4248</td>\n",
       "      <td>2016-1-BrownsEagles</td>\n",
       "      <td>100</td>\n",
       "      <td>Sun</td>\n",
       "      <td>2016-01-10</td>\n",
       "      <td>Browns</td>\n",
       "      <td>0</td>\n",
       "      <td>7</td>\n",
       "      <td>3</td>\n",
       "      <td>0</td>\n",
       "      <td>2016</td>\n",
       "      <td>Eagles</td>\n",
       "      <td>7</td>\n",
       "      <td>6</td>\n",
       "      <td>9</td>\n",
       "      <td>7</td>\n",
       "      <td>1/10/2016</td>\n",
       "      <td>4:42PM</td>\n",
       "      <td>H</td>\n",
       "      <td>V</td>\n",
       "      <td>H</td>\n",
       "      <td>H</td>\n",
       "      <td>-19</td>\n",
       "      <td>HW</td>\n",
       "    </tr>\n",
       "    <tr>\n",
       "      <th>4249</th>\n",
       "      <td>4250</td>\n",
       "      <td>4249</td>\n",
       "      <td>2016-1-VikingsTitans</td>\n",
       "      <td>200</td>\n",
       "      <td>Sat</td>\n",
       "      <td>2016-01-16</td>\n",
       "      <td>Vikings</td>\n",
       "      <td>0</td>\n",
       "      <td>0</td>\n",
       "      <td>12</td>\n",
       "      <td>13</td>\n",
       "      <td>2016</td>\n",
       "      <td>Titans</td>\n",
       "      <td>3</td>\n",
       "      <td>7</td>\n",
       "      <td>0</td>\n",
       "      <td>6</td>\n",
       "      <td>1/16/2016</td>\n",
       "      <td>4:35PM</td>\n",
       "      <td>H</td>\n",
       "      <td>H</td>\n",
       "      <td>VV</td>\n",
       "      <td>V</td>\n",
       "      <td>9</td>\n",
       "      <td>VW</td>\n",
       "    </tr>\n",
       "    <tr>\n",
       "      <th>4250</th>\n",
       "      <td>4251</td>\n",
       "      <td>4250</td>\n",
       "      <td>2016-1-RaidersSaints</td>\n",
       "      <td>200</td>\n",
       "      <td>Sat</td>\n",
       "      <td>2016-01-16</td>\n",
       "      <td>Raiders</td>\n",
       "      <td>10</td>\n",
       "      <td>0</td>\n",
       "      <td>3</td>\n",
       "      <td>22</td>\n",
       "      <td>2016</td>\n",
       "      <td>Saints</td>\n",
       "      <td>3</td>\n",
       "      <td>14</td>\n",
       "      <td>7</td>\n",
       "      <td>10</td>\n",
       "      <td>1/16/2016</td>\n",
       "      <td>8:15PM</td>\n",
       "      <td>V</td>\n",
       "      <td>HH</td>\n",
       "      <td>H</td>\n",
       "      <td>VV</td>\n",
       "      <td>1</td>\n",
       "      <td>VW</td>\n",
       "    </tr>\n",
       "    <tr>\n",
       "      <th>4251</th>\n",
       "      <td>4252</td>\n",
       "      <td>4251</td>\n",
       "      <td>2016-1-BengalsJets</td>\n",
       "      <td>200</td>\n",
       "      <td>Sun</td>\n",
       "      <td>2016-01-17</td>\n",
       "      <td>Bengals</td>\n",
       "      <td>3</td>\n",
       "      <td>10</td>\n",
       "      <td>7</td>\n",
       "      <td>3</td>\n",
       "      <td>2016</td>\n",
       "      <td>Jets</td>\n",
       "      <td>7</td>\n",
       "      <td>9</td>\n",
       "      <td>0</td>\n",
       "      <td>6</td>\n",
       "      <td>1/17/2016</td>\n",
       "      <td>1:06PM</td>\n",
       "      <td>H</td>\n",
       "      <td>V</td>\n",
       "      <td>V</td>\n",
       "      <td>H</td>\n",
       "      <td>1</td>\n",
       "      <td>VW</td>\n",
       "    </tr>\n",
       "    <tr>\n",
       "      <th>4252</th>\n",
       "      <td>4253</td>\n",
       "      <td>4252</td>\n",
       "      <td>2016-1-ChargersChiefs</td>\n",
       "      <td>200</td>\n",
       "      <td>Sun</td>\n",
       "      <td>2016-01-17</td>\n",
       "      <td>Chargers</td>\n",
       "      <td>7</td>\n",
       "      <td>14</td>\n",
       "      <td>3</td>\n",
       "      <td>3</td>\n",
       "      <td>2016</td>\n",
       "      <td>Chiefs</td>\n",
       "      <td>3</td>\n",
       "      <td>0</td>\n",
       "      <td>7</td>\n",
       "      <td>17</td>\n",
       "      <td>1/17/2016</td>\n",
       "      <td>4:40PM</td>\n",
       "      <td>V</td>\n",
       "      <td>VV</td>\n",
       "      <td>H</td>\n",
       "      <td>HH</td>\n",
       "      <td>0</td>\n",
       "      <td>T</td>\n",
       "    </tr>\n",
       "    <tr>\n",
       "      <th>4253</th>\n",
       "      <td>4254</td>\n",
       "      <td>4253</td>\n",
       "      <td>2016-1-BearsTexans</td>\n",
       "      <td>300</td>\n",
       "      <td>Sun</td>\n",
       "      <td>2016-01-24</td>\n",
       "      <td>Bears</td>\n",
       "      <td>7</td>\n",
       "      <td>7</td>\n",
       "      <td>0</td>\n",
       "      <td>0</td>\n",
       "      <td>2016</td>\n",
       "      <td>Texans</td>\n",
       "      <td>0</td>\n",
       "      <td>10</td>\n",
       "      <td>3</td>\n",
       "      <td>10</td>\n",
       "      <td>1/24/2016</td>\n",
       "      <td>3:05PM</td>\n",
       "      <td>V</td>\n",
       "      <td>H</td>\n",
       "      <td>H</td>\n",
       "      <td>HH</td>\n",
       "      <td>-9</td>\n",
       "      <td>HW</td>\n",
       "    </tr>\n",
       "    <tr>\n",
       "      <th>4254</th>\n",
       "      <td>4255</td>\n",
       "      <td>4254</td>\n",
       "      <td>2016-1-BillsRavens</td>\n",
       "      <td>300</td>\n",
       "      <td>Sun</td>\n",
       "      <td>2016-01-24</td>\n",
       "      <td>Bills</td>\n",
       "      <td>0</td>\n",
       "      <td>7</td>\n",
       "      <td>0</td>\n",
       "      <td>0</td>\n",
       "      <td>2016</td>\n",
       "      <td>Ravens</td>\n",
       "      <td>3</td>\n",
       "      <td>7</td>\n",
       "      <td>0</td>\n",
       "      <td>3</td>\n",
       "      <td>1/24/2016</td>\n",
       "      <td>6:42PM</td>\n",
       "      <td>H</td>\n",
       "      <td>T</td>\n",
       "      <td>T</td>\n",
       "      <td>H</td>\n",
       "      <td>-6</td>\n",
       "      <td>HW</td>\n",
       "    </tr>\n",
       "    <tr>\n",
       "      <th>4255</th>\n",
       "      <td>4256</td>\n",
       "      <td>4255</td>\n",
       "      <td>2016-1-PackersJaguars</td>\n",
       "      <td>400</td>\n",
       "      <td>Sun</td>\n",
       "      <td>2016-02-07</td>\n",
       "      <td>Packers</td>\n",
       "      <td>7</td>\n",
       "      <td>14</td>\n",
       "      <td>3</td>\n",
       "      <td>3</td>\n",
       "      <td>2016</td>\n",
       "      <td>Jaguars</td>\n",
       "      <td>7</td>\n",
       "      <td>10</td>\n",
       "      <td>3</td>\n",
       "      <td>3</td>\n",
       "      <td>2/7/2016</td>\n",
       "      <td>6:39PM</td>\n",
       "      <td>T</td>\n",
       "      <td>V</td>\n",
       "      <td>T</td>\n",
       "      <td>T</td>\n",
       "      <td>4</td>\n",
       "      <td>VW</td>\n",
       "    </tr>\n",
       "    <tr>\n",
       "      <th>4256</th>\n",
       "      <td>4257</td>\n",
       "      <td>4256</td>\n",
       "      <td>2016-1-DolphinsSeahawks</td>\n",
       "      <td>1</td>\n",
       "      <td>Thu</td>\n",
       "      <td>2016-09-08</td>\n",
       "      <td>Dolphins</td>\n",
       "      <td>0</td>\n",
       "      <td>3</td>\n",
       "      <td>0</td>\n",
       "      <td>7</td>\n",
       "      <td>2016</td>\n",
       "      <td>Seahawks</td>\n",
       "      <td>3</td>\n",
       "      <td>3</td>\n",
       "      <td>0</td>\n",
       "      <td>6</td>\n",
       "      <td>9/8/2016</td>\n",
       "      <td>8:40PM</td>\n",
       "      <td>H</td>\n",
       "      <td>T</td>\n",
       "      <td>T</td>\n",
       "      <td>V</td>\n",
       "      <td>-2</td>\n",
       "      <td>HW</td>\n",
       "    </tr>\n",
       "    <tr>\n",
       "      <th>4257</th>\n",
       "      <td>4258</td>\n",
       "      <td>4257</td>\n",
       "      <td>2016-1-LionsColts</td>\n",
       "      <td>1</td>\n",
       "      <td>Sun</td>\n",
       "      <td>2016-09-11</td>\n",
       "      <td>Lions</td>\n",
       "      <td>7</td>\n",
       "      <td>14</td>\n",
       "      <td>7</td>\n",
       "      <td>11</td>\n",
       "      <td>2016</td>\n",
       "      <td>Colts</td>\n",
       "      <td>0</td>\n",
       "      <td>10</td>\n",
       "      <td>8</td>\n",
       "      <td>17</td>\n",
       "      <td>9/11/2016</td>\n",
       "      <td>1:04PM</td>\n",
       "      <td>V</td>\n",
       "      <td>V</td>\n",
       "      <td>H</td>\n",
       "      <td>H</td>\n",
       "      <td>4</td>\n",
       "      <td>VW</td>\n",
       "    </tr>\n",
       "    <tr>\n",
       "      <th>4258</th>\n",
       "      <td>4259</td>\n",
       "      <td>4258</td>\n",
       "      <td>2016-1-GiantsCowboys</td>\n",
       "      <td>1</td>\n",
       "      <td>Sun</td>\n",
       "      <td>2016-09-11</td>\n",
       "      <td>Giants</td>\n",
       "      <td>0</td>\n",
       "      <td>13</td>\n",
       "      <td>0</td>\n",
       "      <td>7</td>\n",
       "      <td>2016</td>\n",
       "      <td>Cowboys</td>\n",
       "      <td>3</td>\n",
       "      <td>6</td>\n",
       "      <td>7</td>\n",
       "      <td>3</td>\n",
       "      <td>9/11/2016</td>\n",
       "      <td>1:04PM</td>\n",
       "      <td>H</td>\n",
       "      <td>V</td>\n",
       "      <td>H</td>\n",
       "      <td>V</td>\n",
       "      <td>1</td>\n",
       "      <td>VW</td>\n",
       "    </tr>\n",
       "    <tr>\n",
       "      <th>4259</th>\n",
       "      <td>4260</td>\n",
       "      <td>4259</td>\n",
       "      <td>2016-1-PatriotsCardinals</td>\n",
       "      <td>1</td>\n",
       "      <td>Sun</td>\n",
       "      <td>2016-09-11</td>\n",
       "      <td>Patriots</td>\n",
       "      <td>10</td>\n",
       "      <td>0</td>\n",
       "      <td>7</td>\n",
       "      <td>6</td>\n",
       "      <td>2016</td>\n",
       "      <td>Cardinals</td>\n",
       "      <td>0</td>\n",
       "      <td>7</td>\n",
       "      <td>7</td>\n",
       "      <td>7</td>\n",
       "      <td>9/11/2016</td>\n",
       "      <td>1:05PM</td>\n",
       "      <td>VV</td>\n",
       "      <td>H</td>\n",
       "      <td>T</td>\n",
       "      <td>H</td>\n",
       "      <td>2</td>\n",
       "      <td>VW</td>\n",
       "    </tr>\n",
       "    <tr>\n",
       "      <th>4260</th>\n",
       "      <td>4261</td>\n",
       "      <td>4260</td>\n",
       "      <td>2016-1-PanthersBroncos</td>\n",
       "      <td>1</td>\n",
       "      <td>Sun</td>\n",
       "      <td>2016-09-11</td>\n",
       "      <td>Panthers</td>\n",
       "      <td>7</td>\n",
       "      <td>10</td>\n",
       "      <td>0</td>\n",
       "      <td>3</td>\n",
       "      <td>2016</td>\n",
       "      <td>Broncos</td>\n",
       "      <td>0</td>\n",
       "      <td>7</td>\n",
       "      <td>0</td>\n",
       "      <td>14</td>\n",
       "      <td>9/11/2016</td>\n",
       "      <td>1:05PM</td>\n",
       "      <td>V</td>\n",
       "      <td>V</td>\n",
       "      <td>T</td>\n",
       "      <td>HH</td>\n",
       "      <td>-1</td>\n",
       "      <td>HW</td>\n",
       "    </tr>\n",
       "    <tr>\n",
       "      <th>4261</th>\n",
       "      <td>4262</td>\n",
       "      <td>4261</td>\n",
       "      <td>2016-2-EaglesBears</td>\n",
       "      <td>1</td>\n",
       "      <td>Sun</td>\n",
       "      <td>2016-09-11</td>\n",
       "      <td>Eagles</td>\n",
       "      <td>3</td>\n",
       "      <td>6</td>\n",
       "      <td>13</td>\n",
       "      <td>7</td>\n",
       "      <td>2016</td>\n",
       "      <td>Bears</td>\n",
       "      <td>0</td>\n",
       "      <td>7</td>\n",
       "      <td>0</td>\n",
       "      <td>7</td>\n",
       "      <td>9/11/2016</td>\n",
       "      <td>1:05PM</td>\n",
       "      <td>V</td>\n",
       "      <td>H</td>\n",
       "      <td>VV</td>\n",
       "      <td>T</td>\n",
       "      <td>15</td>\n",
       "      <td>VW</td>\n",
       "    </tr>\n",
       "    <tr>\n",
       "      <th>4262</th>\n",
       "      <td>4263</td>\n",
       "      <td>4262</td>\n",
       "      <td>2016-2-SaintsGiants</td>\n",
       "      <td>1</td>\n",
       "      <td>Sun</td>\n",
       "      <td>2016-09-11</td>\n",
       "      <td>Saints</td>\n",
       "      <td>0</td>\n",
       "      <td>3</td>\n",
       "      <td>0</td>\n",
       "      <td>10</td>\n",
       "      <td>2016</td>\n",
       "      <td>Giants</td>\n",
       "      <td>0</td>\n",
       "      <td>7</td>\n",
       "      <td>3</td>\n",
       "      <td>6</td>\n",
       "      <td>9/11/2016</td>\n",
       "      <td>1:05PM</td>\n",
       "      <td>T</td>\n",
       "      <td>H</td>\n",
       "      <td>H</td>\n",
       "      <td>V</td>\n",
       "      <td>-3</td>\n",
       "      <td>HW</td>\n",
       "    </tr>\n",
       "    <tr>\n",
       "      <th>4263</th>\n",
       "      <td>4264</td>\n",
       "      <td>4263</td>\n",
       "      <td>2016-2-49ersPanthers</td>\n",
       "      <td>1</td>\n",
       "      <td>Sun</td>\n",
       "      <td>2016-09-11</td>\n",
       "      <td>49ers</td>\n",
       "      <td>3</td>\n",
       "      <td>7</td>\n",
       "      <td>0</td>\n",
       "      <td>17</td>\n",
       "      <td>2016</td>\n",
       "      <td>Panthers</td>\n",
       "      <td>7</td>\n",
       "      <td>10</td>\n",
       "      <td>14</td>\n",
       "      <td>15</td>\n",
       "      <td>9/11/2016</td>\n",
       "      <td>1:05PM</td>\n",
       "      <td>H</td>\n",
       "      <td>H</td>\n",
       "      <td>HH</td>\n",
       "      <td>V</td>\n",
       "      <td>-19</td>\n",
       "      <td>HW</td>\n",
       "    </tr>\n",
       "    <tr>\n",
       "      <th>4264</th>\n",
       "      <td>4265</td>\n",
       "      <td>4264</td>\n",
       "      <td>2016-2-CowboysRedskins</td>\n",
       "      <td>1</td>\n",
       "      <td>Sun</td>\n",
       "      <td>2016-09-11</td>\n",
       "      <td>Cowboys</td>\n",
       "      <td>10</td>\n",
       "      <td>3</td>\n",
       "      <td>7</td>\n",
       "      <td>7</td>\n",
       "      <td>2016</td>\n",
       "      <td>Redskins</td>\n",
       "      <td>0</td>\n",
       "      <td>10</td>\n",
       "      <td>13</td>\n",
       "      <td>0</td>\n",
       "      <td>9/11/2016</td>\n",
       "      <td>1:05PM</td>\n",
       "      <td>VV</td>\n",
       "      <td>H</td>\n",
       "      <td>H</td>\n",
       "      <td>V</td>\n",
       "      <td>4</td>\n",
       "      <td>VW</td>\n",
       "    </tr>\n",
       "  </tbody>\n",
       "</table>\n",
       "</div>"
      ],
      "text/plain": [
       "      Unnamed: 0     X                      GameID  Week  Day   DateStamp       Vteam  VQ1  VQ2  VQ3  VQ4  Year      Hteam  HQ1  HQ2  HQ3  HQ4       Date    Time RQ1  RQ2 RQ3 RQ4  Win Winner\n",
       "4235        4236  4235      2015-17-SteelersBrowns    17  Sun  2016-01-03    Steelers    7    7    3   11  2015     Browns    3    6    0    3   1/3/2016  1:02PM   V    V   V  VV   16     VW\n",
       "4236        4237  4236           2015-17-JetsBills    17  Sun  2016-01-03        Jets    0    7   10    0  2015      Bills    7    9    3    3   1/3/2016  1:02PM   H    H   V   H   -5     HW\n",
       "4237        4238  4237          2015-17-LionsBears    17  Sun  2016-01-03       Lions    7    3    7    7  2015      Bears    0    0   10   10   1/3/2016  1:03PM   V    V   H   H    4     VW\n",
       "4238        4239  4238       2015-17-RavensBengals    17  Sun  2016-01-03      Ravens    0    9    0    7  2015    Bengals    0    7   14    3   1/3/2016  1:03PM   T    V  HH   V   -8     HW\n",
       "4239        4240  4239           2015-17-Rams49ers    17  Sun  2016-01-03        Rams    3   13    0    0  2015      49ers    0   10    3    3   1/3/2016  4:25PM   V    V   H   H    0      T\n",
       "4240        4241  4240     2015-17-ChargersBroncos    17  Sun  2016-01-03    Chargers    3    3    7    7  2015    Broncos    7    0    7   13   1/3/2016  4:25PM   H    V   T   H   -7     HW\n",
       "4241        4242  4241  2015-17-BuccaneersPanthers    17  Sun  2016-01-03  Buccaneers    3    0    7    0  2015   Panthers    0   24    7    7   1/3/2016  4:25PM   V  HHH   T   H  -28     HW\n",
       "4242        4243  4242   2015-17-SeahawksCardinals    17  Sun  2016-01-03    Seahawks   10   20    6    0  2015  Cardinals    0    6    0    0   1/3/2016  4:25PM  VV   VV   V   T   30     VW\n",
       "4243        4244  4243       2015-17-RaidersChiefs    17  Sun  2016-01-03     Raiders    0   10    0    7  2015     Chiefs   14    0    9    0   1/3/2016  4:26PM  HH   VV  HH   V   -6     HW\n",
       "4244        4245  4244      2015-17-VikingsPackers    17  Sun  2016-01-03     Vikings    3    3   14    0  2015    Packers    3    0    0   10   1/3/2016  8:30PM   T    V  VV  HH    7     VW\n",
       "4245        4246  4245     2016-1-SteelersRedskins   100  Sat  2016-01-09    Steelers    0   14   10   14  2016   Redskins    6    0    3    7   1/9/2016  4:35PM   H   VV   V   V   22     VW\n",
       "4246        4247  4246            2016-1-Rams49ers   100  Sat  2016-01-09        Rams    0    0    0    0  2016      49ers    7    7    0   14   1/9/2016  8:15PM   H    H   T  HH  -28     HW\n",
       "4247        4248  4247    2016-1-BuccaneersFalcons   100  Sun  2016-01-10  Buccaneers    3   14   14    0  2016    Falcons   10    3    8    3  1/10/2016  1:05PM   H   VV   V   H    7     VW\n",
       "4248        4249  4248         2016-1-BrownsEagles   100  Sun  2016-01-10      Browns    0    7    3    0  2016     Eagles    7    6    9    7  1/10/2016  4:42PM   H    V   H   H  -19     HW\n",
       "4249        4250  4249        2016-1-VikingsTitans   200  Sat  2016-01-16     Vikings    0    0   12   13  2016     Titans    3    7    0    6  1/16/2016  4:35PM   H    H  VV   V    9     VW\n",
       "4250        4251  4250        2016-1-RaidersSaints   200  Sat  2016-01-16     Raiders   10    0    3   22  2016     Saints    3   14    7   10  1/16/2016  8:15PM   V   HH   H  VV    1     VW\n",
       "4251        4252  4251          2016-1-BengalsJets   200  Sun  2016-01-17     Bengals    3   10    7    3  2016       Jets    7    9    0    6  1/17/2016  1:06PM   H    V   V   H    1     VW\n",
       "4252        4253  4252       2016-1-ChargersChiefs   200  Sun  2016-01-17    Chargers    7   14    3    3  2016     Chiefs    3    0    7   17  1/17/2016  4:40PM   V   VV   H  HH    0      T\n",
       "4253        4254  4253          2016-1-BearsTexans   300  Sun  2016-01-24       Bears    7    7    0    0  2016     Texans    0   10    3   10  1/24/2016  3:05PM   V    H   H  HH   -9     HW\n",
       "4254        4255  4254          2016-1-BillsRavens   300  Sun  2016-01-24       Bills    0    7    0    0  2016     Ravens    3    7    0    3  1/24/2016  6:42PM   H    T   T   H   -6     HW\n",
       "4255        4256  4255       2016-1-PackersJaguars   400  Sun  2016-02-07     Packers    7   14    3    3  2016    Jaguars    7   10    3    3   2/7/2016  6:39PM   T    V   T   T    4     VW\n",
       "4256        4257  4256     2016-1-DolphinsSeahawks     1  Thu  2016-09-08    Dolphins    0    3    0    7  2016   Seahawks    3    3    0    6   9/8/2016  8:40PM   H    T   T   V   -2     HW\n",
       "4257        4258  4257           2016-1-LionsColts     1  Sun  2016-09-11       Lions    7   14    7   11  2016      Colts    0   10    8   17  9/11/2016  1:04PM   V    V   H   H    4     VW\n",
       "4258        4259  4258        2016-1-GiantsCowboys     1  Sun  2016-09-11      Giants    0   13    0    7  2016    Cowboys    3    6    7    3  9/11/2016  1:04PM   H    V   H   V    1     VW\n",
       "4259        4260  4259    2016-1-PatriotsCardinals     1  Sun  2016-09-11    Patriots   10    0    7    6  2016  Cardinals    0    7    7    7  9/11/2016  1:05PM  VV    H   T   H    2     VW\n",
       "4260        4261  4260      2016-1-PanthersBroncos     1  Sun  2016-09-11    Panthers    7   10    0    3  2016    Broncos    0    7    0   14  9/11/2016  1:05PM   V    V   T  HH   -1     HW\n",
       "4261        4262  4261          2016-2-EaglesBears     1  Sun  2016-09-11      Eagles    3    6   13    7  2016      Bears    0    7    0    7  9/11/2016  1:05PM   V    H  VV   T   15     VW\n",
       "4262        4263  4262         2016-2-SaintsGiants     1  Sun  2016-09-11      Saints    0    3    0   10  2016     Giants    0    7    3    6  9/11/2016  1:05PM   T    H   H   V   -3     HW\n",
       "4263        4264  4263        2016-2-49ersPanthers     1  Sun  2016-09-11       49ers    3    7    0   17  2016   Panthers    7   10   14   15  9/11/2016  1:05PM   H    H  HH   V  -19     HW\n",
       "4264        4265  4264      2016-2-CowboysRedskins     1  Sun  2016-09-11     Cowboys   10    3    7    7  2016   Redskins    0   10   13    0  9/11/2016  1:05PM  VV    H   H   V    4     VW"
      ]
     },
     "execution_count": 9,
     "metadata": {},
     "output_type": "execute_result"
    }
   ],
   "source": [
    "qwins.iloc[4235:4265,:]"
   ]
  },
  {
   "cell_type": "code",
   "execution_count": 83,
   "metadata": {},
   "outputs": [
    {
     "data": {
      "text/html": [
       "<div>\n",
       "<style scoped>\n",
       "    .dataframe tbody tr th:only-of-type {\n",
       "        vertical-align: middle;\n",
       "    }\n",
       "\n",
       "    .dataframe tbody tr th {\n",
       "        vertical-align: top;\n",
       "    }\n",
       "\n",
       "    .dataframe thead th {\n",
       "        text-align: right;\n",
       "    }\n",
       "</style>\n",
       "<table border=\"1\" class=\"dataframe\">\n",
       "  <thead>\n",
       "    <tr style=\"text-align: right;\">\n",
       "      <th></th>\n",
       "      <th>RQ1</th>\n",
       "      <th>RQ2</th>\n",
       "      <th>RQ3</th>\n",
       "      <th>RQ4</th>\n",
       "      <th>Winner</th>\n",
       "    </tr>\n",
       "  </thead>\n",
       "  <tbody>\n",
       "    <tr>\n",
       "      <th>0</th>\n",
       "      <td>V</td>\n",
       "      <td>V</td>\n",
       "      <td>T</td>\n",
       "      <td>H</td>\n",
       "      <td>HW</td>\n",
       "    </tr>\n",
       "    <tr>\n",
       "      <th>1</th>\n",
       "      <td>T</td>\n",
       "      <td>T</td>\n",
       "      <td>T</td>\n",
       "      <td>VV</td>\n",
       "      <td>VW</td>\n",
       "    </tr>\n",
       "    <tr>\n",
       "      <th>2</th>\n",
       "      <td>V</td>\n",
       "      <td>T</td>\n",
       "      <td>H</td>\n",
       "      <td>H</td>\n",
       "      <td>HW</td>\n",
       "    </tr>\n",
       "    <tr>\n",
       "      <th>3</th>\n",
       "      <td>V</td>\n",
       "      <td>HH</td>\n",
       "      <td>H</td>\n",
       "      <td>V</td>\n",
       "      <td>HW</td>\n",
       "    </tr>\n",
       "    <tr>\n",
       "      <th>4</th>\n",
       "      <td>VV</td>\n",
       "      <td>V</td>\n",
       "      <td>V</td>\n",
       "      <td>T</td>\n",
       "      <td>VW</td>\n",
       "    </tr>\n",
       "    <tr>\n",
       "      <th>...</th>\n",
       "      <td>...</td>\n",
       "      <td>...</td>\n",
       "      <td>...</td>\n",
       "      <td>...</td>\n",
       "      <td>...</td>\n",
       "    </tr>\n",
       "    <tr>\n",
       "      <th>5319</th>\n",
       "      <td>T</td>\n",
       "      <td>H</td>\n",
       "      <td>HH</td>\n",
       "      <td>H</td>\n",
       "      <td>HW</td>\n",
       "    </tr>\n",
       "    <tr>\n",
       "      <th>5320</th>\n",
       "      <td>V</td>\n",
       "      <td>V</td>\n",
       "      <td>VV</td>\n",
       "      <td>H</td>\n",
       "      <td>VW</td>\n",
       "    </tr>\n",
       "    <tr>\n",
       "      <th>5321</th>\n",
       "      <td>V</td>\n",
       "      <td>H</td>\n",
       "      <td>T</td>\n",
       "      <td>H</td>\n",
       "      <td>HW</td>\n",
       "    </tr>\n",
       "    <tr>\n",
       "      <th>5322</th>\n",
       "      <td>H</td>\n",
       "      <td>HHH</td>\n",
       "      <td>T</td>\n",
       "      <td>VV</td>\n",
       "      <td>HW</td>\n",
       "    </tr>\n",
       "    <tr>\n",
       "      <th>5323</th>\n",
       "      <td>H</td>\n",
       "      <td>V</td>\n",
       "      <td>VV</td>\n",
       "      <td>HHH</td>\n",
       "      <td>HW</td>\n",
       "    </tr>\n",
       "  </tbody>\n",
       "</table>\n",
       "<p>5324 rows × 5 columns</p>\n",
       "</div>"
      ],
      "text/plain": [
       "     RQ1  RQ2 RQ3  RQ4 Winner\n",
       "0      V    V   T    H     HW\n",
       "1      T    T   T   VV     VW\n",
       "2      V    T   H    H     HW\n",
       "3      V   HH   H    V     HW\n",
       "4     VV    V   V    T     VW\n",
       "...   ..  ...  ..  ...    ...\n",
       "5319   T    H  HH    H     HW\n",
       "5320   V    V  VV    H     VW\n",
       "5321   V    H   T    H     HW\n",
       "5322   H  HHH   T   VV     HW\n",
       "5323   H    V  VV  HHH     HW\n",
       "\n",
       "[5324 rows x 5 columns]"
      ]
     },
     "execution_count": 83,
     "metadata": {},
     "output_type": "execute_result"
    }
   ],
   "source": [
    "quarterly_wins = qwins[['RQ1','RQ2','RQ3','RQ4','Winner']]\n",
    "quarterly_wins"
   ]
  },
  {
   "cell_type": "code",
   "execution_count": 26,
   "metadata": {},
   "outputs": [
    {
     "data": {
      "text/plain": [
       "HW    0.536251\n",
       "VW    0.401202\n",
       "T     0.062547\n",
       "Name: Winner, dtype: float64"
      ]
     },
     "execution_count": 26,
     "metadata": {},
     "output_type": "execute_result"
    }
   ],
   "source": [
    "quarterly_wins['Winner'].value_counts(normalize=True)\n",
    "# About 1 out of every 16 NFL games goes to overtime"
   ]
  },
  {
   "cell_type": "code",
   "execution_count": 90,
   "metadata": {},
   "outputs": [],
   "source": [
    "quarterly_wins_no_target = quarterly_wins.drop(['Winner'], axis=1)"
   ]
  },
  {
   "cell_type": "code",
   "execution_count": 91,
   "metadata": {},
   "outputs": [
    {
     "data": {
      "text/html": [
       "<div>\n",
       "<style scoped>\n",
       "    .dataframe tbody tr th:only-of-type {\n",
       "        vertical-align: middle;\n",
       "    }\n",
       "\n",
       "    .dataframe tbody tr th {\n",
       "        vertical-align: top;\n",
       "    }\n",
       "\n",
       "    .dataframe thead th {\n",
       "        text-align: right;\n",
       "    }\n",
       "</style>\n",
       "<table border=\"1\" class=\"dataframe\">\n",
       "  <thead>\n",
       "    <tr style=\"text-align: right;\">\n",
       "      <th></th>\n",
       "      <th>RQ1</th>\n",
       "      <th>RQ2</th>\n",
       "      <th>RQ3</th>\n",
       "      <th>RQ4</th>\n",
       "    </tr>\n",
       "  </thead>\n",
       "  <tbody>\n",
       "    <tr>\n",
       "      <th>0</th>\n",
       "      <td>V</td>\n",
       "      <td>V</td>\n",
       "      <td>T</td>\n",
       "      <td>H</td>\n",
       "    </tr>\n",
       "    <tr>\n",
       "      <th>1</th>\n",
       "      <td>T</td>\n",
       "      <td>T</td>\n",
       "      <td>T</td>\n",
       "      <td>VV</td>\n",
       "    </tr>\n",
       "    <tr>\n",
       "      <th>2</th>\n",
       "      <td>V</td>\n",
       "      <td>T</td>\n",
       "      <td>H</td>\n",
       "      <td>H</td>\n",
       "    </tr>\n",
       "    <tr>\n",
       "      <th>3</th>\n",
       "      <td>V</td>\n",
       "      <td>HH</td>\n",
       "      <td>H</td>\n",
       "      <td>V</td>\n",
       "    </tr>\n",
       "    <tr>\n",
       "      <th>4</th>\n",
       "      <td>VV</td>\n",
       "      <td>V</td>\n",
       "      <td>V</td>\n",
       "      <td>T</td>\n",
       "    </tr>\n",
       "    <tr>\n",
       "      <th>...</th>\n",
       "      <td>...</td>\n",
       "      <td>...</td>\n",
       "      <td>...</td>\n",
       "      <td>...</td>\n",
       "    </tr>\n",
       "    <tr>\n",
       "      <th>5319</th>\n",
       "      <td>T</td>\n",
       "      <td>H</td>\n",
       "      <td>HH</td>\n",
       "      <td>H</td>\n",
       "    </tr>\n",
       "    <tr>\n",
       "      <th>5320</th>\n",
       "      <td>V</td>\n",
       "      <td>V</td>\n",
       "      <td>VV</td>\n",
       "      <td>H</td>\n",
       "    </tr>\n",
       "    <tr>\n",
       "      <th>5321</th>\n",
       "      <td>V</td>\n",
       "      <td>H</td>\n",
       "      <td>T</td>\n",
       "      <td>H</td>\n",
       "    </tr>\n",
       "    <tr>\n",
       "      <th>5322</th>\n",
       "      <td>H</td>\n",
       "      <td>HHH</td>\n",
       "      <td>T</td>\n",
       "      <td>VV</td>\n",
       "    </tr>\n",
       "    <tr>\n",
       "      <th>5323</th>\n",
       "      <td>H</td>\n",
       "      <td>V</td>\n",
       "      <td>VV</td>\n",
       "      <td>HHH</td>\n",
       "    </tr>\n",
       "  </tbody>\n",
       "</table>\n",
       "<p>5324 rows × 4 columns</p>\n",
       "</div>"
      ],
      "text/plain": [
       "     RQ1  RQ2 RQ3  RQ4\n",
       "0      V    V   T    H\n",
       "1      T    T   T   VV\n",
       "2      V    T   H    H\n",
       "3      V   HH   H    V\n",
       "4     VV    V   V    T\n",
       "...   ..  ...  ..  ...\n",
       "5319   T    H  HH    H\n",
       "5320   V    V  VV    H\n",
       "5321   V    H   T    H\n",
       "5322   H  HHH   T   VV\n",
       "5323   H    V  VV  HHH\n",
       "\n",
       "[5324 rows x 4 columns]"
      ]
     },
     "execution_count": 91,
     "metadata": {},
     "output_type": "execute_result"
    }
   ],
   "source": [
    "quarterly_wins_no_target"
   ]
  },
  {
   "cell_type": "code",
   "execution_count": 37,
   "metadata": {},
   "outputs": [],
   "source": [
    "from sklearn.preprocessing import OneHotEncoder"
   ]
  },
  {
   "cell_type": "code",
   "execution_count": 92,
   "metadata": {},
   "outputs": [],
   "source": [
    "ohe = OneHotEncoder()\n",
    "quarterly_wins_encoded = pd.DataFrame(ohe.fit_transform(quarterly_wins_no_target).toarray())\n",
    "ohe.get_feature_names()\n",
    "quarterly_wins_encoded.columns = ohe.get_feature_names()\n",
    "#pd.DataFrame(enc.fit_transform(bridge_df[['Bridge_Types_Cat']]).toarray())"
   ]
  },
  {
   "cell_type": "code",
   "execution_count": 93,
   "metadata": {},
   "outputs": [
    {
     "data": {
      "text/html": [
       "<div>\n",
       "<style scoped>\n",
       "    .dataframe tbody tr th:only-of-type {\n",
       "        vertical-align: middle;\n",
       "    }\n",
       "\n",
       "    .dataframe tbody tr th {\n",
       "        vertical-align: top;\n",
       "    }\n",
       "\n",
       "    .dataframe thead th {\n",
       "        text-align: right;\n",
       "    }\n",
       "</style>\n",
       "<table border=\"1\" class=\"dataframe\">\n",
       "  <thead>\n",
       "    <tr style=\"text-align: right;\">\n",
       "      <th></th>\n",
       "      <th>x0_H</th>\n",
       "      <th>x0_HH</th>\n",
       "      <th>x0_HHH</th>\n",
       "      <th>x0_T</th>\n",
       "      <th>x0_V</th>\n",
       "      <th>x0_VV</th>\n",
       "      <th>x0_VVV</th>\n",
       "      <th>x1_H</th>\n",
       "      <th>x1_HH</th>\n",
       "      <th>x1_HHH</th>\n",
       "      <th>x1_T</th>\n",
       "      <th>x1_V</th>\n",
       "      <th>x1_VV</th>\n",
       "      <th>x1_VVV</th>\n",
       "      <th>x2_H</th>\n",
       "      <th>x2_HH</th>\n",
       "      <th>x2_HHH</th>\n",
       "      <th>x2_T</th>\n",
       "      <th>x2_V</th>\n",
       "      <th>x2_VV</th>\n",
       "      <th>x2_VVV</th>\n",
       "      <th>x3_H</th>\n",
       "      <th>x3_HH</th>\n",
       "      <th>x3_HHH</th>\n",
       "      <th>x3_T</th>\n",
       "      <th>x3_V</th>\n",
       "      <th>x3_VV</th>\n",
       "      <th>x3_VVV</th>\n",
       "    </tr>\n",
       "  </thead>\n",
       "  <tbody>\n",
       "    <tr>\n",
       "      <th>0</th>\n",
       "      <td>0.0</td>\n",
       "      <td>0.0</td>\n",
       "      <td>0.0</td>\n",
       "      <td>0.0</td>\n",
       "      <td>1.0</td>\n",
       "      <td>0.0</td>\n",
       "      <td>0.0</td>\n",
       "      <td>0.0</td>\n",
       "      <td>0.0</td>\n",
       "      <td>0.0</td>\n",
       "      <td>0.0</td>\n",
       "      <td>1.0</td>\n",
       "      <td>0.0</td>\n",
       "      <td>0.0</td>\n",
       "      <td>0.0</td>\n",
       "      <td>0.0</td>\n",
       "      <td>0.0</td>\n",
       "      <td>1.0</td>\n",
       "      <td>0.0</td>\n",
       "      <td>0.0</td>\n",
       "      <td>0.0</td>\n",
       "      <td>1.0</td>\n",
       "      <td>0.0</td>\n",
       "      <td>0.0</td>\n",
       "      <td>0.0</td>\n",
       "      <td>0.0</td>\n",
       "      <td>0.0</td>\n",
       "      <td>0.0</td>\n",
       "    </tr>\n",
       "    <tr>\n",
       "      <th>1</th>\n",
       "      <td>0.0</td>\n",
       "      <td>0.0</td>\n",
       "      <td>0.0</td>\n",
       "      <td>1.0</td>\n",
       "      <td>0.0</td>\n",
       "      <td>0.0</td>\n",
       "      <td>0.0</td>\n",
       "      <td>0.0</td>\n",
       "      <td>0.0</td>\n",
       "      <td>0.0</td>\n",
       "      <td>1.0</td>\n",
       "      <td>0.0</td>\n",
       "      <td>0.0</td>\n",
       "      <td>0.0</td>\n",
       "      <td>0.0</td>\n",
       "      <td>0.0</td>\n",
       "      <td>0.0</td>\n",
       "      <td>1.0</td>\n",
       "      <td>0.0</td>\n",
       "      <td>0.0</td>\n",
       "      <td>0.0</td>\n",
       "      <td>0.0</td>\n",
       "      <td>0.0</td>\n",
       "      <td>0.0</td>\n",
       "      <td>0.0</td>\n",
       "      <td>0.0</td>\n",
       "      <td>1.0</td>\n",
       "      <td>0.0</td>\n",
       "    </tr>\n",
       "    <tr>\n",
       "      <th>2</th>\n",
       "      <td>0.0</td>\n",
       "      <td>0.0</td>\n",
       "      <td>0.0</td>\n",
       "      <td>0.0</td>\n",
       "      <td>1.0</td>\n",
       "      <td>0.0</td>\n",
       "      <td>0.0</td>\n",
       "      <td>0.0</td>\n",
       "      <td>0.0</td>\n",
       "      <td>0.0</td>\n",
       "      <td>1.0</td>\n",
       "      <td>0.0</td>\n",
       "      <td>0.0</td>\n",
       "      <td>0.0</td>\n",
       "      <td>1.0</td>\n",
       "      <td>0.0</td>\n",
       "      <td>0.0</td>\n",
       "      <td>0.0</td>\n",
       "      <td>0.0</td>\n",
       "      <td>0.0</td>\n",
       "      <td>0.0</td>\n",
       "      <td>1.0</td>\n",
       "      <td>0.0</td>\n",
       "      <td>0.0</td>\n",
       "      <td>0.0</td>\n",
       "      <td>0.0</td>\n",
       "      <td>0.0</td>\n",
       "      <td>0.0</td>\n",
       "    </tr>\n",
       "    <tr>\n",
       "      <th>3</th>\n",
       "      <td>0.0</td>\n",
       "      <td>0.0</td>\n",
       "      <td>0.0</td>\n",
       "      <td>0.0</td>\n",
       "      <td>1.0</td>\n",
       "      <td>0.0</td>\n",
       "      <td>0.0</td>\n",
       "      <td>0.0</td>\n",
       "      <td>1.0</td>\n",
       "      <td>0.0</td>\n",
       "      <td>0.0</td>\n",
       "      <td>0.0</td>\n",
       "      <td>0.0</td>\n",
       "      <td>0.0</td>\n",
       "      <td>1.0</td>\n",
       "      <td>0.0</td>\n",
       "      <td>0.0</td>\n",
       "      <td>0.0</td>\n",
       "      <td>0.0</td>\n",
       "      <td>0.0</td>\n",
       "      <td>0.0</td>\n",
       "      <td>0.0</td>\n",
       "      <td>0.0</td>\n",
       "      <td>0.0</td>\n",
       "      <td>0.0</td>\n",
       "      <td>1.0</td>\n",
       "      <td>0.0</td>\n",
       "      <td>0.0</td>\n",
       "    </tr>\n",
       "    <tr>\n",
       "      <th>4</th>\n",
       "      <td>0.0</td>\n",
       "      <td>0.0</td>\n",
       "      <td>0.0</td>\n",
       "      <td>0.0</td>\n",
       "      <td>0.0</td>\n",
       "      <td>1.0</td>\n",
       "      <td>0.0</td>\n",
       "      <td>0.0</td>\n",
       "      <td>0.0</td>\n",
       "      <td>0.0</td>\n",
       "      <td>0.0</td>\n",
       "      <td>1.0</td>\n",
       "      <td>0.0</td>\n",
       "      <td>0.0</td>\n",
       "      <td>0.0</td>\n",
       "      <td>0.0</td>\n",
       "      <td>0.0</td>\n",
       "      <td>0.0</td>\n",
       "      <td>1.0</td>\n",
       "      <td>0.0</td>\n",
       "      <td>0.0</td>\n",
       "      <td>0.0</td>\n",
       "      <td>0.0</td>\n",
       "      <td>0.0</td>\n",
       "      <td>1.0</td>\n",
       "      <td>0.0</td>\n",
       "      <td>0.0</td>\n",
       "      <td>0.0</td>\n",
       "    </tr>\n",
       "    <tr>\n",
       "      <th>...</th>\n",
       "      <td>...</td>\n",
       "      <td>...</td>\n",
       "      <td>...</td>\n",
       "      <td>...</td>\n",
       "      <td>...</td>\n",
       "      <td>...</td>\n",
       "      <td>...</td>\n",
       "      <td>...</td>\n",
       "      <td>...</td>\n",
       "      <td>...</td>\n",
       "      <td>...</td>\n",
       "      <td>...</td>\n",
       "      <td>...</td>\n",
       "      <td>...</td>\n",
       "      <td>...</td>\n",
       "      <td>...</td>\n",
       "      <td>...</td>\n",
       "      <td>...</td>\n",
       "      <td>...</td>\n",
       "      <td>...</td>\n",
       "      <td>...</td>\n",
       "      <td>...</td>\n",
       "      <td>...</td>\n",
       "      <td>...</td>\n",
       "      <td>...</td>\n",
       "      <td>...</td>\n",
       "      <td>...</td>\n",
       "      <td>...</td>\n",
       "    </tr>\n",
       "    <tr>\n",
       "      <th>5319</th>\n",
       "      <td>0.0</td>\n",
       "      <td>0.0</td>\n",
       "      <td>0.0</td>\n",
       "      <td>1.0</td>\n",
       "      <td>0.0</td>\n",
       "      <td>0.0</td>\n",
       "      <td>0.0</td>\n",
       "      <td>1.0</td>\n",
       "      <td>0.0</td>\n",
       "      <td>0.0</td>\n",
       "      <td>0.0</td>\n",
       "      <td>0.0</td>\n",
       "      <td>0.0</td>\n",
       "      <td>0.0</td>\n",
       "      <td>0.0</td>\n",
       "      <td>1.0</td>\n",
       "      <td>0.0</td>\n",
       "      <td>0.0</td>\n",
       "      <td>0.0</td>\n",
       "      <td>0.0</td>\n",
       "      <td>0.0</td>\n",
       "      <td>1.0</td>\n",
       "      <td>0.0</td>\n",
       "      <td>0.0</td>\n",
       "      <td>0.0</td>\n",
       "      <td>0.0</td>\n",
       "      <td>0.0</td>\n",
       "      <td>0.0</td>\n",
       "    </tr>\n",
       "    <tr>\n",
       "      <th>5320</th>\n",
       "      <td>0.0</td>\n",
       "      <td>0.0</td>\n",
       "      <td>0.0</td>\n",
       "      <td>0.0</td>\n",
       "      <td>1.0</td>\n",
       "      <td>0.0</td>\n",
       "      <td>0.0</td>\n",
       "      <td>0.0</td>\n",
       "      <td>0.0</td>\n",
       "      <td>0.0</td>\n",
       "      <td>0.0</td>\n",
       "      <td>1.0</td>\n",
       "      <td>0.0</td>\n",
       "      <td>0.0</td>\n",
       "      <td>0.0</td>\n",
       "      <td>0.0</td>\n",
       "      <td>0.0</td>\n",
       "      <td>0.0</td>\n",
       "      <td>0.0</td>\n",
       "      <td>1.0</td>\n",
       "      <td>0.0</td>\n",
       "      <td>1.0</td>\n",
       "      <td>0.0</td>\n",
       "      <td>0.0</td>\n",
       "      <td>0.0</td>\n",
       "      <td>0.0</td>\n",
       "      <td>0.0</td>\n",
       "      <td>0.0</td>\n",
       "    </tr>\n",
       "    <tr>\n",
       "      <th>5321</th>\n",
       "      <td>0.0</td>\n",
       "      <td>0.0</td>\n",
       "      <td>0.0</td>\n",
       "      <td>0.0</td>\n",
       "      <td>1.0</td>\n",
       "      <td>0.0</td>\n",
       "      <td>0.0</td>\n",
       "      <td>1.0</td>\n",
       "      <td>0.0</td>\n",
       "      <td>0.0</td>\n",
       "      <td>0.0</td>\n",
       "      <td>0.0</td>\n",
       "      <td>0.0</td>\n",
       "      <td>0.0</td>\n",
       "      <td>0.0</td>\n",
       "      <td>0.0</td>\n",
       "      <td>0.0</td>\n",
       "      <td>1.0</td>\n",
       "      <td>0.0</td>\n",
       "      <td>0.0</td>\n",
       "      <td>0.0</td>\n",
       "      <td>1.0</td>\n",
       "      <td>0.0</td>\n",
       "      <td>0.0</td>\n",
       "      <td>0.0</td>\n",
       "      <td>0.0</td>\n",
       "      <td>0.0</td>\n",
       "      <td>0.0</td>\n",
       "    </tr>\n",
       "    <tr>\n",
       "      <th>5322</th>\n",
       "      <td>1.0</td>\n",
       "      <td>0.0</td>\n",
       "      <td>0.0</td>\n",
       "      <td>0.0</td>\n",
       "      <td>0.0</td>\n",
       "      <td>0.0</td>\n",
       "      <td>0.0</td>\n",
       "      <td>0.0</td>\n",
       "      <td>0.0</td>\n",
       "      <td>1.0</td>\n",
       "      <td>0.0</td>\n",
       "      <td>0.0</td>\n",
       "      <td>0.0</td>\n",
       "      <td>0.0</td>\n",
       "      <td>0.0</td>\n",
       "      <td>0.0</td>\n",
       "      <td>0.0</td>\n",
       "      <td>1.0</td>\n",
       "      <td>0.0</td>\n",
       "      <td>0.0</td>\n",
       "      <td>0.0</td>\n",
       "      <td>0.0</td>\n",
       "      <td>0.0</td>\n",
       "      <td>0.0</td>\n",
       "      <td>0.0</td>\n",
       "      <td>0.0</td>\n",
       "      <td>1.0</td>\n",
       "      <td>0.0</td>\n",
       "    </tr>\n",
       "    <tr>\n",
       "      <th>5323</th>\n",
       "      <td>1.0</td>\n",
       "      <td>0.0</td>\n",
       "      <td>0.0</td>\n",
       "      <td>0.0</td>\n",
       "      <td>0.0</td>\n",
       "      <td>0.0</td>\n",
       "      <td>0.0</td>\n",
       "      <td>0.0</td>\n",
       "      <td>0.0</td>\n",
       "      <td>0.0</td>\n",
       "      <td>0.0</td>\n",
       "      <td>1.0</td>\n",
       "      <td>0.0</td>\n",
       "      <td>0.0</td>\n",
       "      <td>0.0</td>\n",
       "      <td>0.0</td>\n",
       "      <td>0.0</td>\n",
       "      <td>0.0</td>\n",
       "      <td>0.0</td>\n",
       "      <td>1.0</td>\n",
       "      <td>0.0</td>\n",
       "      <td>0.0</td>\n",
       "      <td>0.0</td>\n",
       "      <td>1.0</td>\n",
       "      <td>0.0</td>\n",
       "      <td>0.0</td>\n",
       "      <td>0.0</td>\n",
       "      <td>0.0</td>\n",
       "    </tr>\n",
       "  </tbody>\n",
       "</table>\n",
       "<p>5324 rows × 28 columns</p>\n",
       "</div>"
      ],
      "text/plain": [
       "      x0_H  x0_HH  x0_HHH  x0_T  x0_V  x0_VV  x0_VVV  x1_H  x1_HH  x1_HHH  x1_T  x1_V  x1_VV  x1_VVV  x2_H  x2_HH  x2_HHH  x2_T  x2_V  x2_VV  x2_VVV  x3_H  x3_HH  x3_HHH  x3_T  x3_V  x3_VV  x3_VVV\n",
       "0      0.0    0.0     0.0   0.0   1.0    0.0     0.0   0.0    0.0     0.0   0.0   1.0    0.0     0.0   0.0    0.0     0.0   1.0   0.0    0.0     0.0   1.0    0.0     0.0   0.0   0.0    0.0     0.0\n",
       "1      0.0    0.0     0.0   1.0   0.0    0.0     0.0   0.0    0.0     0.0   1.0   0.0    0.0     0.0   0.0    0.0     0.0   1.0   0.0    0.0     0.0   0.0    0.0     0.0   0.0   0.0    1.0     0.0\n",
       "2      0.0    0.0     0.0   0.0   1.0    0.0     0.0   0.0    0.0     0.0   1.0   0.0    0.0     0.0   1.0    0.0     0.0   0.0   0.0    0.0     0.0   1.0    0.0     0.0   0.0   0.0    0.0     0.0\n",
       "3      0.0    0.0     0.0   0.0   1.0    0.0     0.0   0.0    1.0     0.0   0.0   0.0    0.0     0.0   1.0    0.0     0.0   0.0   0.0    0.0     0.0   0.0    0.0     0.0   0.0   1.0    0.0     0.0\n",
       "4      0.0    0.0     0.0   0.0   0.0    1.0     0.0   0.0    0.0     0.0   0.0   1.0    0.0     0.0   0.0    0.0     0.0   0.0   1.0    0.0     0.0   0.0    0.0     0.0   1.0   0.0    0.0     0.0\n",
       "...    ...    ...     ...   ...   ...    ...     ...   ...    ...     ...   ...   ...    ...     ...   ...    ...     ...   ...   ...    ...     ...   ...    ...     ...   ...   ...    ...     ...\n",
       "5319   0.0    0.0     0.0   1.0   0.0    0.0     0.0   1.0    0.0     0.0   0.0   0.0    0.0     0.0   0.0    1.0     0.0   0.0   0.0    0.0     0.0   1.0    0.0     0.0   0.0   0.0    0.0     0.0\n",
       "5320   0.0    0.0     0.0   0.0   1.0    0.0     0.0   0.0    0.0     0.0   0.0   1.0    0.0     0.0   0.0    0.0     0.0   0.0   0.0    1.0     0.0   1.0    0.0     0.0   0.0   0.0    0.0     0.0\n",
       "5321   0.0    0.0     0.0   0.0   1.0    0.0     0.0   1.0    0.0     0.0   0.0   0.0    0.0     0.0   0.0    0.0     0.0   1.0   0.0    0.0     0.0   1.0    0.0     0.0   0.0   0.0    0.0     0.0\n",
       "5322   1.0    0.0     0.0   0.0   0.0    0.0     0.0   0.0    0.0     1.0   0.0   0.0    0.0     0.0   0.0    0.0     0.0   1.0   0.0    0.0     0.0   0.0    0.0     0.0   0.0   0.0    1.0     0.0\n",
       "5323   1.0    0.0     0.0   0.0   0.0    0.0     0.0   0.0    0.0     0.0   0.0   1.0    0.0     0.0   0.0    0.0     0.0   0.0   0.0    1.0     0.0   0.0    0.0     1.0   0.0   0.0    0.0     0.0\n",
       "\n",
       "[5324 rows x 28 columns]"
      ]
     },
     "execution_count": 93,
     "metadata": {},
     "output_type": "execute_result"
    }
   ],
   "source": [
    "quarterly_wins_encoded"
   ]
  },
  {
   "cell_type": "raw",
   "metadata": {},
   "source": [
    "quarterly_wins_for_modeling = pd.concat([quarterly_wins_encoded, quarterly_wins['Winner']],axis=1)\n",
    "quarterly_wins_for_modeling"
   ]
  },
  {
   "cell_type": "code",
   "execution_count": 100,
   "metadata": {},
   "outputs": [
    {
     "data": {
      "text/html": [
       "<div>\n",
       "<style scoped>\n",
       "    .dataframe tbody tr th:only-of-type {\n",
       "        vertical-align: middle;\n",
       "    }\n",
       "\n",
       "    .dataframe tbody tr th {\n",
       "        vertical-align: top;\n",
       "    }\n",
       "\n",
       "    .dataframe thead th {\n",
       "        text-align: right;\n",
       "    }\n",
       "</style>\n",
       "<table border=\"1\" class=\"dataframe\">\n",
       "  <thead>\n",
       "    <tr style=\"text-align: right;\">\n",
       "      <th></th>\n",
       "      <th>x0_H</th>\n",
       "      <th>x0_HH</th>\n",
       "      <th>x0_HHH</th>\n",
       "      <th>x0_T</th>\n",
       "      <th>x0_V</th>\n",
       "      <th>x0_VV</th>\n",
       "      <th>x0_VVV</th>\n",
       "      <th>x1_H</th>\n",
       "      <th>x1_HH</th>\n",
       "      <th>x1_HHH</th>\n",
       "      <th>x1_T</th>\n",
       "      <th>x1_V</th>\n",
       "      <th>x1_VV</th>\n",
       "      <th>x1_VVV</th>\n",
       "      <th>x2_H</th>\n",
       "      <th>x2_HH</th>\n",
       "      <th>x2_HHH</th>\n",
       "      <th>x2_T</th>\n",
       "      <th>x2_V</th>\n",
       "      <th>x2_VV</th>\n",
       "      <th>x2_VVV</th>\n",
       "      <th>x3_H</th>\n",
       "      <th>x3_HH</th>\n",
       "      <th>x3_HHH</th>\n",
       "      <th>x3_T</th>\n",
       "      <th>x3_V</th>\n",
       "      <th>x3_VV</th>\n",
       "      <th>x3_VVV</th>\n",
       "      <th>Winner</th>\n",
       "    </tr>\n",
       "  </thead>\n",
       "  <tbody>\n",
       "    <tr>\n",
       "      <th>0</th>\n",
       "      <td>0.0</td>\n",
       "      <td>0.0</td>\n",
       "      <td>0.0</td>\n",
       "      <td>0.0</td>\n",
       "      <td>1.0</td>\n",
       "      <td>0.0</td>\n",
       "      <td>0.0</td>\n",
       "      <td>0.0</td>\n",
       "      <td>0.0</td>\n",
       "      <td>0.0</td>\n",
       "      <td>0.0</td>\n",
       "      <td>1.0</td>\n",
       "      <td>0.0</td>\n",
       "      <td>0.0</td>\n",
       "      <td>0.0</td>\n",
       "      <td>0.0</td>\n",
       "      <td>0.0</td>\n",
       "      <td>1.0</td>\n",
       "      <td>0.0</td>\n",
       "      <td>0.0</td>\n",
       "      <td>0.0</td>\n",
       "      <td>1.0</td>\n",
       "      <td>0.0</td>\n",
       "      <td>0.0</td>\n",
       "      <td>0.0</td>\n",
       "      <td>0.0</td>\n",
       "      <td>0.0</td>\n",
       "      <td>0.0</td>\n",
       "      <td>-1</td>\n",
       "    </tr>\n",
       "    <tr>\n",
       "      <th>1</th>\n",
       "      <td>0.0</td>\n",
       "      <td>0.0</td>\n",
       "      <td>0.0</td>\n",
       "      <td>1.0</td>\n",
       "      <td>0.0</td>\n",
       "      <td>0.0</td>\n",
       "      <td>0.0</td>\n",
       "      <td>0.0</td>\n",
       "      <td>0.0</td>\n",
       "      <td>0.0</td>\n",
       "      <td>1.0</td>\n",
       "      <td>0.0</td>\n",
       "      <td>0.0</td>\n",
       "      <td>0.0</td>\n",
       "      <td>0.0</td>\n",
       "      <td>0.0</td>\n",
       "      <td>0.0</td>\n",
       "      <td>1.0</td>\n",
       "      <td>0.0</td>\n",
       "      <td>0.0</td>\n",
       "      <td>0.0</td>\n",
       "      <td>0.0</td>\n",
       "      <td>0.0</td>\n",
       "      <td>0.0</td>\n",
       "      <td>0.0</td>\n",
       "      <td>0.0</td>\n",
       "      <td>1.0</td>\n",
       "      <td>0.0</td>\n",
       "      <td>1</td>\n",
       "    </tr>\n",
       "    <tr>\n",
       "      <th>2</th>\n",
       "      <td>0.0</td>\n",
       "      <td>0.0</td>\n",
       "      <td>0.0</td>\n",
       "      <td>0.0</td>\n",
       "      <td>1.0</td>\n",
       "      <td>0.0</td>\n",
       "      <td>0.0</td>\n",
       "      <td>0.0</td>\n",
       "      <td>0.0</td>\n",
       "      <td>0.0</td>\n",
       "      <td>1.0</td>\n",
       "      <td>0.0</td>\n",
       "      <td>0.0</td>\n",
       "      <td>0.0</td>\n",
       "      <td>1.0</td>\n",
       "      <td>0.0</td>\n",
       "      <td>0.0</td>\n",
       "      <td>0.0</td>\n",
       "      <td>0.0</td>\n",
       "      <td>0.0</td>\n",
       "      <td>0.0</td>\n",
       "      <td>1.0</td>\n",
       "      <td>0.0</td>\n",
       "      <td>0.0</td>\n",
       "      <td>0.0</td>\n",
       "      <td>0.0</td>\n",
       "      <td>0.0</td>\n",
       "      <td>0.0</td>\n",
       "      <td>-1</td>\n",
       "    </tr>\n",
       "    <tr>\n",
       "      <th>3</th>\n",
       "      <td>0.0</td>\n",
       "      <td>0.0</td>\n",
       "      <td>0.0</td>\n",
       "      <td>0.0</td>\n",
       "      <td>1.0</td>\n",
       "      <td>0.0</td>\n",
       "      <td>0.0</td>\n",
       "      <td>0.0</td>\n",
       "      <td>1.0</td>\n",
       "      <td>0.0</td>\n",
       "      <td>0.0</td>\n",
       "      <td>0.0</td>\n",
       "      <td>0.0</td>\n",
       "      <td>0.0</td>\n",
       "      <td>1.0</td>\n",
       "      <td>0.0</td>\n",
       "      <td>0.0</td>\n",
       "      <td>0.0</td>\n",
       "      <td>0.0</td>\n",
       "      <td>0.0</td>\n",
       "      <td>0.0</td>\n",
       "      <td>0.0</td>\n",
       "      <td>0.0</td>\n",
       "      <td>0.0</td>\n",
       "      <td>0.0</td>\n",
       "      <td>1.0</td>\n",
       "      <td>0.0</td>\n",
       "      <td>0.0</td>\n",
       "      <td>-1</td>\n",
       "    </tr>\n",
       "    <tr>\n",
       "      <th>4</th>\n",
       "      <td>0.0</td>\n",
       "      <td>0.0</td>\n",
       "      <td>0.0</td>\n",
       "      <td>0.0</td>\n",
       "      <td>0.0</td>\n",
       "      <td>1.0</td>\n",
       "      <td>0.0</td>\n",
       "      <td>0.0</td>\n",
       "      <td>0.0</td>\n",
       "      <td>0.0</td>\n",
       "      <td>0.0</td>\n",
       "      <td>1.0</td>\n",
       "      <td>0.0</td>\n",
       "      <td>0.0</td>\n",
       "      <td>0.0</td>\n",
       "      <td>0.0</td>\n",
       "      <td>0.0</td>\n",
       "      <td>0.0</td>\n",
       "      <td>1.0</td>\n",
       "      <td>0.0</td>\n",
       "      <td>0.0</td>\n",
       "      <td>0.0</td>\n",
       "      <td>0.0</td>\n",
       "      <td>0.0</td>\n",
       "      <td>1.0</td>\n",
       "      <td>0.0</td>\n",
       "      <td>0.0</td>\n",
       "      <td>0.0</td>\n",
       "      <td>1</td>\n",
       "    </tr>\n",
       "    <tr>\n",
       "      <th>...</th>\n",
       "      <td>...</td>\n",
       "      <td>...</td>\n",
       "      <td>...</td>\n",
       "      <td>...</td>\n",
       "      <td>...</td>\n",
       "      <td>...</td>\n",
       "      <td>...</td>\n",
       "      <td>...</td>\n",
       "      <td>...</td>\n",
       "      <td>...</td>\n",
       "      <td>...</td>\n",
       "      <td>...</td>\n",
       "      <td>...</td>\n",
       "      <td>...</td>\n",
       "      <td>...</td>\n",
       "      <td>...</td>\n",
       "      <td>...</td>\n",
       "      <td>...</td>\n",
       "      <td>...</td>\n",
       "      <td>...</td>\n",
       "      <td>...</td>\n",
       "      <td>...</td>\n",
       "      <td>...</td>\n",
       "      <td>...</td>\n",
       "      <td>...</td>\n",
       "      <td>...</td>\n",
       "      <td>...</td>\n",
       "      <td>...</td>\n",
       "      <td>...</td>\n",
       "    </tr>\n",
       "    <tr>\n",
       "      <th>5319</th>\n",
       "      <td>0.0</td>\n",
       "      <td>0.0</td>\n",
       "      <td>0.0</td>\n",
       "      <td>1.0</td>\n",
       "      <td>0.0</td>\n",
       "      <td>0.0</td>\n",
       "      <td>0.0</td>\n",
       "      <td>1.0</td>\n",
       "      <td>0.0</td>\n",
       "      <td>0.0</td>\n",
       "      <td>0.0</td>\n",
       "      <td>0.0</td>\n",
       "      <td>0.0</td>\n",
       "      <td>0.0</td>\n",
       "      <td>0.0</td>\n",
       "      <td>1.0</td>\n",
       "      <td>0.0</td>\n",
       "      <td>0.0</td>\n",
       "      <td>0.0</td>\n",
       "      <td>0.0</td>\n",
       "      <td>0.0</td>\n",
       "      <td>1.0</td>\n",
       "      <td>0.0</td>\n",
       "      <td>0.0</td>\n",
       "      <td>0.0</td>\n",
       "      <td>0.0</td>\n",
       "      <td>0.0</td>\n",
       "      <td>0.0</td>\n",
       "      <td>-1</td>\n",
       "    </tr>\n",
       "    <tr>\n",
       "      <th>5320</th>\n",
       "      <td>0.0</td>\n",
       "      <td>0.0</td>\n",
       "      <td>0.0</td>\n",
       "      <td>0.0</td>\n",
       "      <td>1.0</td>\n",
       "      <td>0.0</td>\n",
       "      <td>0.0</td>\n",
       "      <td>0.0</td>\n",
       "      <td>0.0</td>\n",
       "      <td>0.0</td>\n",
       "      <td>0.0</td>\n",
       "      <td>1.0</td>\n",
       "      <td>0.0</td>\n",
       "      <td>0.0</td>\n",
       "      <td>0.0</td>\n",
       "      <td>0.0</td>\n",
       "      <td>0.0</td>\n",
       "      <td>0.0</td>\n",
       "      <td>0.0</td>\n",
       "      <td>1.0</td>\n",
       "      <td>0.0</td>\n",
       "      <td>1.0</td>\n",
       "      <td>0.0</td>\n",
       "      <td>0.0</td>\n",
       "      <td>0.0</td>\n",
       "      <td>0.0</td>\n",
       "      <td>0.0</td>\n",
       "      <td>0.0</td>\n",
       "      <td>1</td>\n",
       "    </tr>\n",
       "    <tr>\n",
       "      <th>5321</th>\n",
       "      <td>0.0</td>\n",
       "      <td>0.0</td>\n",
       "      <td>0.0</td>\n",
       "      <td>0.0</td>\n",
       "      <td>1.0</td>\n",
       "      <td>0.0</td>\n",
       "      <td>0.0</td>\n",
       "      <td>1.0</td>\n",
       "      <td>0.0</td>\n",
       "      <td>0.0</td>\n",
       "      <td>0.0</td>\n",
       "      <td>0.0</td>\n",
       "      <td>0.0</td>\n",
       "      <td>0.0</td>\n",
       "      <td>0.0</td>\n",
       "      <td>0.0</td>\n",
       "      <td>0.0</td>\n",
       "      <td>1.0</td>\n",
       "      <td>0.0</td>\n",
       "      <td>0.0</td>\n",
       "      <td>0.0</td>\n",
       "      <td>1.0</td>\n",
       "      <td>0.0</td>\n",
       "      <td>0.0</td>\n",
       "      <td>0.0</td>\n",
       "      <td>0.0</td>\n",
       "      <td>0.0</td>\n",
       "      <td>0.0</td>\n",
       "      <td>-1</td>\n",
       "    </tr>\n",
       "    <tr>\n",
       "      <th>5322</th>\n",
       "      <td>1.0</td>\n",
       "      <td>0.0</td>\n",
       "      <td>0.0</td>\n",
       "      <td>0.0</td>\n",
       "      <td>0.0</td>\n",
       "      <td>0.0</td>\n",
       "      <td>0.0</td>\n",
       "      <td>0.0</td>\n",
       "      <td>0.0</td>\n",
       "      <td>1.0</td>\n",
       "      <td>0.0</td>\n",
       "      <td>0.0</td>\n",
       "      <td>0.0</td>\n",
       "      <td>0.0</td>\n",
       "      <td>0.0</td>\n",
       "      <td>0.0</td>\n",
       "      <td>0.0</td>\n",
       "      <td>1.0</td>\n",
       "      <td>0.0</td>\n",
       "      <td>0.0</td>\n",
       "      <td>0.0</td>\n",
       "      <td>0.0</td>\n",
       "      <td>0.0</td>\n",
       "      <td>0.0</td>\n",
       "      <td>0.0</td>\n",
       "      <td>0.0</td>\n",
       "      <td>1.0</td>\n",
       "      <td>0.0</td>\n",
       "      <td>-1</td>\n",
       "    </tr>\n",
       "    <tr>\n",
       "      <th>5323</th>\n",
       "      <td>1.0</td>\n",
       "      <td>0.0</td>\n",
       "      <td>0.0</td>\n",
       "      <td>0.0</td>\n",
       "      <td>0.0</td>\n",
       "      <td>0.0</td>\n",
       "      <td>0.0</td>\n",
       "      <td>0.0</td>\n",
       "      <td>0.0</td>\n",
       "      <td>0.0</td>\n",
       "      <td>0.0</td>\n",
       "      <td>1.0</td>\n",
       "      <td>0.0</td>\n",
       "      <td>0.0</td>\n",
       "      <td>0.0</td>\n",
       "      <td>0.0</td>\n",
       "      <td>0.0</td>\n",
       "      <td>0.0</td>\n",
       "      <td>0.0</td>\n",
       "      <td>1.0</td>\n",
       "      <td>0.0</td>\n",
       "      <td>0.0</td>\n",
       "      <td>0.0</td>\n",
       "      <td>1.0</td>\n",
       "      <td>0.0</td>\n",
       "      <td>0.0</td>\n",
       "      <td>0.0</td>\n",
       "      <td>0.0</td>\n",
       "      <td>-1</td>\n",
       "    </tr>\n",
       "  </tbody>\n",
       "</table>\n",
       "<p>5324 rows × 29 columns</p>\n",
       "</div>"
      ],
      "text/plain": [
       "      x0_H  x0_HH  x0_HHH  x0_T  x0_V  x0_VV  x0_VVV  x1_H  x1_HH  x1_HHH  x1_T  x1_V  x1_VV  x1_VVV  x2_H  x2_HH  x2_HHH  x2_T  x2_V  x2_VV  x2_VVV  x3_H  x3_HH  x3_HHH  x3_T  x3_V  x3_VV  x3_VVV  Winner\n",
       "0      0.0    0.0     0.0   0.0   1.0    0.0     0.0   0.0    0.0     0.0   0.0   1.0    0.0     0.0   0.0    0.0     0.0   1.0   0.0    0.0     0.0   1.0    0.0     0.0   0.0   0.0    0.0     0.0      -1\n",
       "1      0.0    0.0     0.0   1.0   0.0    0.0     0.0   0.0    0.0     0.0   1.0   0.0    0.0     0.0   0.0    0.0     0.0   1.0   0.0    0.0     0.0   0.0    0.0     0.0   0.0   0.0    1.0     0.0       1\n",
       "2      0.0    0.0     0.0   0.0   1.0    0.0     0.0   0.0    0.0     0.0   1.0   0.0    0.0     0.0   1.0    0.0     0.0   0.0   0.0    0.0     0.0   1.0    0.0     0.0   0.0   0.0    0.0     0.0      -1\n",
       "3      0.0    0.0     0.0   0.0   1.0    0.0     0.0   0.0    1.0     0.0   0.0   0.0    0.0     0.0   1.0    0.0     0.0   0.0   0.0    0.0     0.0   0.0    0.0     0.0   0.0   1.0    0.0     0.0      -1\n",
       "4      0.0    0.0     0.0   0.0   0.0    1.0     0.0   0.0    0.0     0.0   0.0   1.0    0.0     0.0   0.0    0.0     0.0   0.0   1.0    0.0     0.0   0.0    0.0     0.0   1.0   0.0    0.0     0.0       1\n",
       "...    ...    ...     ...   ...   ...    ...     ...   ...    ...     ...   ...   ...    ...     ...   ...    ...     ...   ...   ...    ...     ...   ...    ...     ...   ...   ...    ...     ...     ...\n",
       "5319   0.0    0.0     0.0   1.0   0.0    0.0     0.0   1.0    0.0     0.0   0.0   0.0    0.0     0.0   0.0    1.0     0.0   0.0   0.0    0.0     0.0   1.0    0.0     0.0   0.0   0.0    0.0     0.0      -1\n",
       "5320   0.0    0.0     0.0   0.0   1.0    0.0     0.0   0.0    0.0     0.0   0.0   1.0    0.0     0.0   0.0    0.0     0.0   0.0   0.0    1.0     0.0   1.0    0.0     0.0   0.0   0.0    0.0     0.0       1\n",
       "5321   0.0    0.0     0.0   0.0   1.0    0.0     0.0   1.0    0.0     0.0   0.0   0.0    0.0     0.0   0.0    0.0     0.0   1.0   0.0    0.0     0.0   1.0    0.0     0.0   0.0   0.0    0.0     0.0      -1\n",
       "5322   1.0    0.0     0.0   0.0   0.0    0.0     0.0   0.0    0.0     1.0   0.0   0.0    0.0     0.0   0.0    0.0     0.0   1.0   0.0    0.0     0.0   0.0    0.0     0.0   0.0   0.0    1.0     0.0      -1\n",
       "5323   1.0    0.0     0.0   0.0   0.0    0.0     0.0   0.0    0.0     0.0   0.0   1.0    0.0     0.0   0.0    0.0     0.0   0.0   0.0    1.0     0.0   0.0    0.0     1.0   0.0   0.0    0.0     0.0      -1\n",
       "\n",
       "[5324 rows x 29 columns]"
      ]
     },
     "execution_count": 100,
     "metadata": {},
     "output_type": "execute_result"
    }
   ],
   "source": [
    "winner_codes = {\"Winner\":     {\"HW\": -1, \"VW\": 1, \"T\": 0}}\n",
    "quarterly_wins_for_modeling = quarterly_wins_for_modeling.replace(winner_codes)\n",
    "quarterly_wins_for_modeling"
   ]
  },
  {
   "cell_type": "code",
   "execution_count": 34,
   "metadata": {},
   "outputs": [],
   "source": [
    "from sklearn.linear_model import LogisticRegression\n",
    "lr = LogisticRegression()"
   ]
  },
  {
   "cell_type": "code",
   "execution_count": 87,
   "metadata": {},
   "outputs": [
    {
     "data": {
      "text/plain": [
       "Index(['x0_H', 'x0_HH', 'x0_HHH', 'x0_T', 'x0_V', 'x0_VV', 'x0_VVV', 'x1_H',\n",
       "       'x1_HH', 'x1_HHH', 'x1_T', 'x1_V', 'x1_VV', 'x1_VVV', 'x2_H', 'x2_HH',\n",
       "       'x2_HHH', 'x2_T', 'x2_V', 'x2_VV', 'x2_VVV', 'x3_H', 'x3_HH', 'x3_HHH',\n",
       "       'x3_T', 'x3_V', 'x3_VV', 'x3_VVV', 'x4_HW', 'x4_T', 'x4_VW'],\n",
       "      dtype='object')"
      ]
     },
     "execution_count": 87,
     "metadata": {},
     "output_type": "execute_result"
    }
   ],
   "source": [
    "quarterly_wins_encoded.columns"
   ]
  },
  {
   "cell_type": "code",
   "execution_count": 101,
   "metadata": {},
   "outputs": [],
   "source": [
    "X = quarterly_wins_for_modeling[['x0_H', 'x0_HH', 'x0_HHH', 'x0_T', 'x0_V', 'x0_VV', 'x0_VVV']]\n",
    "y = quarterly_wins_for_modeling['Winner']"
   ]
  },
  {
   "cell_type": "code",
   "execution_count": 56,
   "metadata": {},
   "outputs": [],
   "source": [
    "from sklearn.model_selection import train_test_split"
   ]
  },
  {
   "cell_type": "code",
   "execution_count": 102,
   "metadata": {},
   "outputs": [],
   "source": [
    "X_train, X_test, y_train, y_test = train_test_split(X,y, random_state = 32221)"
   ]
  },
  {
   "cell_type": "code",
   "execution_count": 105,
   "metadata": {},
   "outputs": [
    {
     "data": {
      "text/plain": [
       "LogisticRegression()"
      ]
     },
     "execution_count": 105,
     "metadata": {},
     "output_type": "execute_result"
    }
   ],
   "source": [
    "lr.fit(X_train, y_train)"
   ]
  },
  {
   "cell_type": "code",
   "execution_count": 106,
   "metadata": {
    "tags": []
   },
   "outputs": [
    {
     "data": {
      "text/plain": [
       "0.6506386175807664"
      ]
     },
     "execution_count": 106,
     "metadata": {},
     "output_type": "execute_result"
    }
   ],
   "source": [
    "lr.score(X_test, y_test)\n",
    "# Q1 winner correlation"
   ]
  },
  {
   "cell_type": "code",
   "execution_count": 107,
   "metadata": {},
   "outputs": [],
   "source": [
    "X = quarterly_wins_for_modeling[['x1_H',\n",
    "       'x1_HH', 'x1_HHH', 'x1_T', 'x1_V', 'x1_VV', 'x1_VVV']]\n",
    "y = quarterly_wins_for_modeling['Winner']"
   ]
  },
  {
   "cell_type": "code",
   "execution_count": 108,
   "metadata": {},
   "outputs": [],
   "source": [
    "X_train, X_test, y_train, y_test = train_test_split(X,y, random_state = 32221)"
   ]
  },
  {
   "cell_type": "code",
   "execution_count": 109,
   "metadata": {},
   "outputs": [
    {
     "data": {
      "text/plain": [
       "LogisticRegression()"
      ]
     },
     "execution_count": 109,
     "metadata": {},
     "output_type": "execute_result"
    }
   ],
   "source": [
    "lr.fit(X_train, y_train)"
   ]
  },
  {
   "cell_type": "code",
   "execution_count": 110,
   "metadata": {
    "tags": []
   },
   "outputs": [
    {
     "data": {
      "text/plain": [
       "0.6408715251690458"
      ]
     },
     "execution_count": 110,
     "metadata": {},
     "output_type": "execute_result"
    }
   ],
   "source": [
    "lr.score(X_test, y_test)\n",
    "# Q2 winner correlation"
   ]
  },
  {
   "cell_type": "code",
   "execution_count": 111,
   "metadata": {},
   "outputs": [],
   "source": [
    "X = quarterly_wins_for_modeling[['x2_H',\n",
    "       'x2_HH', 'x2_HHH', 'x2_T', 'x2_V', 'x2_VV', 'x2_VVV']]\n",
    "y = quarterly_wins_for_modeling['Winner']"
   ]
  },
  {
   "cell_type": "code",
   "execution_count": 112,
   "metadata": {},
   "outputs": [],
   "source": [
    "X_train, X_test, y_train, y_test = train_test_split(X,y, random_state = 32221)"
   ]
  },
  {
   "cell_type": "code",
   "execution_count": 113,
   "metadata": {},
   "outputs": [
    {
     "data": {
      "text/plain": [
       "LogisticRegression()"
      ]
     },
     "execution_count": 113,
     "metadata": {},
     "output_type": "execute_result"
    }
   ],
   "source": [
    "lr.fit(X_train, y_train)"
   ]
  },
  {
   "cell_type": "code",
   "execution_count": 114,
   "metadata": {
    "tags": []
   },
   "outputs": [
    {
     "data": {
      "text/plain": [
       "0.6198347107438017"
      ]
     },
     "execution_count": 114,
     "metadata": {},
     "output_type": "execute_result"
    }
   ],
   "source": [
    "lr.score(X_test, y_test)\n",
    "# Q3 winner correlation"
   ]
  },
  {
   "cell_type": "code",
   "execution_count": 115,
   "metadata": {
    "tags": []
   },
   "outputs": [],
   "source": [
    "X = quarterly_wins_for_modeling[['x3_H',\n",
    "       'x3_HH', 'x3_HHH', 'x3_T', 'x3_V', 'x3_VV', 'x3_VVV']]\n",
    "y = quarterly_wins_for_modeling['Winner']"
   ]
  },
  {
   "cell_type": "code",
   "execution_count": 116,
   "metadata": {},
   "outputs": [],
   "source": [
    "X_train, X_test, y_train, y_test = train_test_split(X,y, random_state = 32221)"
   ]
  },
  {
   "cell_type": "code",
   "execution_count": 117,
   "metadata": {},
   "outputs": [
    {
     "data": {
      "text/plain": [
       "LogisticRegression()"
      ]
     },
     "execution_count": 117,
     "metadata": {},
     "output_type": "execute_result"
    }
   ],
   "source": [
    "lr.fit(X_train, y_train)"
   ]
  },
  {
   "cell_type": "code",
   "execution_count": 118,
   "metadata": {
    "tags": []
   },
   "outputs": [
    {
     "data": {
      "text/plain": [
       "0.6333583771600301"
      ]
     },
     "execution_count": 118,
     "metadata": {},
     "output_type": "execute_result"
    }
   ],
   "source": [
    "lr.score(X_test, y_test)\n",
    "# Q4 winner correlation"
   ]
  },
  {
   "cell_type": "code",
   "execution_count": 119,
   "metadata": {
    "tags": []
   },
   "outputs": [],
   "source": [
    "#### combos of qtrs"
   ]
  },
  {
   "cell_type": "code",
   "execution_count": 120,
   "metadata": {
    "tags": []
   },
   "outputs": [],
   "source": [
    "X = quarterly_wins_for_modeling[['x0_H', 'x0_HH', 'x0_HHH', 'x0_T', 'x0_V', 'x0_VV', 'x0_VVV', 'x1_H',\n",
    "       'x1_HH', 'x1_HHH', 'x1_T', 'x1_V', 'x1_VV', 'x1_VVV']]\n",
    "y = quarterly_wins_for_modeling['Winner']"
   ]
  },
  {
   "cell_type": "code",
   "execution_count": 121,
   "metadata": {},
   "outputs": [],
   "source": [
    "X_train, X_test, y_train, y_test = train_test_split(X,y, random_state = 32221)"
   ]
  },
  {
   "cell_type": "code",
   "execution_count": 122,
   "metadata": {},
   "outputs": [
    {
     "data": {
      "text/plain": [
       "LogisticRegression()"
      ]
     },
     "execution_count": 122,
     "metadata": {},
     "output_type": "execute_result"
    }
   ],
   "source": [
    "lr.fit(X_train, y_train)"
   ]
  },
  {
   "cell_type": "code",
   "execution_count": 123,
   "metadata": {
    "tags": []
   },
   "outputs": [
    {
     "data": {
      "text/plain": [
       "0.70473328324568"
      ]
     },
     "execution_count": 123,
     "metadata": {},
     "output_type": "execute_result"
    }
   ],
   "source": [
    "lr.score(X_test, y_test)\n",
    "# Q1/Q2 winner correlation"
   ]
  },
  {
   "cell_type": "code",
   "execution_count": 124,
   "metadata": {
    "tags": []
   },
   "outputs": [],
   "source": [
    "X = quarterly_wins_for_modeling[['x1_H',\n",
    "       'x1_HH', 'x1_HHH', 'x1_T', 'x1_V', 'x1_VV', 'x1_VVV', 'x2_H', 'x2_HH',\n",
    "       'x2_HHH', 'x2_T', 'x2_V', 'x2_VV', 'x2_VVV']]\n",
    "y = quarterly_wins_for_modeling['Winner']"
   ]
  },
  {
   "cell_type": "code",
   "execution_count": 125,
   "metadata": {},
   "outputs": [],
   "source": [
    "X_train, X_test, y_train, y_test = train_test_split(X,y, random_state = 32221)"
   ]
  },
  {
   "cell_type": "code",
   "execution_count": 126,
   "metadata": {},
   "outputs": [
    {
     "data": {
      "text/plain": [
       "LogisticRegression()"
      ]
     },
     "execution_count": 126,
     "metadata": {},
     "output_type": "execute_result"
    }
   ],
   "source": [
    "lr.fit(X_train, y_train)"
   ]
  },
  {
   "cell_type": "code",
   "execution_count": 127,
   "metadata": {
    "tags": []
   },
   "outputs": [
    {
     "data": {
      "text/plain": [
       "0.6867017280240421"
      ]
     },
     "execution_count": 127,
     "metadata": {},
     "output_type": "execute_result"
    }
   ],
   "source": [
    "lr.score(X_test, y_test)\n",
    "# Q2/Q3 winner correlation"
   ]
  },
  {
   "cell_type": "code",
   "execution_count": 128,
   "metadata": {
    "tags": []
   },
   "outputs": [],
   "source": [
    "X = quarterly_wins_for_modeling[['x2_H', 'x2_HH',\n",
    "       'x2_HHH', 'x2_T', 'x2_V', 'x2_VV', 'x2_VVV', 'x3_H', 'x3_HH', 'x3_HHH',\n",
    "       'x3_T', 'x3_V', 'x3_VV', 'x3_VVV']]\n",
    "y = quarterly_wins_for_modeling['Winner']"
   ]
  },
  {
   "cell_type": "code",
   "execution_count": 129,
   "metadata": {},
   "outputs": [],
   "source": [
    "X_train, X_test, y_train, y_test = train_test_split(X,y, random_state = 32221)"
   ]
  },
  {
   "cell_type": "code",
   "execution_count": 130,
   "metadata": {},
   "outputs": [
    {
     "data": {
      "text/plain": [
       "LogisticRegression()"
      ]
     },
     "execution_count": 130,
     "metadata": {},
     "output_type": "execute_result"
    }
   ],
   "source": [
    "lr.fit(X_train, y_train)"
   ]
  },
  {
   "cell_type": "code",
   "execution_count": 131,
   "metadata": {
    "tags": []
   },
   "outputs": [
    {
     "data": {
      "text/plain": [
       "0.709992486851991"
      ]
     },
     "execution_count": 131,
     "metadata": {},
     "output_type": "execute_result"
    }
   ],
   "source": [
    "lr.score(X_test, y_test)\n",
    "# Q3/Q4 winner correlation"
   ]
  },
  {
   "cell_type": "code",
   "execution_count": 58,
   "metadata": {},
   "outputs": [],
   "source": []
  },
  {
   "cell_type": "code",
   "execution_count": 132,
   "metadata": {
    "tags": []
   },
   "outputs": [],
   "source": [
    "X = quarterly_wins_for_modeling[['x0_H', 'x0_HH', 'x0_HHH', 'x0_T', 'x0_V', 'x0_VV', 'x0_VVV', 'x1_H',\n",
    "       'x2_H', 'x2_HH',\n",
    "       'x2_HHH', 'x2_T', 'x2_V', 'x2_VV', 'x2_VVV']]\n",
    "y = quarterly_wins_for_modeling['Winner']"
   ]
  },
  {
   "cell_type": "code",
   "execution_count": 133,
   "metadata": {},
   "outputs": [],
   "source": [
    "X_train, X_test, y_train, y_test = train_test_split(X,y, random_state = 32221)"
   ]
  },
  {
   "cell_type": "code",
   "execution_count": 134,
   "metadata": {},
   "outputs": [
    {
     "data": {
      "text/plain": [
       "LogisticRegression()"
      ]
     },
     "execution_count": 134,
     "metadata": {},
     "output_type": "execute_result"
    }
   ],
   "source": [
    "lr.fit(X_train, y_train)"
   ]
  },
  {
   "cell_type": "code",
   "execution_count": 135,
   "metadata": {
    "tags": []
   },
   "outputs": [
    {
     "data": {
      "text/plain": [
       "0.7039819684447783"
      ]
     },
     "execution_count": 135,
     "metadata": {},
     "output_type": "execute_result"
    }
   ],
   "source": [
    "lr.score(X_test, y_test)\n",
    "# Q1/Q3 winner correlation"
   ]
  },
  {
   "cell_type": "code",
   "execution_count": 136,
   "metadata": {
    "tags": []
   },
   "outputs": [],
   "source": [
    "X = quarterly_wins_for_modeling[['x0_H', 'x0_HH', 'x0_HHH', 'x0_T', 'x0_V', 'x0_VV', 'x0_VVV', 'x1_H',\n",
    "        'x3_H', 'x3_HH', 'x3_HHH',\n",
    "       'x3_T', 'x3_V', 'x3_VV', 'x3_VVV']]\n",
    "y = quarterly_wins_for_modeling['Winner']"
   ]
  },
  {
   "cell_type": "code",
   "execution_count": 137,
   "metadata": {},
   "outputs": [],
   "source": [
    "X_train, X_test, y_train, y_test = train_test_split(X,y, random_state = 32221)"
   ]
  },
  {
   "cell_type": "code",
   "execution_count": 138,
   "metadata": {},
   "outputs": [
    {
     "data": {
      "text/plain": [
       "LogisticRegression()"
      ]
     },
     "execution_count": 138,
     "metadata": {},
     "output_type": "execute_result"
    }
   ],
   "source": [
    "lr.fit(X_train, y_train)"
   ]
  },
  {
   "cell_type": "code",
   "execution_count": 139,
   "metadata": {
    "tags": []
   },
   "outputs": [
    {
     "data": {
      "text/plain": [
       "0.6979714500375658"
      ]
     },
     "execution_count": 139,
     "metadata": {},
     "output_type": "execute_result"
    }
   ],
   "source": [
    "lr.score(X_test, y_test)\n",
    "# Q1/Q4 winner correlation"
   ]
  },
  {
   "cell_type": "code",
   "execution_count": 140,
   "metadata": {
    "tags": []
   },
   "outputs": [],
   "source": [
    "X = quarterly_wins_for_modeling[['x1_H',\n",
    "       'x1_HH', 'x1_HHH', 'x1_T', 'x1_V', 'x1_VV', 'x1_VVV', 'x3_H', 'x3_HH', 'x3_HHH',\n",
    "       'x3_T', 'x3_V', 'x3_VV', 'x3_VVV']]\n",
    "y = quarterly_wins_for_modeling['Winner']"
   ]
  },
  {
   "cell_type": "code",
   "execution_count": 141,
   "metadata": {},
   "outputs": [],
   "source": [
    "X_train, X_test, y_train, y_test = train_test_split(X,y, random_state = 32221)"
   ]
  },
  {
   "cell_type": "code",
   "execution_count": 142,
   "metadata": {},
   "outputs": [
    {
     "data": {
      "text/plain": [
       "LogisticRegression()"
      ]
     },
     "execution_count": 142,
     "metadata": {},
     "output_type": "execute_result"
    }
   ],
   "source": [
    "lr.fit(X_train, y_train)"
   ]
  },
  {
   "cell_type": "code",
   "execution_count": 143,
   "metadata": {
    "tags": []
   },
   "outputs": [
    {
     "data": {
      "text/plain": [
       "0.6912096168294516"
      ]
     },
     "execution_count": 143,
     "metadata": {},
     "output_type": "execute_result"
    }
   ],
   "source": [
    "lr.score(X_test, y_test)\n",
    "# Q2/Q4 winner correlation"
   ]
  },
  {
   "cell_type": "code",
   "execution_count": null,
   "metadata": {},
   "outputs": [],
   "source": [
    "#### combos of 3 qtrs"
   ]
  },
  {
   "cell_type": "code",
   "execution_count": 144,
   "metadata": {
    "tags": []
   },
   "outputs": [],
   "source": [
    "X = quarterly_wins_for_modeling[['x0_H', 'x0_HH', 'x0_HHH', 'x0_T', 'x0_V', 'x0_VV', 'x0_VVV', 'x1_H',\n",
    "       'x1_HH', 'x1_HHH', 'x1_T', 'x1_V', 'x1_VV', 'x1_VVV', 'x2_H', 'x2_HH',\n",
    "       'x2_HHH', 'x2_T', 'x2_V', 'x2_VV', 'x2_VVV']]\n",
    "y = quarterly_wins_for_modeling['Winner']"
   ]
  },
  {
   "cell_type": "code",
   "execution_count": 145,
   "metadata": {},
   "outputs": [],
   "source": [
    "X_train, X_test, y_train, y_test = train_test_split(X,y, random_state = 32221)"
   ]
  },
  {
   "cell_type": "code",
   "execution_count": 146,
   "metadata": {},
   "outputs": [
    {
     "data": {
      "text/plain": [
       "LogisticRegression()"
      ]
     },
     "execution_count": 146,
     "metadata": {},
     "output_type": "execute_result"
    }
   ],
   "source": [
    "lr.fit(X_train, y_train)"
   ]
  },
  {
   "cell_type": "code",
   "execution_count": 147,
   "metadata": {
    "tags": []
   },
   "outputs": [
    {
     "data": {
      "text/plain": [
       "0.7603305785123967"
      ]
     },
     "execution_count": 147,
     "metadata": {},
     "output_type": "execute_result"
    }
   ],
   "source": [
    "lr.score(X_test, y_test)\n",
    "# Q1/Q2/Q3 winner correlation"
   ]
  },
  {
   "cell_type": "code",
   "execution_count": 148,
   "metadata": {
    "tags": []
   },
   "outputs": [],
   "source": [
    "X = quarterly_wins_for_modeling[['x0_H', 'x0_HH', 'x0_HHH', 'x0_T', 'x0_V', 'x0_VV', 'x0_VVV', 'x2_H', 'x2_HH',\n",
    "       'x2_HHH', 'x2_T', 'x2_V', 'x2_VV', 'x2_VVV', 'x3_H', 'x3_HH', 'x3_HHH',\n",
    "       'x3_T', 'x3_V', 'x3_VV', 'x3_VVV']]\n",
    "y = quarterly_wins_for_modeling['Winner']"
   ]
  },
  {
   "cell_type": "code",
   "execution_count": 149,
   "metadata": {},
   "outputs": [],
   "source": [
    "X_train, X_test, y_train, y_test = train_test_split(X,y, random_state = 32221)"
   ]
  },
  {
   "cell_type": "code",
   "execution_count": 150,
   "metadata": {},
   "outputs": [
    {
     "data": {
      "text/plain": [
       "LogisticRegression()"
      ]
     },
     "execution_count": 150,
     "metadata": {},
     "output_type": "execute_result"
    }
   ],
   "source": [
    "lr.fit(X_train, y_train)"
   ]
  },
  {
   "cell_type": "code",
   "execution_count": 151,
   "metadata": {
    "tags": []
   },
   "outputs": [
    {
     "data": {
      "text/plain": [
       "0.7768595041322314"
      ]
     },
     "execution_count": 151,
     "metadata": {},
     "output_type": "execute_result"
    }
   ],
   "source": [
    "lr.score(X_test, y_test)\n",
    "# Q1/Q3/Q4 winner correlation"
   ]
  },
  {
   "cell_type": "code",
   "execution_count": 152,
   "metadata": {
    "tags": []
   },
   "outputs": [],
   "source": [
    "X = quarterly_wins_for_modeling[['x0_H', 'x0_HH', 'x0_HHH', 'x0_T', 'x0_V', 'x0_VV', 'x0_VVV', 'x1_H',\n",
    "       'x1_HH', 'x1_HHH', 'x1_T', 'x1_V', 'x1_VV', 'x1_VVV', 'x3_H', 'x3_HH', 'x3_HHH',\n",
    "       'x3_T', 'x3_V', 'x3_VV', 'x3_VVV']]\n",
    "y = quarterly_wins_for_modeling['Winner']"
   ]
  },
  {
   "cell_type": "code",
   "execution_count": 153,
   "metadata": {},
   "outputs": [],
   "source": [
    "X_train, X_test, y_train, y_test = train_test_split(X,y, random_state = 32221)"
   ]
  },
  {
   "cell_type": "code",
   "execution_count": 154,
   "metadata": {},
   "outputs": [
    {
     "data": {
      "text/plain": [
       "LogisticRegression()"
      ]
     },
     "execution_count": 154,
     "metadata": {},
     "output_type": "execute_result"
    }
   ],
   "source": [
    "lr.fit(X_train, y_train)"
   ]
  },
  {
   "cell_type": "code",
   "execution_count": 155,
   "metadata": {
    "tags": []
   },
   "outputs": [
    {
     "data": {
      "text/plain": [
       "0.7768595041322314"
      ]
     },
     "execution_count": 155,
     "metadata": {},
     "output_type": "execute_result"
    }
   ],
   "source": [
    "lr.score(X_test, y_test)\n",
    "# Q1/Q2/Q4 winner correlation"
   ]
  },
  {
   "cell_type": "code",
   "execution_count": 156,
   "metadata": {
    "tags": []
   },
   "outputs": [],
   "source": [
    "X = quarterly_wins_for_modeling[['x1_H',\n",
    "       'x1_HH', 'x1_HHH', 'x1_T', 'x1_V', 'x1_VV', 'x1_VVV', 'x2_H', 'x2_HH',\n",
    "       'x2_HHH', 'x2_T', 'x2_V', 'x2_VV', 'x2_VVV', 'x3_H', 'x3_HH', 'x3_HHH',\n",
    "       'x3_T', 'x3_V', 'x3_VV', 'x3_VVV']]\n",
    "y = quarterly_wins_for_modeling['Winner']"
   ]
  },
  {
   "cell_type": "code",
   "execution_count": 157,
   "metadata": {},
   "outputs": [],
   "source": [
    "X_train, X_test, y_train, y_test = train_test_split(X,y, random_state = 32221)"
   ]
  },
  {
   "cell_type": "code",
   "execution_count": 158,
   "metadata": {},
   "outputs": [
    {
     "data": {
      "text/plain": [
       "LogisticRegression()"
      ]
     },
     "execution_count": 158,
     "metadata": {},
     "output_type": "execute_result"
    }
   ],
   "source": [
    "lr.fit(X_train, y_train)"
   ]
  },
  {
   "cell_type": "code",
   "execution_count": 159,
   "metadata": {
    "tags": []
   },
   "outputs": [
    {
     "data": {
      "text/plain": [
       "0.7670924117205109"
      ]
     },
     "execution_count": 159,
     "metadata": {},
     "output_type": "execute_result"
    }
   ],
   "source": [
    "lr.score(X_test, y_test)\n",
    "# Q2/Q3/Q4 winner correlation"
   ]
  },
  {
   "cell_type": "code",
   "execution_count": 160,
   "metadata": {},
   "outputs": [],
   "source": [
    "X = quarterly_wins_for_modeling[['x0_H', 'x0_HH', 'x0_HHH', 'x0_T', 'x0_V', 'x0_VV', 'x0_VVV', 'x1_H',\n",
    "       'x1_HH', 'x1_HHH', 'x1_T', 'x1_V', 'x1_VV', 'x1_VVV', 'x2_H', 'x2_HH',\n",
    "       'x2_HHH', 'x2_T', 'x2_V', 'x2_VV', 'x2_VVV', 'x3_H', 'x3_HH', 'x3_HHH',\n",
    "       'x3_T', 'x3_V', 'x3_VV', 'x3_VVV']]\n",
    "y = quarterly_wins_for_modeling['Winner']"
   ]
  },
  {
   "cell_type": "code",
   "execution_count": null,
   "metadata": {},
   "outputs": [],
   "source": []
  },
  {
   "cell_type": "code",
   "execution_count": 161,
   "metadata": {},
   "outputs": [],
   "source": [
    "X_train, X_test, y_train, y_test = train_test_split(X,y, random_state = 32221)"
   ]
  },
  {
   "cell_type": "code",
   "execution_count": 162,
   "metadata": {},
   "outputs": [
    {
     "data": {
      "text/plain": [
       "LogisticRegression()"
      ]
     },
     "execution_count": 162,
     "metadata": {},
     "output_type": "execute_result"
    }
   ],
   "source": [
    "lr.fit(X_train, y_train)"
   ]
  },
  {
   "cell_type": "code",
   "execution_count": 163,
   "metadata": {
    "tags": []
   },
   "outputs": [
    {
     "data": {
      "text/plain": [
       "0.864763335837716"
      ]
     },
     "execution_count": 163,
     "metadata": {},
     "output_type": "execute_result"
    }
   ],
   "source": [
    "lr.score(X_test, y_test)\n",
    "# Q1/Q2/Q3/Q4 winner correlation"
   ]
  },
  {
   "cell_type": "code",
   "execution_count": null,
   "metadata": {},
   "outputs": [],
   "source": [
    "# X clumps: Q1, Q2, Q3, Q4, Q1/Q2, Q2/Q3, Q3/Q4, Q1/Q3, Q1/Q4, Q2/Q4,\n",
    "#           Q1/Q3/Q4, Q1/Q2/Q4, Q2/Q3/Q4, Q1/Q2/Q3, Q1/Q2/Q3/Q4\n",
    "for model in range(1,clumps):\n",
    "    X = data[model]\n",
    "    y = data[target]\n",
    "    X_train, X_test, y_train, y_test = train_test_split(X,y, random_state = 32221)\n",
    "    forest = RandomForestClassifier() # change estimator each time\n",
    "    # and GridSearch here?\n",
    "    forest.fit(X_train, y_train)\n",
    "    forest.score(X_test, y_test)\n",
    "    record.append(clump, modelname, forest.score)"
   ]
  },
  {
   "cell_type": "code",
   "execution_count": null,
   "metadata": {},
   "outputs": [],
   "source": [
    "# then subset by week of the season\n",
    "# then subset by year (or combos of years)\n",
    "# then subset by team (perhaps by home and away)\n",
    "# ???"
   ]
  },
  {
   "cell_type": "code",
   "execution_count": 170,
   "metadata": {},
   "outputs": [
    {
     "data": {
      "text/html": [
       "<div>\n",
       "<style scoped>\n",
       "    .dataframe tbody tr th:only-of-type {\n",
       "        vertical-align: middle;\n",
       "    }\n",
       "\n",
       "    .dataframe tbody tr th {\n",
       "        vertical-align: top;\n",
       "    }\n",
       "\n",
       "    .dataframe thead th {\n",
       "        text-align: right;\n",
       "    }\n",
       "</style>\n",
       "<table border=\"1\" class=\"dataframe\">\n",
       "  <thead>\n",
       "    <tr style=\"text-align: right;\">\n",
       "      <th></th>\n",
       "      <th>combo</th>\n",
       "      <th>accuracy</th>\n",
       "    </tr>\n",
       "  </thead>\n",
       "  <tbody>\n",
       "    <tr>\n",
       "      <th>0</th>\n",
       "      <td># Q1 winner correlation</td>\n",
       "      <td>0.650639</td>\n",
       "    </tr>\n",
       "    <tr>\n",
       "      <th>1</th>\n",
       "      <td># Q2 winner correlation</td>\n",
       "      <td>0.640872</td>\n",
       "    </tr>\n",
       "    <tr>\n",
       "      <th>2</th>\n",
       "      <td># Q3 winner correlation</td>\n",
       "      <td>0.619835</td>\n",
       "    </tr>\n",
       "    <tr>\n",
       "      <th>3</th>\n",
       "      <td># Q4 winner correlation</td>\n",
       "      <td>0.633358</td>\n",
       "    </tr>\n",
       "    <tr>\n",
       "      <th>4</th>\n",
       "      <td># Q1/Q2 winner correlation</td>\n",
       "      <td>0.704733</td>\n",
       "    </tr>\n",
       "    <tr>\n",
       "      <th>5</th>\n",
       "      <td># Q2/Q3 winner correlation</td>\n",
       "      <td>0.686702</td>\n",
       "    </tr>\n",
       "    <tr>\n",
       "      <th>6</th>\n",
       "      <td># Q3/Q4 winner correlation</td>\n",
       "      <td>0.709992</td>\n",
       "    </tr>\n",
       "    <tr>\n",
       "      <th>7</th>\n",
       "      <td># Q1/Q3 winner correlation</td>\n",
       "      <td>0.703982</td>\n",
       "    </tr>\n",
       "    <tr>\n",
       "      <th>8</th>\n",
       "      <td># Q1/Q4 winner correlation</td>\n",
       "      <td>0.697971</td>\n",
       "    </tr>\n",
       "    <tr>\n",
       "      <th>9</th>\n",
       "      <td># Q2/Q4 winner correlation</td>\n",
       "      <td>0.691210</td>\n",
       "    </tr>\n",
       "    <tr>\n",
       "      <th>10</th>\n",
       "      <td># Q1/Q2/Q3 winner correlation</td>\n",
       "      <td>0.760331</td>\n",
       "    </tr>\n",
       "    <tr>\n",
       "      <th>11</th>\n",
       "      <td># Q1/Q3/Q4 winner correlation</td>\n",
       "      <td>0.776860</td>\n",
       "    </tr>\n",
       "    <tr>\n",
       "      <th>12</th>\n",
       "      <td># Q1/Q2/Q4 winner correlation</td>\n",
       "      <td>0.776860</td>\n",
       "    </tr>\n",
       "    <tr>\n",
       "      <th>13</th>\n",
       "      <td># Q2/Q3/Q4 winner correlation</td>\n",
       "      <td>0.767092</td>\n",
       "    </tr>\n",
       "    <tr>\n",
       "      <th>14</th>\n",
       "      <td># Q1/Q2/Q3/Q4 winner correlation</td>\n",
       "      <td>0.864763</td>\n",
       "    </tr>\n",
       "  </tbody>\n",
       "</table>\n",
       "</div>"
      ],
      "text/plain": [
       "                               combo  accuracy\n",
       "0            # Q1 winner correlation  0.650639\n",
       "1            # Q2 winner correlation  0.640872\n",
       "2            # Q3 winner correlation  0.619835\n",
       "3            # Q4 winner correlation  0.633358\n",
       "4         # Q1/Q2 winner correlation  0.704733\n",
       "5         # Q2/Q3 winner correlation  0.686702\n",
       "6         # Q3/Q4 winner correlation  0.709992\n",
       "7         # Q1/Q3 winner correlation  0.703982\n",
       "8         # Q1/Q4 winner correlation  0.697971\n",
       "9         # Q2/Q4 winner correlation  0.691210\n",
       "10     # Q1/Q2/Q3 winner correlation  0.760331\n",
       "11     # Q1/Q3/Q4 winner correlation  0.776860\n",
       "12     # Q1/Q2/Q4 winner correlation  0.776860\n",
       "13     # Q2/Q3/Q4 winner correlation  0.767092\n",
       "14  # Q1/Q2/Q3/Q4 winner correlation  0.864763"
      ]
     },
     "execution_count": 170,
     "metadata": {},
     "output_type": "execute_result"
    }
   ],
   "source": [
    "qlr = pd.read_csv('data/QtrsLogisitcRegression.csv')\n",
    "qlr"
   ]
  },
  {
   "cell_type": "code",
   "execution_count": 171,
   "metadata": {},
   "outputs": [
    {
     "data": {
      "text/plain": [
       "[<matplotlib.lines.Line2D at 0x14a36c9a5b0>]"
      ]
     },
     "execution_count": 171,
     "metadata": {},
     "output_type": "execute_result"
    },
    {
     "data": {
      "image/png": "[encoded data removed]",
      "text/plain": [
       "<Figure size 432x288 with 1 Axes>"
      ]
     },
     "metadata": {
      "needs_background": "light"
     },
     "output_type": "display_data"
    }
   ],
   "source": [
    "import matplotlib.pyplot as plt\n",
    "plt.plot(qlr['combo'],qlr['accuracy'])"
   ]
  },
  {
   "cell_type": "code",
   "execution_count": 172,
   "metadata": {},
   "outputs": [],
   "source": [
    "quarterly_wins_for_modeling.to_csv('data/Quarterly_Wins-for_Modeling.csv', index=False)"
   ]
  },
  {
   "cell_type": "code",
   "execution_count": null,
   "metadata": {},
   "outputs": [],
   "source": []
  }
 ],
 "metadata": {
  "kernelspec": {
   "display_name": "Python 3",
   "language": "python",
   "name": "python3"
  },
  "language_info": {
   "codemirror_mode": {
    "name": "ipython",
    "version": 3
   },
   "file_extension": ".py",
   "mimetype": "text/x-python",
   "name": "python",
   "nbconvert_exporter": "python",
   "pygments_lexer": "ipython3",
   "version": "3.8.8"
  }
 },
 "nbformat": 4,
 "nbformat_minor": 4
}
